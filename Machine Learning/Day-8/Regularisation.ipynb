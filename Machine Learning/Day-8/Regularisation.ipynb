{
 "cells": [
  {
   "cell_type": "code",
   "execution_count": 1,
   "id": "d6c9b580",
   "metadata": {},
   "outputs": [],
   "source": [
    "import pandas as pd\n",
    "import numpy as np\n",
    "from sklearn.linear_model import Ridge,LinearRegression,Lasso,ElasticNet\n",
    "from sklearn.metrics import r2_score\n",
    "from sklearn.model_selection import train_test_split"
   ]
  },
  {
   "cell_type": "code",
   "execution_count": 2,
   "id": "796a4d0f",
   "metadata": {},
   "outputs": [],
   "source": [
    "np.set_printoptions(suppress=True)"
   ]
  },
  {
   "cell_type": "code",
   "execution_count": 3,
   "id": "4d8535b0",
   "metadata": {},
   "outputs": [
    {
     "data": {
      "text/html": [
       "<div>\n",
       "<style scoped>\n",
       "    .dataframe tbody tr th:only-of-type {\n",
       "        vertical-align: middle;\n",
       "    }\n",
       "\n",
       "    .dataframe tbody tr th {\n",
       "        vertical-align: top;\n",
       "    }\n",
       "\n",
       "    .dataframe thead th {\n",
       "        text-align: right;\n",
       "    }\n",
       "</style>\n",
       "<table border=\"1\" class=\"dataframe\">\n",
       "  <thead>\n",
       "    <tr style=\"text-align: right;\">\n",
       "      <th></th>\n",
       "      <th>a</th>\n",
       "      <th>b</th>\n",
       "      <th>c</th>\n",
       "      <th>y</th>\n",
       "    </tr>\n",
       "  </thead>\n",
       "  <tbody>\n",
       "    <tr>\n",
       "      <th>0</th>\n",
       "      <td>4045</td>\n",
       "      <td>557</td>\n",
       "      <td>0.74</td>\n",
       "      <td>48</td>\n",
       "    </tr>\n",
       "    <tr>\n",
       "      <th>1</th>\n",
       "      <td>6347</td>\n",
       "      <td>112</td>\n",
       "      <td>0.09</td>\n",
       "      <td>99</td>\n",
       "    </tr>\n",
       "    <tr>\n",
       "      <th>2</th>\n",
       "      <td>3185</td>\n",
       "      <td>318</td>\n",
       "      <td>0.22</td>\n",
       "      <td>84</td>\n",
       "    </tr>\n",
       "    <tr>\n",
       "      <th>3</th>\n",
       "      <td>2069</td>\n",
       "      <td>922</td>\n",
       "      <td>0.64</td>\n",
       "      <td>95</td>\n",
       "    </tr>\n",
       "    <tr>\n",
       "      <th>4</th>\n",
       "      <td>9644</td>\n",
       "      <td>544</td>\n",
       "      <td>0.15</td>\n",
       "      <td>25</td>\n",
       "    </tr>\n",
       "  </tbody>\n",
       "</table>\n",
       "</div>"
      ],
      "text/plain": [
       "      a    b     c   y\n",
       "0  4045  557  0.74  48\n",
       "1  6347  112  0.09  99\n",
       "2  3185  318  0.22  84\n",
       "3  2069  922  0.64  95\n",
       "4  9644  544  0.15  25"
      ]
     },
     "execution_count": 3,
     "metadata": {},
     "output_type": "execute_result"
    }
   ],
   "source": [
    "df = pd.read_csv('regu.csv')\n",
    "df.head()"
   ]
  },
  {
   "cell_type": "code",
   "execution_count": 4,
   "id": "854436b8",
   "metadata": {},
   "outputs": [],
   "source": [
    "x = df.loc[:,:'c']\n",
    "y = df['y']"
   ]
  },
  {
   "cell_type": "code",
   "execution_count": 5,
   "id": "fe3f2668",
   "metadata": {},
   "outputs": [],
   "source": [
    "x_train,x_test,y_train,y_test = train_test_split(x,y,test_size = 0.3,random_state=96)"
   ]
  },
  {
   "cell_type": "code",
   "execution_count": 6,
   "id": "446f97ac",
   "metadata": {},
   "outputs": [],
   "source": [
    "r2 = []"
   ]
  },
  {
   "cell_type": "code",
   "execution_count": 7,
   "id": "3f7aa278",
   "metadata": {},
   "outputs": [
    {
     "name": "stdout",
     "output_type": "stream",
     "text": [
      "[-0.00024807  0.00010452 -3.95098334]\n"
     ]
    }
   ],
   "source": [
    "lin_mod  = LinearRegression()\n",
    "lin_mod.fit(x_train,y_train)\n",
    "coef1 = lin_mod.coef_\n",
    "ypred = lin_mod.predict(x_test)\n",
    "r2.append(r2_score(y_test,ypred))\n",
    "print(coef1)"
   ]
  },
  {
   "cell_type": "code",
   "execution_count": 8,
   "id": "9cc67308",
   "metadata": {},
   "outputs": [
    {
     "name": "stdout",
     "output_type": "stream",
     "text": [
      "[-0.00026218  0.00022084 -0.        ]\n"
     ]
    }
   ],
   "source": [
    "las_mod = Lasso(alpha = 0.5)\n",
    "las_mod.fit(x_train,y_train)\n",
    "coef2 = las_mod.coef_\n",
    "ypred = las_mod.predict(x_test)\n",
    "r2.append(r2_score(y_test,ypred))\n",
    "print(coef2)"
   ]
  },
  {
   "cell_type": "code",
   "execution_count": 9,
   "id": "5152fae6",
   "metadata": {},
   "outputs": [
    {
     "name": "stdout",
     "output_type": "stream",
     "text": [
      "[-0.00024819  0.00010557 -3.91744087]\n"
     ]
    }
   ],
   "source": [
    "rid_mod = Ridge(alpha = 0.5)\n",
    "rid_mod.fit(x_train,y_train)\n",
    "coef3 = rid_mod.coef_\n",
    "ypred = rid_mod.predict(x_test)\n",
    "r2.append(r2_score(y_test,ypred))\n",
    "print(coef3)"
   ]
  },
  {
   "cell_type": "code",
   "execution_count": 10,
   "id": "cfed549d",
   "metadata": {},
   "outputs": [
    {
     "name": "stdout",
     "output_type": "stream",
     "text": [
      "[-0.00026136  0.00021709 -0.23875667]\n"
     ]
    }
   ],
   "source": [
    "el_mod = ElasticNet(alpha = 0.5)\n",
    "el_mod.fit(x_train,y_train)\n",
    "coef4 = el_mod.coef_\n",
    "ypred = el_mod.predict(x_test)\n",
    "r2.append(r2_score(y_test,ypred))\n",
    "print(coef4)"
   ]
  },
  {
   "cell_type": "code",
   "execution_count": 11,
   "id": "c78ef55d",
   "metadata": {},
   "outputs": [],
   "source": [
    "tab = pd.DataFrame({'Model':['Linear','Lasso','Ridge','Elastic Net'],'B1':[coef1[0],coef2[0],coef3[0],coef4[0]], 'B2' :[coef1[1],coef2[1],coef3[1],coef4[1]],'B3': [coef1[2],coef2[2],coef3[2],coef4[2]]})\n"
   ]
  },
  {
   "cell_type": "code",
   "execution_count": 12,
   "id": "4a0be977",
   "metadata": {},
   "outputs": [
    {
     "data": {
      "text/html": [
       "<div>\n",
       "<style scoped>\n",
       "    .dataframe tbody tr th:only-of-type {\n",
       "        vertical-align: middle;\n",
       "    }\n",
       "\n",
       "    .dataframe tbody tr th {\n",
       "        vertical-align: top;\n",
       "    }\n",
       "\n",
       "    .dataframe thead th {\n",
       "        text-align: right;\n",
       "    }\n",
       "</style>\n",
       "<table border=\"1\" class=\"dataframe\">\n",
       "  <thead>\n",
       "    <tr style=\"text-align: right;\">\n",
       "      <th></th>\n",
       "      <th>Model</th>\n",
       "      <th>B1</th>\n",
       "      <th>B2</th>\n",
       "      <th>B3</th>\n",
       "    </tr>\n",
       "  </thead>\n",
       "  <tbody>\n",
       "    <tr>\n",
       "      <th>0</th>\n",
       "      <td>Linear</td>\n",
       "      <td>-0.000248</td>\n",
       "      <td>0.000105</td>\n",
       "      <td>-3.950983</td>\n",
       "    </tr>\n",
       "    <tr>\n",
       "      <th>1</th>\n",
       "      <td>Lasso</td>\n",
       "      <td>-0.000262</td>\n",
       "      <td>0.000221</td>\n",
       "      <td>-0.000000</td>\n",
       "    </tr>\n",
       "    <tr>\n",
       "      <th>2</th>\n",
       "      <td>Ridge</td>\n",
       "      <td>-0.000248</td>\n",
       "      <td>0.000106</td>\n",
       "      <td>-3.917441</td>\n",
       "    </tr>\n",
       "    <tr>\n",
       "      <th>3</th>\n",
       "      <td>Elastic Net</td>\n",
       "      <td>-0.000261</td>\n",
       "      <td>0.000217</td>\n",
       "      <td>-0.238757</td>\n",
       "    </tr>\n",
       "  </tbody>\n",
       "</table>\n",
       "</div>"
      ],
      "text/plain": [
       "         Model        B1        B2        B3\n",
       "0       Linear -0.000248  0.000105 -3.950983\n",
       "1        Lasso -0.000262  0.000221 -0.000000\n",
       "2        Ridge -0.000248  0.000106 -3.917441\n",
       "3  Elastic Net -0.000261  0.000217 -0.238757"
      ]
     },
     "execution_count": 12,
     "metadata": {},
     "output_type": "execute_result"
    }
   ],
   "source": [
    "tab"
   ]
  },
  {
   "cell_type": "code",
   "execution_count": 13,
   "id": "16c3e903",
   "metadata": {},
   "outputs": [
    {
     "data": {
      "text/html": [
       "<div>\n",
       "<style scoped>\n",
       "    .dataframe tbody tr th:only-of-type {\n",
       "        vertical-align: middle;\n",
       "    }\n",
       "\n",
       "    .dataframe tbody tr th {\n",
       "        vertical-align: top;\n",
       "    }\n",
       "\n",
       "    .dataframe thead th {\n",
       "        text-align: right;\n",
       "    }\n",
       "</style>\n",
       "<table border=\"1\" class=\"dataframe\">\n",
       "  <thead>\n",
       "    <tr style=\"text-align: right;\">\n",
       "      <th></th>\n",
       "      <th>Model</th>\n",
       "      <th>B1</th>\n",
       "      <th>B2</th>\n",
       "      <th>B3</th>\n",
       "      <th>r2_score</th>\n",
       "    </tr>\n",
       "  </thead>\n",
       "  <tbody>\n",
       "    <tr>\n",
       "      <th>0</th>\n",
       "      <td>Linear</td>\n",
       "      <td>-0.000248</td>\n",
       "      <td>0.000105</td>\n",
       "      <td>-3.950983</td>\n",
       "      <td>0.004934</td>\n",
       "    </tr>\n",
       "    <tr>\n",
       "      <th>1</th>\n",
       "      <td>Lasso</td>\n",
       "      <td>-0.000262</td>\n",
       "      <td>0.000221</td>\n",
       "      <td>-0.000000</td>\n",
       "      <td>-0.000048</td>\n",
       "    </tr>\n",
       "    <tr>\n",
       "      <th>2</th>\n",
       "      <td>Ridge</td>\n",
       "      <td>-0.000248</td>\n",
       "      <td>0.000106</td>\n",
       "      <td>-3.917441</td>\n",
       "      <td>0.004905</td>\n",
       "    </tr>\n",
       "    <tr>\n",
       "      <th>3</th>\n",
       "      <td>Elastic Net</td>\n",
       "      <td>-0.000261</td>\n",
       "      <td>0.000217</td>\n",
       "      <td>-0.238757</td>\n",
       "      <td>0.000344</td>\n",
       "    </tr>\n",
       "  </tbody>\n",
       "</table>\n",
       "</div>"
      ],
      "text/plain": [
       "         Model        B1        B2        B3  r2_score\n",
       "0       Linear -0.000248  0.000105 -3.950983  0.004934\n",
       "1        Lasso -0.000262  0.000221 -0.000000 -0.000048\n",
       "2        Ridge -0.000248  0.000106 -3.917441  0.004905\n",
       "3  Elastic Net -0.000261  0.000217 -0.238757  0.000344"
      ]
     },
     "execution_count": 13,
     "metadata": {},
     "output_type": "execute_result"
    }
   ],
   "source": [
    "tab['r2_score'] = r2\n",
    "tab"
   ]
  }
 ],
 "metadata": {
  "kernelspec": {
   "display_name": "Python 3 (ipykernel)",
   "language": "python",
   "name": "python3"
  },
  "language_info": {
   "codemirror_mode": {
    "name": "ipython",
    "version": 3
   },
   "file_extension": ".py",
   "mimetype": "text/x-python",
   "name": "python",
   "nbconvert_exporter": "python",
   "pygments_lexer": "ipython3",
   "version": "3.9.13"
  }
 },
 "nbformat": 4,
 "nbformat_minor": 5
}
