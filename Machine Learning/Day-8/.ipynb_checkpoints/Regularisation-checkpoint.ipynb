{
 "cells": [
  {
   "cell_type": "code",
   "execution_count": 1,
   "id": "1349fb74",
   "metadata": {},
   "outputs": [],
   "source": [
    "import pandas as pd\n",
    "import numpy as np\n",
    "from sklearn.linear_model import Ridge,LinearRegression,Lasso\n",
    "from sklearn.metrics import r2_score\n",
    "from sklearn.model_selection import train_test_split"
   ]
  },
  {
   "cell_type": "code",
   "execution_count": 2,
   "id": "daa0d4a7",
   "metadata": {},
   "outputs": [],
   "source": [
    "np.set_printoptions(suppress=True)"
   ]
  },
  {
   "cell_type": "code",
   "execution_count": 3,
   "id": "25302ce2",
   "metadata": {},
   "outputs": [
    {
     "data": {
      "text/html": [
       "<div>\n",
       "<style scoped>\n",
       "    .dataframe tbody tr th:only-of-type {\n",
       "        vertical-align: middle;\n",
       "    }\n",
       "\n",
       "    .dataframe tbody tr th {\n",
       "        vertical-align: top;\n",
       "    }\n",
       "\n",
       "    .dataframe thead th {\n",
       "        text-align: right;\n",
       "    }\n",
       "</style>\n",
       "<table border=\"1\" class=\"dataframe\">\n",
       "  <thead>\n",
       "    <tr style=\"text-align: right;\">\n",
       "      <th></th>\n",
       "      <th>a</th>\n",
       "      <th>b</th>\n",
       "      <th>c</th>\n",
       "      <th>y</th>\n",
       "    </tr>\n",
       "  </thead>\n",
       "  <tbody>\n",
       "    <tr>\n",
       "      <th>0</th>\n",
       "      <td>4045</td>\n",
       "      <td>557</td>\n",
       "      <td>0.74</td>\n",
       "      <td>48</td>\n",
       "    </tr>\n",
       "    <tr>\n",
       "      <th>1</th>\n",
       "      <td>6347</td>\n",
       "      <td>112</td>\n",
       "      <td>0.09</td>\n",
       "      <td>99</td>\n",
       "    </tr>\n",
       "    <tr>\n",
       "      <th>2</th>\n",
       "      <td>3185</td>\n",
       "      <td>318</td>\n",
       "      <td>0.22</td>\n",
       "      <td>84</td>\n",
       "    </tr>\n",
       "    <tr>\n",
       "      <th>3</th>\n",
       "      <td>2069</td>\n",
       "      <td>922</td>\n",
       "      <td>0.64</td>\n",
       "      <td>95</td>\n",
       "    </tr>\n",
       "    <tr>\n",
       "      <th>4</th>\n",
       "      <td>9644</td>\n",
       "      <td>544</td>\n",
       "      <td>0.15</td>\n",
       "      <td>25</td>\n",
       "    </tr>\n",
       "  </tbody>\n",
       "</table>\n",
       "</div>"
      ],
      "text/plain": [
       "      a    b     c   y\n",
       "0  4045  557  0.74  48\n",
       "1  6347  112  0.09  99\n",
       "2  3185  318  0.22  84\n",
       "3  2069  922  0.64  95\n",
       "4  9644  544  0.15  25"
      ]
     },
     "execution_count": 3,
     "metadata": {},
     "output_type": "execute_result"
    }
   ],
   "source": [
    "df = pd.read_csv('regu.csv')\n",
    "df.head()"
   ]
  },
  {
   "cell_type": "code",
   "execution_count": 4,
   "id": "c21edf99",
   "metadata": {},
   "outputs": [],
   "source": [
    "x = df.loc[:,:'c']\n",
    "y = df['y']"
   ]
  },
  {
   "cell_type": "code",
   "execution_count": 5,
   "id": "642e3277",
   "metadata": {},
   "outputs": [],
   "source": [
    "x_train,x_test,y_train,y_test = train_test_split(x,y,test_size = 0.3,random_state=96)"
   ]
  },
  {
   "cell_type": "code",
   "execution_count": 6,
   "id": "9136266d",
   "metadata": {},
   "outputs": [
    {
     "name": "stdout",
     "output_type": "stream",
     "text": [
      "[-0.00024807  0.00010452 -3.95098334]\n"
     ]
    }
   ],
   "source": [
    "lin_mod  = LinearRegression()\n",
    "lin_mod.fit(x_train,y_train)\n",
    "coef1 = lin_mod.coef_\n",
    "print(coef1)"
   ]
  },
  {
   "cell_type": "code",
   "execution_count": 7,
   "id": "d4e1954c",
   "metadata": {},
   "outputs": [
    {
     "name": "stdout",
     "output_type": "stream",
     "text": [
      "[-0.00026213  0.00021338 -0.        ]\n"
     ]
    }
   ],
   "source": [
    "las_mod = Lasso()\n",
    "las_mod.fit(x_train,y_train)\n",
    "coef2 = las_mod.coef_\n",
    "print(coef2)"
   ]
  },
  {
   "cell_type": "code",
   "execution_count": 8,
   "id": "22bad7ad",
   "metadata": {},
   "outputs": [
    {
     "name": "stdout",
     "output_type": "stream",
     "text": [
      "[-0.00024831  0.00010661 -3.88446312]\n"
     ]
    }
   ],
   "source": [
    "rid_mod = Ridge()\n",
    "rid_mod.fit(x_train,y_train)\n",
    "coef3 = rid_mod.coef_\n",
    "print(coef3)"
   ]
  },
  {
   "cell_type": "code",
   "execution_count": 9,
   "id": "17a7f70c",
   "metadata": {},
   "outputs": [],
   "source": [
    "tab = pd.DataFrame({'Model':['Linear','Lasso','Ridge'],'B1':[coef1[0],coef2[0],coef3[0]], 'B2' :[coef1[1],coef2[1],coef3[1]],'B3': [coef1[2],coef2[2],coef3[2]]})\n"
   ]
  },
  {
   "cell_type": "code",
   "execution_count": 10,
   "id": "2e21f84d",
   "metadata": {},
   "outputs": [
    {
     "data": {
      "text/html": [
       "<div>\n",
       "<style scoped>\n",
       "    .dataframe tbody tr th:only-of-type {\n",
       "        vertical-align: middle;\n",
       "    }\n",
       "\n",
       "    .dataframe tbody tr th {\n",
       "        vertical-align: top;\n",
       "    }\n",
       "\n",
       "    .dataframe thead th {\n",
       "        text-align: right;\n",
       "    }\n",
       "</style>\n",
       "<table border=\"1\" class=\"dataframe\">\n",
       "  <thead>\n",
       "    <tr style=\"text-align: right;\">\n",
       "      <th></th>\n",
       "      <th>Model</th>\n",
       "      <th>B1</th>\n",
       "      <th>B2</th>\n",
       "      <th>B3</th>\n",
       "    </tr>\n",
       "  </thead>\n",
       "  <tbody>\n",
       "    <tr>\n",
       "      <th>0</th>\n",
       "      <td>Linear</td>\n",
       "      <td>-0.000248</td>\n",
       "      <td>0.000105</td>\n",
       "      <td>-3.950983</td>\n",
       "    </tr>\n",
       "    <tr>\n",
       "      <th>1</th>\n",
       "      <td>Lasso</td>\n",
       "      <td>-0.000262</td>\n",
       "      <td>0.000213</td>\n",
       "      <td>-0.000000</td>\n",
       "    </tr>\n",
       "    <tr>\n",
       "      <th>2</th>\n",
       "      <td>Ridge</td>\n",
       "      <td>-0.000248</td>\n",
       "      <td>0.000107</td>\n",
       "      <td>-3.884463</td>\n",
       "    </tr>\n",
       "  </tbody>\n",
       "</table>\n",
       "</div>"
      ],
      "text/plain": [
       "    Model        B1        B2        B3\n",
       "0  Linear -0.000248  0.000105 -3.950983\n",
       "1   Lasso -0.000262  0.000213 -0.000000\n",
       "2   Ridge -0.000248  0.000107 -3.884463"
      ]
     },
     "execution_count": 10,
     "metadata": {},
     "output_type": "execute_result"
    }
   ],
   "source": [
    "tab"
   ]
  },
  {
   "cell_type": "code",
   "execution_count": null,
   "id": "9fe8df06",
   "metadata": {},
   "outputs": [],
   "source": []
  }
 ],
 "metadata": {
  "kernelspec": {
   "display_name": "Python 3 (ipykernel)",
   "language": "python",
   "name": "python3"
  },
  "language_info": {
   "codemirror_mode": {
    "name": "ipython",
    "version": 3
   },
   "file_extension": ".py",
   "mimetype": "text/x-python",
   "name": "python",
   "nbconvert_exporter": "python",
   "pygments_lexer": "ipython3",
   "version": "3.9.13"
  }
 },
 "nbformat": 4,
 "nbformat_minor": 5
}
