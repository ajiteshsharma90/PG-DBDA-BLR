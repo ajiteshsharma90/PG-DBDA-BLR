{
 "cells": [
  {
   "cell_type": "code",
   "execution_count": 1,
   "id": "9e583602",
   "metadata": {},
   "outputs": [],
   "source": [
    "import pandas as pd\n",
    "import numpy as np\n",
    "import pickle\n",
    "from sklearn.linear_model import LinearRegression\n",
    "from sklearn.svm import SVC\n",
    "from sklearn.metrics import r2_score,accuracy_score\n",
    "from sklearn.model_selection import train_test_split"
   ]
  },
  {
   "cell_type": "code",
   "execution_count": 2,
   "id": "fefee132",
   "metadata": {},
   "outputs": [],
   "source": [
    "df1 = pd.read_csv('Stud_part1.csv')\n",
    "df2 = pd.read_csv('Stud_part2.csv')"
   ]
  },
  {
   "cell_type": "code",
   "execution_count": 3,
   "id": "9b41eaf2",
   "metadata": {},
   "outputs": [
    {
     "data": {
      "text/html": [
       "<div>\n",
       "<style scoped>\n",
       "    .dataframe tbody tr th:only-of-type {\n",
       "        vertical-align: middle;\n",
       "    }\n",
       "\n",
       "    .dataframe tbody tr th {\n",
       "        vertical-align: top;\n",
       "    }\n",
       "\n",
       "    .dataframe thead th {\n",
       "        text-align: right;\n",
       "    }\n",
       "</style>\n",
       "<table border=\"1\" class=\"dataframe\">\n",
       "  <thead>\n",
       "    <tr style=\"text-align: right;\">\n",
       "      <th></th>\n",
       "      <th>regnum</th>\n",
       "      <th>name</th>\n",
       "      <th>attendance</th>\n",
       "      <th>theorymarks</th>\n",
       "    </tr>\n",
       "  </thead>\n",
       "  <tbody>\n",
       "    <tr>\n",
       "      <th>0</th>\n",
       "      <td>100</td>\n",
       "      <td>ravi</td>\n",
       "      <td>80</td>\n",
       "      <td>85</td>\n",
       "    </tr>\n",
       "    <tr>\n",
       "      <th>1</th>\n",
       "      <td>101</td>\n",
       "      <td>manu</td>\n",
       "      <td>50</td>\n",
       "      <td>60</td>\n",
       "    </tr>\n",
       "    <tr>\n",
       "      <th>2</th>\n",
       "      <td>102</td>\n",
       "      <td>raja</td>\n",
       "      <td>32</td>\n",
       "      <td>50</td>\n",
       "    </tr>\n",
       "    <tr>\n",
       "      <th>3</th>\n",
       "      <td>103</td>\n",
       "      <td>manu</td>\n",
       "      <td>85</td>\n",
       "      <td>80</td>\n",
       "    </tr>\n",
       "    <tr>\n",
       "      <th>4</th>\n",
       "      <td>104</td>\n",
       "      <td>arun</td>\n",
       "      <td>86</td>\n",
       "      <td>70</td>\n",
       "    </tr>\n",
       "  </tbody>\n",
       "</table>\n",
       "</div>"
      ],
      "text/plain": [
       "   regnum  name  attendance  theorymarks\n",
       "0     100  ravi          80           85\n",
       "1     101  manu          50           60\n",
       "2     102  raja          32           50\n",
       "3     103  manu          85           80\n",
       "4     104  arun          86           70"
      ]
     },
     "execution_count": 3,
     "metadata": {},
     "output_type": "execute_result"
    }
   ],
   "source": [
    "df1.head()"
   ]
  },
  {
   "cell_type": "code",
   "execution_count": 4,
   "id": "64492c8f",
   "metadata": {},
   "outputs": [
    {
     "data": {
      "text/html": [
       "<div>\n",
       "<style scoped>\n",
       "    .dataframe tbody tr th:only-of-type {\n",
       "        vertical-align: middle;\n",
       "    }\n",
       "\n",
       "    .dataframe tbody tr th {\n",
       "        vertical-align: top;\n",
       "    }\n",
       "\n",
       "    .dataframe thead th {\n",
       "        text-align: right;\n",
       "    }\n",
       "</style>\n",
       "<table border=\"1\" class=\"dataframe\">\n",
       "  <thead>\n",
       "    <tr style=\"text-align: right;\">\n",
       "      <th></th>\n",
       "      <th>regnum</th>\n",
       "      <th>city</th>\n",
       "      <th>studyhours</th>\n",
       "      <th>cgpa</th>\n",
       "    </tr>\n",
       "  </thead>\n",
       "  <tbody>\n",
       "    <tr>\n",
       "      <th>0</th>\n",
       "      <td>100</td>\n",
       "      <td>blr</td>\n",
       "      <td>3</td>\n",
       "      <td>4</td>\n",
       "    </tr>\n",
       "    <tr>\n",
       "      <th>1</th>\n",
       "      <td>101</td>\n",
       "      <td>chn</td>\n",
       "      <td>3</td>\n",
       "      <td>9</td>\n",
       "    </tr>\n",
       "    <tr>\n",
       "      <th>2</th>\n",
       "      <td>102</td>\n",
       "      <td>hyd</td>\n",
       "      <td>8</td>\n",
       "      <td>7</td>\n",
       "    </tr>\n",
       "    <tr>\n",
       "      <th>3</th>\n",
       "      <td>103</td>\n",
       "      <td>mum</td>\n",
       "      <td>3</td>\n",
       "      <td>6</td>\n",
       "    </tr>\n",
       "    <tr>\n",
       "      <th>4</th>\n",
       "      <td>104</td>\n",
       "      <td>del</td>\n",
       "      <td>1</td>\n",
       "      <td>7</td>\n",
       "    </tr>\n",
       "  </tbody>\n",
       "</table>\n",
       "</div>"
      ],
      "text/plain": [
       "   regnum city studyhours cgpa\n",
       "0     100  blr          3    4\n",
       "1     101  chn          3    9\n",
       "2     102  hyd          8    7\n",
       "3     103  mum          3    6\n",
       "4     104  del          1    7"
      ]
     },
     "execution_count": 4,
     "metadata": {},
     "output_type": "execute_result"
    }
   ],
   "source": [
    "df2.head()"
   ]
  },
  {
   "cell_type": "code",
   "execution_count": 5,
   "id": "ce75e4a4",
   "metadata": {},
   "outputs": [
    {
     "data": {
      "text/plain": [
       "array(['1', '1500', '2', '3', '4', '5', '6', '7', '8', 'data', 'one'],\n",
       "      dtype=object)"
      ]
     },
     "execution_count": 5,
     "metadata": {},
     "output_type": "execute_result"
    }
   ],
   "source": [
    "np.unique(df2['studyhours'])"
   ]
  },
  {
   "cell_type": "code",
   "execution_count": 6,
   "id": "8c1d4fe5",
   "metadata": {},
   "outputs": [],
   "source": [
    "df2['studyhours'] = df2['studyhours'].replace(['1500','data','one'],np.nan)\n",
    "df2['studyhours'].fillna(df2['studyhours'].median(),inplace=True)\n",
    "df2['studyhours']=df2['studyhours'].astype(int)"
   ]
  },
  {
   "cell_type": "code",
   "execution_count": 7,
   "id": "297cafde",
   "metadata": {},
   "outputs": [
    {
     "data": {
      "text/plain": [
       "array([1, 2, 3, 4, 5, 6, 7, 8])"
      ]
     },
     "execution_count": 7,
     "metadata": {},
     "output_type": "execute_result"
    }
   ],
   "source": [
    "np.unique(df2['studyhours'])"
   ]
  },
  {
   "cell_type": "code",
   "execution_count": 8,
   "id": "895f73d3",
   "metadata": {},
   "outputs": [
    {
     "data": {
      "text/plain": [
       "array(['4', '5', '6', '7', '8', '800', '9', 'data', 'two'], dtype=object)"
      ]
     },
     "execution_count": 8,
     "metadata": {},
     "output_type": "execute_result"
    }
   ],
   "source": [
    "np.unique(df2['cgpa'])"
   ]
  },
  {
   "cell_type": "code",
   "execution_count": 9,
   "id": "2df9b040",
   "metadata": {},
   "outputs": [],
   "source": [
    "df2['cgpa'] = df2['cgpa'].replace(['800','data','two'], np.nan)\n",
    "df2['cgpa'].fillna(df2['cgpa'].median(), inplace  = True)\n",
    "df2['cgpa'] = df2['cgpa'].astype(int)"
   ]
  },
  {
   "cell_type": "code",
   "execution_count": 10,
   "id": "7fd2adb8",
   "metadata": {},
   "outputs": [
    {
     "name": "stdout",
     "output_type": "stream",
     "text": [
      "<class 'pandas.core.frame.DataFrame'>\n",
      "RangeIndex: 53 entries, 0 to 52\n",
      "Data columns (total 4 columns):\n",
      " #   Column      Non-Null Count  Dtype \n",
      "---  ------      --------------  ----- \n",
      " 0   regnum      53 non-null     int64 \n",
      " 1   city        53 non-null     object\n",
      " 2   studyhours  53 non-null     int32 \n",
      " 3   cgpa        53 non-null     int32 \n",
      "dtypes: int32(2), int64(1), object(1)\n",
      "memory usage: 1.4+ KB\n"
     ]
    }
   ],
   "source": [
    "df2.info()"
   ]
  },
  {
   "cell_type": "code",
   "execution_count": 11,
   "id": "f32b8935",
   "metadata": {},
   "outputs": [],
   "source": [
    "df = pd.merge(df1,df2, on = 'regnum', how = 'inner')"
   ]
  },
  {
   "cell_type": "code",
   "execution_count": 12,
   "id": "2fdd782f",
   "metadata": {},
   "outputs": [
    {
     "data": {
      "text/html": [
       "<div>\n",
       "<style scoped>\n",
       "    .dataframe tbody tr th:only-of-type {\n",
       "        vertical-align: middle;\n",
       "    }\n",
       "\n",
       "    .dataframe tbody tr th {\n",
       "        vertical-align: top;\n",
       "    }\n",
       "\n",
       "    .dataframe thead th {\n",
       "        text-align: right;\n",
       "    }\n",
       "</style>\n",
       "<table border=\"1\" class=\"dataframe\">\n",
       "  <thead>\n",
       "    <tr style=\"text-align: right;\">\n",
       "      <th></th>\n",
       "      <th>regnum</th>\n",
       "      <th>name</th>\n",
       "      <th>attendance</th>\n",
       "      <th>theorymarks</th>\n",
       "      <th>city</th>\n",
       "      <th>studyhours</th>\n",
       "      <th>cgpa</th>\n",
       "    </tr>\n",
       "  </thead>\n",
       "  <tbody>\n",
       "    <tr>\n",
       "      <th>0</th>\n",
       "      <td>100</td>\n",
       "      <td>ravi</td>\n",
       "      <td>80</td>\n",
       "      <td>85</td>\n",
       "      <td>blr</td>\n",
       "      <td>3</td>\n",
       "      <td>4</td>\n",
       "    </tr>\n",
       "    <tr>\n",
       "      <th>1</th>\n",
       "      <td>101</td>\n",
       "      <td>manu</td>\n",
       "      <td>50</td>\n",
       "      <td>60</td>\n",
       "      <td>chn</td>\n",
       "      <td>3</td>\n",
       "      <td>9</td>\n",
       "    </tr>\n",
       "    <tr>\n",
       "      <th>2</th>\n",
       "      <td>102</td>\n",
       "      <td>raja</td>\n",
       "      <td>32</td>\n",
       "      <td>50</td>\n",
       "      <td>hyd</td>\n",
       "      <td>8</td>\n",
       "      <td>7</td>\n",
       "    </tr>\n",
       "    <tr>\n",
       "      <th>3</th>\n",
       "      <td>103</td>\n",
       "      <td>manu</td>\n",
       "      <td>85</td>\n",
       "      <td>80</td>\n",
       "      <td>mum</td>\n",
       "      <td>3</td>\n",
       "      <td>6</td>\n",
       "    </tr>\n",
       "    <tr>\n",
       "      <th>4</th>\n",
       "      <td>104</td>\n",
       "      <td>arun</td>\n",
       "      <td>86</td>\n",
       "      <td>70</td>\n",
       "      <td>del</td>\n",
       "      <td>1</td>\n",
       "      <td>7</td>\n",
       "    </tr>\n",
       "  </tbody>\n",
       "</table>\n",
       "</div>"
      ],
      "text/plain": [
       "   regnum  name  attendance  theorymarks city  studyhours  cgpa\n",
       "0     100  ravi          80           85  blr           3     4\n",
       "1     101  manu          50           60  chn           3     9\n",
       "2     102  raja          32           50  hyd           8     7\n",
       "3     103  manu          85           80  mum           3     6\n",
       "4     104  arun          86           70  del           1     7"
      ]
     },
     "execution_count": 12,
     "metadata": {},
     "output_type": "execute_result"
    }
   ],
   "source": [
    "df.head()"
   ]
  },
  {
   "cell_type": "code",
   "execution_count": 13,
   "id": "7e6214db",
   "metadata": {},
   "outputs": [],
   "source": [
    "df = pd.get_dummies(df, columns=['city'])"
   ]
  },
  {
   "cell_type": "code",
   "execution_count": 14,
   "id": "523ec925",
   "metadata": {},
   "outputs": [
    {
     "data": {
      "text/plain": [
       "Index(['regnum', 'name', 'attendance', 'theorymarks', 'studyhours', 'cgpa',\n",
       "       'city_blr', 'city_chn', 'city_del', 'city_hyd', 'city_jaipur',\n",
       "       'city_mum', 'city_noida', 'city_pune'],\n",
       "      dtype='object')"
      ]
     },
     "execution_count": 14,
     "metadata": {},
     "output_type": "execute_result"
    }
   ],
   "source": [
    "df.columns"
   ]
  },
  {
   "cell_type": "code",
   "execution_count": 15,
   "id": "3d73cb71",
   "metadata": {},
   "outputs": [],
   "source": [
    "x = df[['attendance', 'theorymarks', 'studyhours']]\n",
    "y = df['cgpa']"
   ]
  },
  {
   "cell_type": "code",
   "execution_count": 16,
   "id": "e6e09df7",
   "metadata": {},
   "outputs": [],
   "source": [
    "x_train,x_test,y_train,y_test = train_test_split(x,y,test_size = 0.3,random_state=100)"
   ]
  },
  {
   "cell_type": "code",
   "execution_count": 17,
   "id": "3c3e736b",
   "metadata": {},
   "outputs": [
    {
     "data": {
      "text/plain": [
       "0.1875"
      ]
     },
     "execution_count": 17,
     "metadata": {},
     "output_type": "execute_result"
    }
   ],
   "source": [
    "mod1 = SVC()\n",
    "mod1.fit(x_train,y_train)\n",
    "ypred = mod1.predict(x_test)\n",
    "accuracy_score(y_test,ypred)"
   ]
  },
  {
   "cell_type": "code",
   "execution_count": 18,
   "id": "05acbb6d",
   "metadata": {},
   "outputs": [
    {
     "data": {
      "text/plain": [
       "-0.01168590734806485"
      ]
     },
     "execution_count": 18,
     "metadata": {},
     "output_type": "execute_result"
    }
   ],
   "source": [
    "mod2 = LinearRegression()\n",
    "mod2.fit(x_train,y_train)\n",
    "ypred = mod2.predict(x_test)\n",
    "r2_score(y_test,ypred)"
   ]
  },
  {
   "cell_type": "code",
   "execution_count": 19,
   "id": "167fe72c",
   "metadata": {},
   "outputs": [],
   "source": [
    "with open('model.pkl','wb') as fw:\n",
    "    pickle.dump(mod1,fw)"
   ]
  }
 ],
 "metadata": {
  "kernelspec": {
   "display_name": "Python 3 (ipykernel)",
   "language": "python",
   "name": "python3"
  },
  "language_info": {
   "codemirror_mode": {
    "name": "ipython",
    "version": 3
   },
   "file_extension": ".py",
   "mimetype": "text/x-python",
   "name": "python",
   "nbconvert_exporter": "python",
   "pygments_lexer": "ipython3",
   "version": "3.9.13"
  }
 },
 "nbformat": 4,
 "nbformat_minor": 5
}
