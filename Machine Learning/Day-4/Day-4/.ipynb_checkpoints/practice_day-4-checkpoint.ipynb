{
 "cells": [
  {
   "cell_type": "code",
   "execution_count": 1,
   "id": "44f0f729",
   "metadata": {},
   "outputs": [],
   "source": [
    "import pandas as pd\n",
    "import numpy as np\n",
    "import seaborn as sns\n",
    "import matplotlib.pyplot as plt\n"
   ]
  },
  {
   "cell_type": "code",
   "execution_count": 2,
   "id": "bd201ec5",
   "metadata": {},
   "outputs": [
    {
     "data": {
      "text/html": [
       "<div>\n",
       "<style scoped>\n",
       "    .dataframe tbody tr th:only-of-type {\n",
       "        vertical-align: middle;\n",
       "    }\n",
       "\n",
       "    .dataframe tbody tr th {\n",
       "        vertical-align: top;\n",
       "    }\n",
       "\n",
       "    .dataframe thead th {\n",
       "        text-align: right;\n",
       "    }\n",
       "</style>\n",
       "<table border=\"1\" class=\"dataframe\">\n",
       "  <thead>\n",
       "    <tr style=\"text-align: right;\">\n",
       "      <th></th>\n",
       "      <th>car</th>\n",
       "      <th>topspeed</th>\n",
       "      <th>torque</th>\n",
       "      <th>fuel_economy</th>\n",
       "    </tr>\n",
       "  </thead>\n",
       "  <tbody>\n",
       "    <tr>\n",
       "      <th>0</th>\n",
       "      <td>honda_civic</td>\n",
       "      <td>160</td>\n",
       "      <td>220</td>\n",
       "      <td>12</td>\n",
       "    </tr>\n",
       "    <tr>\n",
       "      <th>1</th>\n",
       "      <td>mustang</td>\n",
       "      <td>220</td>\n",
       "      <td>500</td>\n",
       "      <td>8</td>\n",
       "    </tr>\n",
       "    <tr>\n",
       "      <th>2</th>\n",
       "      <td>Ford Mustang GT</td>\n",
       "      <td>250</td>\n",
       "      <td>530</td>\n",
       "      <td>12</td>\n",
       "    </tr>\n",
       "    <tr>\n",
       "      <th>3</th>\n",
       "      <td>Tesla Model S</td>\n",
       "      <td>322</td>\n",
       "      <td>660</td>\n",
       "      <td>18</td>\n",
       "    </tr>\n",
       "    <tr>\n",
       "      <th>4</th>\n",
       "      <td>BMW M3</td>\n",
       "      <td>290</td>\n",
       "      <td>600</td>\n",
       "      <td>10</td>\n",
       "    </tr>\n",
       "    <tr>\n",
       "      <th>5</th>\n",
       "      <td>Audi RS5</td>\n",
       "      <td>280</td>\n",
       "      <td>600</td>\n",
       "      <td>11</td>\n",
       "    </tr>\n",
       "    <tr>\n",
       "      <th>6</th>\n",
       "      <td>Chevrolet Camaro SS</td>\n",
       "      <td>280</td>\n",
       "      <td>617</td>\n",
       "      <td>13</td>\n",
       "    </tr>\n",
       "    <tr>\n",
       "      <th>7</th>\n",
       "      <td>Porsche 911 Turbo</td>\n",
       "      <td>320</td>\n",
       "      <td>750</td>\n",
       "      <td>9</td>\n",
       "    </tr>\n",
       "    <tr>\n",
       "      <th>8</th>\n",
       "      <td>Ferrari 488 GTB</td>\n",
       "      <td>330</td>\n",
       "      <td>760</td>\n",
       "      <td>12</td>\n",
       "    </tr>\n",
       "    <tr>\n",
       "      <th>9</th>\n",
       "      <td>Lamborghini Huracan</td>\n",
       "      <td>325</td>\n",
       "      <td>600</td>\n",
       "      <td>14</td>\n",
       "    </tr>\n",
       "    <tr>\n",
       "      <th>10</th>\n",
       "      <td>Mercedes AMG GT</td>\n",
       "      <td>310</td>\n",
       "      <td>700</td>\n",
       "      <td>10</td>\n",
       "    </tr>\n",
       "    <tr>\n",
       "      <th>11</th>\n",
       "      <td>Nissan GT-R</td>\n",
       "      <td>315</td>\n",
       "      <td>640</td>\n",
       "      <td>12</td>\n",
       "    </tr>\n",
       "  </tbody>\n",
       "</table>\n",
       "</div>"
      ],
      "text/plain": [
       "                    car  topspeed  torque  fuel_economy\n",
       "0           honda_civic       160     220            12\n",
       "1               mustang       220     500             8\n",
       "2       Ford Mustang GT       250     530            12\n",
       "3         Tesla Model S       322     660            18\n",
       "4                BMW M3       290     600            10\n",
       "5              Audi RS5       280     600            11\n",
       "6   Chevrolet Camaro SS       280     617            13\n",
       "7     Porsche 911 Turbo       320     750             9\n",
       "8       Ferrari 488 GTB       330     760            12\n",
       "9   Lamborghini Huracan       325     600            14\n",
       "10      Mercedes AMG GT       310     700            10\n",
       "11          Nissan GT-R       315     640            12"
      ]
     },
     "execution_count": 2,
     "metadata": {},
     "output_type": "execute_result"
    }
   ],
   "source": [
    "df = pd.read_csv(\"cars.csv\")\n",
    "df"
   ]
  },
  {
   "cell_type": "code",
   "execution_count": 3,
   "id": "17d539be",
   "metadata": {},
   "outputs": [
    {
     "name": "stdout",
     "output_type": "stream",
     "text": [
      "<class 'pandas.core.frame.DataFrame'>\n",
      "RangeIndex: 12 entries, 0 to 11\n",
      "Data columns (total 4 columns):\n",
      " #   Column        Non-Null Count  Dtype \n",
      "---  ------        --------------  ----- \n",
      " 0   car           12 non-null     object\n",
      " 1   topspeed      12 non-null     int64 \n",
      " 2   torque        12 non-null     int64 \n",
      " 3   fuel_economy  12 non-null     int64 \n",
      "dtypes: int64(3), object(1)\n",
      "memory usage: 512.0+ bytes\n"
     ]
    }
   ],
   "source": [
    "df.info()"
   ]
  },
  {
   "cell_type": "code",
   "execution_count": null,
   "id": "7da719c7",
   "metadata": {},
   "outputs": [],
   "source": []
  },
  {
   "cell_type": "code",
   "execution_count": 4,
   "id": "cb4bab5b",
   "metadata": {},
   "outputs": [
    {
     "data": {
      "text/plain": [
       "<seaborn.axisgrid.PairGrid at 0x255a97f57f0>"
      ]
     },
     "execution_count": 4,
     "metadata": {},
     "output_type": "execute_result"
    },
    {
     "data": {
      "image/png": "[encoded data removed]",
      "text/plain": [
       "<Figure size 750x750 with 12 Axes>"
      ]
     },
     "metadata": {},
     "output_type": "display_data"
    }
   ],
   "source": [
    "sns.pairplot(df)"
   ]
  },
  {
   "cell_type": "code",
   "execution_count": 5,
   "id": "f51da0d3",
   "metadata": {},
   "outputs": [
    {
     "data": {
      "image/png": "[encoded data removed]",
      "text/plain": [
       "<Figure size 640x480 with 2 Axes>"
      ]
     },
     "metadata": {},
     "output_type": "display_data"
    }
   ],
   "source": [
    "sns.heatmap(df.corr(), annot = True)\n",
    "plt.show()"
   ]
  },
  {
   "cell_type": "code",
   "execution_count": 6,
   "id": "3ba256e8",
   "metadata": {},
   "outputs": [
    {
     "name": "stdout",
     "output_type": "stream",
     "text": [
      "[[160]\n",
      " [220]\n",
      " [250]\n",
      " [322]\n",
      " [290]\n",
      " [280]\n",
      " [280]\n",
      " [320]\n",
      " [330]\n",
      " [325]\n",
      " [310]\n",
      " [315]] [12  8 12 18 10 11 13  9 12 14 10 12]\n"
     ]
    }
   ],
   "source": [
    "x = np.array(df['topspeed']).reshape(-1,1)\n",
    "y = np.array(df['fuel_economy'])\n",
    "print(x,y)"
   ]
  },
  {
   "cell_type": "code",
   "execution_count": 7,
   "id": "f0c77914",
   "metadata": {},
   "outputs": [
    {
     "data": {
      "text/plain": [
       "(12, 1)"
      ]
     },
     "execution_count": 7,
     "metadata": {},
     "output_type": "execute_result"
    }
   ],
   "source": [
    "x.shape"
   ]
  },
  {
   "cell_type": "code",
   "execution_count": 8,
   "id": "f25845dc",
   "metadata": {},
   "outputs": [
    {
     "data": {
      "text/plain": [
       "(12,)"
      ]
     },
     "execution_count": 8,
     "metadata": {},
     "output_type": "execute_result"
    }
   ],
   "source": [
    "y.shape"
   ]
  },
  {
   "cell_type": "code",
   "execution_count": 9,
   "id": "5cd0f644",
   "metadata": {},
   "outputs": [],
   "source": [
    "from sklearn.linear_model import LinearRegression"
   ]
  },
  {
   "cell_type": "code",
   "execution_count": 10,
   "id": "2dd11bb6",
   "metadata": {},
   "outputs": [],
   "source": [
    "model = LinearRegression()"
   ]
  },
  {
   "cell_type": "code",
   "execution_count": 11,
   "id": "00bf3616",
   "metadata": {},
   "outputs": [
    {
     "data": {
      "text/plain": [
       "LinearRegression()"
      ]
     },
     "execution_count": 11,
     "metadata": {},
     "output_type": "execute_result"
    }
   ],
   "source": [
    "model.fit(x,y)"
   ]
  },
  {
   "cell_type": "code",
   "execution_count": 12,
   "id": "fc0a206b",
   "metadata": {},
   "outputs": [],
   "source": [
    "x_test = np.array([280,255,250,270,300,250,250,341,305,300,250,250,265,270,320]).reshape(-1,1)\n",
    "y_test =np.array([15,12,9,10,12,8,8,13,10,13,8,7,9,7,12])"
   ]
  },
  {
   "cell_type": "code",
   "execution_count": 13,
   "id": "e30b37b0",
   "metadata": {},
   "outputs": [],
   "source": [
    "yhat = model.predict(x_test)"
   ]
  },
  {
   "cell_type": "code",
   "execution_count": 14,
   "id": "7fe2bbf8",
   "metadata": {},
   "outputs": [
    {
     "data": {
      "text/plain": [
       "array([15, 12,  9, 10, 12,  8,  8, 13, 10, 13,  8,  7,  9,  7, 12])"
      ]
     },
     "execution_count": 14,
     "metadata": {},
     "output_type": "execute_result"
    }
   ],
   "source": [
    "y_test"
   ]
  },
  {
   "cell_type": "code",
   "execution_count": 15,
   "id": "727dc24d",
   "metadata": {},
   "outputs": [
    {
     "data": {
      "text/plain": [
       "(15,)"
      ]
     },
     "execution_count": 15,
     "metadata": {},
     "output_type": "execute_result"
    }
   ],
   "source": [
    "y_test.shape"
   ]
  },
  {
   "cell_type": "code",
   "execution_count": 16,
   "id": "9253722d",
   "metadata": {},
   "outputs": [
    {
     "data": {
      "text/plain": [
       "array([11.70241106, 11.36249004, 11.29450584, 11.56644265, 11.97434787,\n",
       "       11.29450584, 11.29450584, 12.53181834, 12.04233207, 11.97434787,\n",
       "       11.29450584, 11.29450584, 11.49845845, 11.56644265, 12.24628468])"
      ]
     },
     "execution_count": 16,
     "metadata": {},
     "output_type": "execute_result"
    }
   ],
   "source": [
    "yhat"
   ]
  },
  {
   "cell_type": "code",
   "execution_count": 17,
   "id": "290fb585",
   "metadata": {},
   "outputs": [
    {
     "data": {
      "text/plain": [
       "(15,)"
      ]
     },
     "execution_count": 17,
     "metadata": {},
     "output_type": "execute_result"
    }
   ],
   "source": [
    "yhat.shape"
   ]
  },
  {
   "cell_type": "code",
   "execution_count": 18,
   "id": "58e49ff8",
   "metadata": {},
   "outputs": [],
   "source": [
    "yhat = yhat.flatten()"
   ]
  },
  {
   "cell_type": "code",
   "execution_count": 19,
   "id": "9c420149",
   "metadata": {},
   "outputs": [
    {
     "data": {
      "text/plain": [
       "(15,)"
      ]
     },
     "execution_count": 19,
     "metadata": {},
     "output_type": "execute_result"
    }
   ],
   "source": [
    "yhat.shape"
   ]
  },
  {
   "cell_type": "code",
   "execution_count": 20,
   "id": "7a3a5be2",
   "metadata": {},
   "outputs": [
    {
     "data": {
      "text/html": [
       "<div>\n",
       "<style scoped>\n",
       "    .dataframe tbody tr th:only-of-type {\n",
       "        vertical-align: middle;\n",
       "    }\n",
       "\n",
       "    .dataframe tbody tr th {\n",
       "        vertical-align: top;\n",
       "    }\n",
       "\n",
       "    .dataframe thead th {\n",
       "        text-align: right;\n",
       "    }\n",
       "</style>\n",
       "<table border=\"1\" class=\"dataframe\">\n",
       "  <thead>\n",
       "    <tr style=\"text-align: right;\">\n",
       "      <th></th>\n",
       "      <th>actual</th>\n",
       "      <th>pred</th>\n",
       "    </tr>\n",
       "  </thead>\n",
       "  <tbody>\n",
       "    <tr>\n",
       "      <th>0</th>\n",
       "      <td>15</td>\n",
       "      <td>11.70</td>\n",
       "    </tr>\n",
       "    <tr>\n",
       "      <th>1</th>\n",
       "      <td>12</td>\n",
       "      <td>11.36</td>\n",
       "    </tr>\n",
       "    <tr>\n",
       "      <th>2</th>\n",
       "      <td>9</td>\n",
       "      <td>11.29</td>\n",
       "    </tr>\n",
       "    <tr>\n",
       "      <th>3</th>\n",
       "      <td>10</td>\n",
       "      <td>11.57</td>\n",
       "    </tr>\n",
       "    <tr>\n",
       "      <th>4</th>\n",
       "      <td>12</td>\n",
       "      <td>11.97</td>\n",
       "    </tr>\n",
       "    <tr>\n",
       "      <th>5</th>\n",
       "      <td>8</td>\n",
       "      <td>11.29</td>\n",
       "    </tr>\n",
       "    <tr>\n",
       "      <th>6</th>\n",
       "      <td>8</td>\n",
       "      <td>11.29</td>\n",
       "    </tr>\n",
       "    <tr>\n",
       "      <th>7</th>\n",
       "      <td>13</td>\n",
       "      <td>12.53</td>\n",
       "    </tr>\n",
       "    <tr>\n",
       "      <th>8</th>\n",
       "      <td>10</td>\n",
       "      <td>12.04</td>\n",
       "    </tr>\n",
       "    <tr>\n",
       "      <th>9</th>\n",
       "      <td>13</td>\n",
       "      <td>11.97</td>\n",
       "    </tr>\n",
       "    <tr>\n",
       "      <th>10</th>\n",
       "      <td>8</td>\n",
       "      <td>11.29</td>\n",
       "    </tr>\n",
       "    <tr>\n",
       "      <th>11</th>\n",
       "      <td>7</td>\n",
       "      <td>11.29</td>\n",
       "    </tr>\n",
       "    <tr>\n",
       "      <th>12</th>\n",
       "      <td>9</td>\n",
       "      <td>11.50</td>\n",
       "    </tr>\n",
       "    <tr>\n",
       "      <th>13</th>\n",
       "      <td>7</td>\n",
       "      <td>11.57</td>\n",
       "    </tr>\n",
       "    <tr>\n",
       "      <th>14</th>\n",
       "      <td>12</td>\n",
       "      <td>12.25</td>\n",
       "    </tr>\n",
       "  </tbody>\n",
       "</table>\n",
       "</div>"
      ],
      "text/plain": [
       "    actual   pred\n",
       "0       15  11.70\n",
       "1       12  11.36\n",
       "2        9  11.29\n",
       "3       10  11.57\n",
       "4       12  11.97\n",
       "5        8  11.29\n",
       "6        8  11.29\n",
       "7       13  12.53\n",
       "8       10  12.04\n",
       "9       13  11.97\n",
       "10       8  11.29\n",
       "11       7  11.29\n",
       "12       9  11.50\n",
       "13       7  11.57\n",
       "14      12  12.25"
      ]
     },
     "execution_count": 20,
     "metadata": {},
     "output_type": "execute_result"
    }
   ],
   "source": [
    "df1 = pd.DataFrame({'actual':y_test, 'pred':np.round(yhat,2)})\n",
    "df1"
   ]
  },
  {
   "cell_type": "code",
   "execution_count": 21,
   "id": "d386994f",
   "metadata": {},
   "outputs": [
    {
     "data": {
      "text/html": [
       "<div>\n",
       "<style scoped>\n",
       "    .dataframe tbody tr th:only-of-type {\n",
       "        vertical-align: middle;\n",
       "    }\n",
       "\n",
       "    .dataframe tbody tr th {\n",
       "        vertical-align: top;\n",
       "    }\n",
       "\n",
       "    .dataframe thead th {\n",
       "        text-align: right;\n",
       "    }\n",
       "</style>\n",
       "<table border=\"1\" class=\"dataframe\">\n",
       "  <thead>\n",
       "    <tr style=\"text-align: right;\">\n",
       "      <th></th>\n",
       "      <th>actual</th>\n",
       "      <th>pred</th>\n",
       "      <th>resid</th>\n",
       "      <th>diff</th>\n",
       "      <th>resid_sq</th>\n",
       "      <th>diff_sq</th>\n",
       "    </tr>\n",
       "  </thead>\n",
       "  <tbody>\n",
       "    <tr>\n",
       "      <th>0</th>\n",
       "      <td>15</td>\n",
       "      <td>11.70</td>\n",
       "      <td>3.30</td>\n",
       "      <td>4.8</td>\n",
       "      <td>10.8900</td>\n",
       "      <td>23.04</td>\n",
       "    </tr>\n",
       "    <tr>\n",
       "      <th>1</th>\n",
       "      <td>12</td>\n",
       "      <td>11.36</td>\n",
       "      <td>0.64</td>\n",
       "      <td>1.8</td>\n",
       "      <td>0.4096</td>\n",
       "      <td>3.24</td>\n",
       "    </tr>\n",
       "    <tr>\n",
       "      <th>2</th>\n",
       "      <td>9</td>\n",
       "      <td>11.29</td>\n",
       "      <td>-2.29</td>\n",
       "      <td>-1.2</td>\n",
       "      <td>5.2441</td>\n",
       "      <td>1.44</td>\n",
       "    </tr>\n",
       "    <tr>\n",
       "      <th>3</th>\n",
       "      <td>10</td>\n",
       "      <td>11.57</td>\n",
       "      <td>-1.57</td>\n",
       "      <td>-0.2</td>\n",
       "      <td>2.4649</td>\n",
       "      <td>0.04</td>\n",
       "    </tr>\n",
       "    <tr>\n",
       "      <th>4</th>\n",
       "      <td>12</td>\n",
       "      <td>11.97</td>\n",
       "      <td>0.03</td>\n",
       "      <td>1.8</td>\n",
       "      <td>0.0009</td>\n",
       "      <td>3.24</td>\n",
       "    </tr>\n",
       "    <tr>\n",
       "      <th>5</th>\n",
       "      <td>8</td>\n",
       "      <td>11.29</td>\n",
       "      <td>-3.29</td>\n",
       "      <td>-2.2</td>\n",
       "      <td>10.8241</td>\n",
       "      <td>4.84</td>\n",
       "    </tr>\n",
       "    <tr>\n",
       "      <th>6</th>\n",
       "      <td>8</td>\n",
       "      <td>11.29</td>\n",
       "      <td>-3.29</td>\n",
       "      <td>-2.2</td>\n",
       "      <td>10.8241</td>\n",
       "      <td>4.84</td>\n",
       "    </tr>\n",
       "    <tr>\n",
       "      <th>7</th>\n",
       "      <td>13</td>\n",
       "      <td>12.53</td>\n",
       "      <td>0.47</td>\n",
       "      <td>2.8</td>\n",
       "      <td>0.2209</td>\n",
       "      <td>7.84</td>\n",
       "    </tr>\n",
       "    <tr>\n",
       "      <th>8</th>\n",
       "      <td>10</td>\n",
       "      <td>12.04</td>\n",
       "      <td>-2.04</td>\n",
       "      <td>-0.2</td>\n",
       "      <td>4.1616</td>\n",
       "      <td>0.04</td>\n",
       "    </tr>\n",
       "    <tr>\n",
       "      <th>9</th>\n",
       "      <td>13</td>\n",
       "      <td>11.97</td>\n",
       "      <td>1.03</td>\n",
       "      <td>2.8</td>\n",
       "      <td>1.0609</td>\n",
       "      <td>7.84</td>\n",
       "    </tr>\n",
       "    <tr>\n",
       "      <th>10</th>\n",
       "      <td>8</td>\n",
       "      <td>11.29</td>\n",
       "      <td>-3.29</td>\n",
       "      <td>-2.2</td>\n",
       "      <td>10.8241</td>\n",
       "      <td>4.84</td>\n",
       "    </tr>\n",
       "    <tr>\n",
       "      <th>11</th>\n",
       "      <td>7</td>\n",
       "      <td>11.29</td>\n",
       "      <td>-4.29</td>\n",
       "      <td>-3.2</td>\n",
       "      <td>18.4041</td>\n",
       "      <td>10.24</td>\n",
       "    </tr>\n",
       "    <tr>\n",
       "      <th>12</th>\n",
       "      <td>9</td>\n",
       "      <td>11.50</td>\n",
       "      <td>-2.50</td>\n",
       "      <td>-1.2</td>\n",
       "      <td>6.2500</td>\n",
       "      <td>1.44</td>\n",
       "    </tr>\n",
       "    <tr>\n",
       "      <th>13</th>\n",
       "      <td>7</td>\n",
       "      <td>11.57</td>\n",
       "      <td>-4.57</td>\n",
       "      <td>-3.2</td>\n",
       "      <td>20.8849</td>\n",
       "      <td>10.24</td>\n",
       "    </tr>\n",
       "    <tr>\n",
       "      <th>14</th>\n",
       "      <td>12</td>\n",
       "      <td>12.25</td>\n",
       "      <td>-0.25</td>\n",
       "      <td>1.8</td>\n",
       "      <td>0.0625</td>\n",
       "      <td>3.24</td>\n",
       "    </tr>\n",
       "  </tbody>\n",
       "</table>\n",
       "</div>"
      ],
      "text/plain": [
       "    actual   pred  resid  diff  resid_sq  diff_sq\n",
       "0       15  11.70   3.30   4.8   10.8900    23.04\n",
       "1       12  11.36   0.64   1.8    0.4096     3.24\n",
       "2        9  11.29  -2.29  -1.2    5.2441     1.44\n",
       "3       10  11.57  -1.57  -0.2    2.4649     0.04\n",
       "4       12  11.97   0.03   1.8    0.0009     3.24\n",
       "5        8  11.29  -3.29  -2.2   10.8241     4.84\n",
       "6        8  11.29  -3.29  -2.2   10.8241     4.84\n",
       "7       13  12.53   0.47   2.8    0.2209     7.84\n",
       "8       10  12.04  -2.04  -0.2    4.1616     0.04\n",
       "9       13  11.97   1.03   2.8    1.0609     7.84\n",
       "10       8  11.29  -3.29  -2.2   10.8241     4.84\n",
       "11       7  11.29  -4.29  -3.2   18.4041    10.24\n",
       "12       9  11.50  -2.50  -1.2    6.2500     1.44\n",
       "13       7  11.57  -4.57  -3.2   20.8849    10.24\n",
       "14      12  12.25  -0.25   1.8    0.0625     3.24"
      ]
     },
     "execution_count": 21,
     "metadata": {},
     "output_type": "execute_result"
    }
   ],
   "source": [
    "df1['resid'] = df1['actual'] - df1['pred']\n",
    "df1['diff'] = df1['actual'] - df1['actual'].mean()  \n",
    "df1['resid_sq'] = df1['resid']**2\n",
    "df1['diff_sq'] = df1['diff']**2\n",
    "df1"
   ]
  },
  {
   "cell_type": "code",
   "execution_count": 22,
   "id": "cf470016",
   "metadata": {},
   "outputs": [
    {
     "data": {
      "text/plain": [
       "11.660666666666664"
      ]
     },
     "execution_count": 22,
     "metadata": {},
     "output_type": "execute_result"
    }
   ],
   "source": [
    "df1['pred'].mean()  "
   ]
  },
  {
   "cell_type": "code",
   "execution_count": 23,
   "id": "484f29f8",
   "metadata": {},
   "outputs": [
    {
     "data": {
      "text/plain": [
       "86.39999999999999"
      ]
     },
     "execution_count": 23,
     "metadata": {},
     "output_type": "execute_result"
    }
   ],
   "source": [
    "rss= sum(df1['resid_sq'])\n",
    "tss = sum(df1['diff_sq'])\n",
    "r2 = 1 -(rss/tss)\n",
    "tss"
   ]
  },
  {
   "cell_type": "code",
   "execution_count": 24,
   "id": "eabdec03",
   "metadata": {},
   "outputs": [
    {
     "data": {
      "text/plain": [
       "102.52669999999996"
      ]
     },
     "execution_count": 24,
     "metadata": {},
     "output_type": "execute_result"
    }
   ],
   "source": [
    "rss"
   ]
  },
  {
   "cell_type": "code",
   "execution_count": 25,
   "id": "d4673fa3",
   "metadata": {},
   "outputs": [
    {
     "data": {
      "text/plain": [
       "-0.18665162037037009"
      ]
     },
     "execution_count": 25,
     "metadata": {},
     "output_type": "execute_result"
    }
   ],
   "source": [
    "r2"
   ]
  },
  {
   "cell_type": "code",
   "execution_count": 26,
   "id": "62739108",
   "metadata": {},
   "outputs": [
    {
     "data": {
      "text/html": [
       "<div>\n",
       "<style scoped>\n",
       "    .dataframe tbody tr th:only-of-type {\n",
       "        vertical-align: middle;\n",
       "    }\n",
       "\n",
       "    .dataframe tbody tr th {\n",
       "        vertical-align: top;\n",
       "    }\n",
       "\n",
       "    .dataframe thead th {\n",
       "        text-align: right;\n",
       "    }\n",
       "</style>\n",
       "<table border=\"1\" class=\"dataframe\">\n",
       "  <thead>\n",
       "    <tr style=\"text-align: right;\">\n",
       "      <th></th>\n",
       "      <th>car</th>\n",
       "      <th>topspeed</th>\n",
       "      <th>torque</th>\n",
       "      <th>fuel_economy</th>\n",
       "    </tr>\n",
       "  </thead>\n",
       "  <tbody>\n",
       "    <tr>\n",
       "      <th>0</th>\n",
       "      <td>honda_civic</td>\n",
       "      <td>160</td>\n",
       "      <td>220</td>\n",
       "      <td>12</td>\n",
       "    </tr>\n",
       "    <tr>\n",
       "      <th>1</th>\n",
       "      <td>mustang</td>\n",
       "      <td>220</td>\n",
       "      <td>500</td>\n",
       "      <td>8</td>\n",
       "    </tr>\n",
       "    <tr>\n",
       "      <th>2</th>\n",
       "      <td>Ford Mustang GT</td>\n",
       "      <td>250</td>\n",
       "      <td>530</td>\n",
       "      <td>12</td>\n",
       "    </tr>\n",
       "    <tr>\n",
       "      <th>3</th>\n",
       "      <td>Tesla Model S</td>\n",
       "      <td>322</td>\n",
       "      <td>660</td>\n",
       "      <td>18</td>\n",
       "    </tr>\n",
       "    <tr>\n",
       "      <th>4</th>\n",
       "      <td>BMW M3</td>\n",
       "      <td>290</td>\n",
       "      <td>600</td>\n",
       "      <td>10</td>\n",
       "    </tr>\n",
       "    <tr>\n",
       "      <th>5</th>\n",
       "      <td>Audi RS5</td>\n",
       "      <td>280</td>\n",
       "      <td>600</td>\n",
       "      <td>11</td>\n",
       "    </tr>\n",
       "    <tr>\n",
       "      <th>6</th>\n",
       "      <td>Chevrolet Camaro SS</td>\n",
       "      <td>280</td>\n",
       "      <td>617</td>\n",
       "      <td>13</td>\n",
       "    </tr>\n",
       "    <tr>\n",
       "      <th>7</th>\n",
       "      <td>Porsche 911 Turbo</td>\n",
       "      <td>320</td>\n",
       "      <td>750</td>\n",
       "      <td>9</td>\n",
       "    </tr>\n",
       "    <tr>\n",
       "      <th>8</th>\n",
       "      <td>Ferrari 488 GTB</td>\n",
       "      <td>330</td>\n",
       "      <td>760</td>\n",
       "      <td>12</td>\n",
       "    </tr>\n",
       "    <tr>\n",
       "      <th>9</th>\n",
       "      <td>Lamborghini Huracan</td>\n",
       "      <td>325</td>\n",
       "      <td>600</td>\n",
       "      <td>14</td>\n",
       "    </tr>\n",
       "    <tr>\n",
       "      <th>10</th>\n",
       "      <td>Mercedes AMG GT</td>\n",
       "      <td>310</td>\n",
       "      <td>700</td>\n",
       "      <td>10</td>\n",
       "    </tr>\n",
       "    <tr>\n",
       "      <th>11</th>\n",
       "      <td>Nissan GT-R</td>\n",
       "      <td>315</td>\n",
       "      <td>640</td>\n",
       "      <td>12</td>\n",
       "    </tr>\n",
       "  </tbody>\n",
       "</table>\n",
       "</div>"
      ],
      "text/plain": [
       "                    car  topspeed  torque  fuel_economy\n",
       "0           honda_civic       160     220            12\n",
       "1               mustang       220     500             8\n",
       "2       Ford Mustang GT       250     530            12\n",
       "3         Tesla Model S       322     660            18\n",
       "4                BMW M3       290     600            10\n",
       "5              Audi RS5       280     600            11\n",
       "6   Chevrolet Camaro SS       280     617            13\n",
       "7     Porsche 911 Turbo       320     750             9\n",
       "8       Ferrari 488 GTB       330     760            12\n",
       "9   Lamborghini Huracan       325     600            14\n",
       "10      Mercedes AMG GT       310     700            10\n",
       "11          Nissan GT-R       315     640            12"
      ]
     },
     "execution_count": 26,
     "metadata": {},
     "output_type": "execute_result"
    }
   ],
   "source": [
    "df4 = pd.read_csv(\"cars.csv\")\n",
    "df4"
   ]
  },
  {
   "cell_type": "code",
   "execution_count": 27,
   "id": "1a267a36",
   "metadata": {},
   "outputs": [
    {
     "data": {
      "image/png": "[encoded data removed]",
      "text/plain": [
       "<Figure size 750x750 with 12 Axes>"
      ]
     },
     "metadata": {},
     "output_type": "display_data"
    }
   ],
   "source": [
    "sns.pairplot(df4)\n",
    "plt.show()"
   ]
  },
  {
   "cell_type": "code",
   "execution_count": 28,
   "id": "2a7e1947",
   "metadata": {},
   "outputs": [
    {
     "data": {
      "image/png": "[encoded data removed]",
      "text/plain": [
       "<Figure size 640x480 with 2 Axes>"
      ]
     },
     "metadata": {},
     "output_type": "display_data"
    }
   ],
   "source": [
    "sns.heatmap(df4.corr(), annot = True)\n",
    "plt.show()"
   ]
  },
  {
   "cell_type": "code",
   "execution_count": 29,
   "id": "16959a52",
   "metadata": {},
   "outputs": [],
   "source": [
    "x1 = np.array(df4['torque']).reshape(-1,1)\n",
    "y1 = np.array(df4['fuel_economy']).reshape(-1,1)"
   ]
  },
  {
   "cell_type": "code",
   "execution_count": 30,
   "id": "b5a059f9",
   "metadata": {},
   "outputs": [],
   "source": [
    "from sklearn.linear_model import LinearRegression"
   ]
  },
  {
   "cell_type": "code",
   "execution_count": 31,
   "id": "c3190fb1",
   "metadata": {},
   "outputs": [],
   "source": [
    "model = LinearRegression()"
   ]
  },
  {
   "cell_type": "code",
   "execution_count": 32,
   "id": "93584705",
   "metadata": {},
   "outputs": [
    {
     "data": {
      "text/plain": [
       "LinearRegression()"
      ]
     },
     "execution_count": 32,
     "metadata": {},
     "output_type": "execute_result"
    }
   ],
   "source": [
    "model.fit(x1,y1)"
   ]
  },
  {
   "cell_type": "code",
   "execution_count": 33,
   "id": "0db3b63d",
   "metadata": {},
   "outputs": [],
   "source": [
    "x1_test = np.array([880,392,353,510,700,500,500,770,685,600,500,400,470,400,650]).reshape(-1,1)\n",
    "y1_test =np.array([15,12,9,10,12,8,8,13,10,13,8,7,9,7,12]).reshape(-1,1)"
   ]
  },
  {
   "cell_type": "code",
   "execution_count": 34,
   "id": "97695c5c",
   "metadata": {},
   "outputs": [],
   "source": [
    "y1hat = model.predict(x1_test)"
   ]
  },
  {
   "cell_type": "code",
   "execution_count": 35,
   "id": "abb5ca33",
   "metadata": {},
   "outputs": [
    {
     "data": {
      "text/html": [
       "<div>\n",
       "<style scoped>\n",
       "    .dataframe tbody tr th:only-of-type {\n",
       "        vertical-align: middle;\n",
       "    }\n",
       "\n",
       "    .dataframe tbody tr th {\n",
       "        vertical-align: top;\n",
       "    }\n",
       "\n",
       "    .dataframe thead th {\n",
       "        text-align: right;\n",
       "    }\n",
       "</style>\n",
       "<table border=\"1\" class=\"dataframe\">\n",
       "  <thead>\n",
       "    <tr style=\"text-align: right;\">\n",
       "      <th></th>\n",
       "      <th>actual</th>\n",
       "      <th>predict</th>\n",
       "    </tr>\n",
       "  </thead>\n",
       "  <tbody>\n",
       "    <tr>\n",
       "      <th>0</th>\n",
       "      <td>15</td>\n",
       "      <td>11.903391</td>\n",
       "    </tr>\n",
       "    <tr>\n",
       "      <th>1</th>\n",
       "      <td>12</td>\n",
       "      <td>11.637870</td>\n",
       "    </tr>\n",
       "    <tr>\n",
       "      <th>2</th>\n",
       "      <td>9</td>\n",
       "      <td>11.616650</td>\n",
       "    </tr>\n",
       "    <tr>\n",
       "      <th>3</th>\n",
       "      <td>10</td>\n",
       "      <td>11.702074</td>\n",
       "    </tr>\n",
       "    <tr>\n",
       "      <th>4</th>\n",
       "      <td>12</td>\n",
       "      <td>11.805453</td>\n",
       "    </tr>\n",
       "    <tr>\n",
       "      <th>5</th>\n",
       "      <td>8</td>\n",
       "      <td>11.696633</td>\n",
       "    </tr>\n",
       "    <tr>\n",
       "      <th>6</th>\n",
       "      <td>8</td>\n",
       "      <td>11.696633</td>\n",
       "    </tr>\n",
       "    <tr>\n",
       "      <th>7</th>\n",
       "      <td>13</td>\n",
       "      <td>11.843540</td>\n",
       "    </tr>\n",
       "    <tr>\n",
       "      <th>8</th>\n",
       "      <td>10</td>\n",
       "      <td>11.797291</td>\n",
       "    </tr>\n",
       "    <tr>\n",
       "      <th>9</th>\n",
       "      <td>13</td>\n",
       "      <td>11.751043</td>\n",
       "    </tr>\n",
       "    <tr>\n",
       "      <th>10</th>\n",
       "      <td>8</td>\n",
       "      <td>11.696633</td>\n",
       "    </tr>\n",
       "    <tr>\n",
       "      <th>11</th>\n",
       "      <td>7</td>\n",
       "      <td>11.642223</td>\n",
       "    </tr>\n",
       "    <tr>\n",
       "      <th>12</th>\n",
       "      <td>9</td>\n",
       "      <td>11.680310</td>\n",
       "    </tr>\n",
       "    <tr>\n",
       "      <th>13</th>\n",
       "      <td>7</td>\n",
       "      <td>11.642223</td>\n",
       "    </tr>\n",
       "    <tr>\n",
       "      <th>14</th>\n",
       "      <td>12</td>\n",
       "      <td>11.778248</td>\n",
       "    </tr>\n",
       "  </tbody>\n",
       "</table>\n",
       "</div>"
      ],
      "text/plain": [
       "    actual    predict\n",
       "0       15  11.903391\n",
       "1       12  11.637870\n",
       "2        9  11.616650\n",
       "3       10  11.702074\n",
       "4       12  11.805453\n",
       "5        8  11.696633\n",
       "6        8  11.696633\n",
       "7       13  11.843540\n",
       "8       10  11.797291\n",
       "9       13  11.751043\n",
       "10       8  11.696633\n",
       "11       7  11.642223\n",
       "12       9  11.680310\n",
       "13       7  11.642223\n",
       "14      12  11.778248"
      ]
     },
     "execution_count": 35,
     "metadata": {},
     "output_type": "execute_result"
    }
   ],
   "source": [
    "df5 = pd.DataFrame({'actual': y1_test.flatten(), 'predict': y1hat.flatten()})\n",
    "df5"
   ]
  },
  {
   "cell_type": "code",
   "execution_count": 36,
   "id": "3da27f0b",
   "metadata": {},
   "outputs": [
    {
     "data": {
      "text/html": [
       "<div>\n",
       "<style scoped>\n",
       "    .dataframe tbody tr th:only-of-type {\n",
       "        vertical-align: middle;\n",
       "    }\n",
       "\n",
       "    .dataframe tbody tr th {\n",
       "        vertical-align: top;\n",
       "    }\n",
       "\n",
       "    .dataframe thead th {\n",
       "        text-align: right;\n",
       "    }\n",
       "</style>\n",
       "<table border=\"1\" class=\"dataframe\">\n",
       "  <thead>\n",
       "    <tr style=\"text-align: right;\">\n",
       "      <th></th>\n",
       "      <th>actual</th>\n",
       "      <th>predict</th>\n",
       "      <th>resid</th>\n",
       "      <th>resid_sq</th>\n",
       "      <th>diff</th>\n",
       "      <th>diff_sq</th>\n",
       "    </tr>\n",
       "  </thead>\n",
       "  <tbody>\n",
       "    <tr>\n",
       "      <th>0</th>\n",
       "      <td>15</td>\n",
       "      <td>11.903391</td>\n",
       "      <td>3.096609</td>\n",
       "      <td>9.588988</td>\n",
       "      <td>4.8</td>\n",
       "      <td>23.04</td>\n",
       "    </tr>\n",
       "    <tr>\n",
       "      <th>1</th>\n",
       "      <td>12</td>\n",
       "      <td>11.637870</td>\n",
       "      <td>0.362130</td>\n",
       "      <td>0.131138</td>\n",
       "      <td>1.8</td>\n",
       "      <td>3.24</td>\n",
       "    </tr>\n",
       "    <tr>\n",
       "      <th>2</th>\n",
       "      <td>9</td>\n",
       "      <td>11.616650</td>\n",
       "      <td>-2.616650</td>\n",
       "      <td>6.846858</td>\n",
       "      <td>-1.2</td>\n",
       "      <td>1.44</td>\n",
       "    </tr>\n",
       "    <tr>\n",
       "      <th>3</th>\n",
       "      <td>10</td>\n",
       "      <td>11.702074</td>\n",
       "      <td>-1.702074</td>\n",
       "      <td>2.897055</td>\n",
       "      <td>-0.2</td>\n",
       "      <td>0.04</td>\n",
       "    </tr>\n",
       "    <tr>\n",
       "      <th>4</th>\n",
       "      <td>12</td>\n",
       "      <td>11.805453</td>\n",
       "      <td>0.194547</td>\n",
       "      <td>0.037849</td>\n",
       "      <td>1.8</td>\n",
       "      <td>3.24</td>\n",
       "    </tr>\n",
       "    <tr>\n",
       "      <th>5</th>\n",
       "      <td>8</td>\n",
       "      <td>11.696633</td>\n",
       "      <td>-3.696633</td>\n",
       "      <td>13.665094</td>\n",
       "      <td>-2.2</td>\n",
       "      <td>4.84</td>\n",
       "    </tr>\n",
       "    <tr>\n",
       "      <th>6</th>\n",
       "      <td>8</td>\n",
       "      <td>11.696633</td>\n",
       "      <td>-3.696633</td>\n",
       "      <td>13.665094</td>\n",
       "      <td>-2.2</td>\n",
       "      <td>4.84</td>\n",
       "    </tr>\n",
       "    <tr>\n",
       "      <th>7</th>\n",
       "      <td>13</td>\n",
       "      <td>11.843540</td>\n",
       "      <td>1.156460</td>\n",
       "      <td>1.337400</td>\n",
       "      <td>2.8</td>\n",
       "      <td>7.84</td>\n",
       "    </tr>\n",
       "    <tr>\n",
       "      <th>8</th>\n",
       "      <td>10</td>\n",
       "      <td>11.797291</td>\n",
       "      <td>-1.797291</td>\n",
       "      <td>3.230256</td>\n",
       "      <td>-0.2</td>\n",
       "      <td>0.04</td>\n",
       "    </tr>\n",
       "    <tr>\n",
       "      <th>9</th>\n",
       "      <td>13</td>\n",
       "      <td>11.751043</td>\n",
       "      <td>1.248957</td>\n",
       "      <td>1.559894</td>\n",
       "      <td>2.8</td>\n",
       "      <td>7.84</td>\n",
       "    </tr>\n",
       "    <tr>\n",
       "      <th>10</th>\n",
       "      <td>8</td>\n",
       "      <td>11.696633</td>\n",
       "      <td>-3.696633</td>\n",
       "      <td>13.665094</td>\n",
       "      <td>-2.2</td>\n",
       "      <td>4.84</td>\n",
       "    </tr>\n",
       "    <tr>\n",
       "      <th>11</th>\n",
       "      <td>7</td>\n",
       "      <td>11.642223</td>\n",
       "      <td>-4.642223</td>\n",
       "      <td>21.550232</td>\n",
       "      <td>-3.2</td>\n",
       "      <td>10.24</td>\n",
       "    </tr>\n",
       "    <tr>\n",
       "      <th>12</th>\n",
       "      <td>9</td>\n",
       "      <td>11.680310</td>\n",
       "      <td>-2.680310</td>\n",
       "      <td>7.184061</td>\n",
       "      <td>-1.2</td>\n",
       "      <td>1.44</td>\n",
       "    </tr>\n",
       "    <tr>\n",
       "      <th>13</th>\n",
       "      <td>7</td>\n",
       "      <td>11.642223</td>\n",
       "      <td>-4.642223</td>\n",
       "      <td>21.550232</td>\n",
       "      <td>-3.2</td>\n",
       "      <td>10.24</td>\n",
       "    </tr>\n",
       "    <tr>\n",
       "      <th>14</th>\n",
       "      <td>12</td>\n",
       "      <td>11.778248</td>\n",
       "      <td>0.221752</td>\n",
       "      <td>0.049174</td>\n",
       "      <td>1.8</td>\n",
       "      <td>3.24</td>\n",
       "    </tr>\n",
       "  </tbody>\n",
       "</table>\n",
       "</div>"
      ],
      "text/plain": [
       "    actual    predict     resid   resid_sq  diff  diff_sq\n",
       "0       15  11.903391  3.096609   9.588988   4.8    23.04\n",
       "1       12  11.637870  0.362130   0.131138   1.8     3.24\n",
       "2        9  11.616650 -2.616650   6.846858  -1.2     1.44\n",
       "3       10  11.702074 -1.702074   2.897055  -0.2     0.04\n",
       "4       12  11.805453  0.194547   0.037849   1.8     3.24\n",
       "5        8  11.696633 -3.696633  13.665094  -2.2     4.84\n",
       "6        8  11.696633 -3.696633  13.665094  -2.2     4.84\n",
       "7       13  11.843540  1.156460   1.337400   2.8     7.84\n",
       "8       10  11.797291 -1.797291   3.230256  -0.2     0.04\n",
       "9       13  11.751043  1.248957   1.559894   2.8     7.84\n",
       "10       8  11.696633 -3.696633  13.665094  -2.2     4.84\n",
       "11       7  11.642223 -4.642223  21.550232  -3.2    10.24\n",
       "12       9  11.680310 -2.680310   7.184061  -1.2     1.44\n",
       "13       7  11.642223 -4.642223  21.550232  -3.2    10.24\n",
       "14      12  11.778248  0.221752   0.049174   1.8     3.24"
      ]
     },
     "execution_count": 36,
     "metadata": {},
     "output_type": "execute_result"
    }
   ],
   "source": [
    "df5['resid'] = df5['actual'] - df5['predict']\n",
    "df5['resid_sq'] = df5['resid']**2\n",
    "df5['diff'] = df5['actual'] - df5['actual'].mean()\n",
    "df5['diff_sq'] = df5['diff']**2\n",
    "df5"
   ]
  },
  {
   "cell_type": "code",
   "execution_count": 37,
   "id": "5a683f06",
   "metadata": {},
   "outputs": [
    {
     "data": {
      "text/plain": [
       "-0.3536854112012342"
      ]
     },
     "execution_count": 37,
     "metadata": {},
     "output_type": "execute_result"
    }
   ],
   "source": [
    "rss = sum(df5['resid_sq'])\n",
    "tss = sum(df5['diff_sq'])\n",
    "r2 = 1 -(rss/tss)\n",
    "r2"
   ]
  },
  {
   "cell_type": "code",
   "execution_count": 38,
   "id": "7cd9800d",
   "metadata": {},
   "outputs": [],
   "source": [
    "from sklearn.metrics import r2_score"
   ]
  },
  {
   "cell_type": "code",
   "execution_count": 39,
   "id": "2dfd7b96",
   "metadata": {},
   "outputs": [
    {
     "data": {
      "text/plain": [
       "-0.353685411201234"
      ]
     },
     "execution_count": 39,
     "metadata": {},
     "output_type": "execute_result"
    }
   ],
   "source": [
    "r2_s = r2_score(y1_test,y1hat)\n",
    "r2_s"
   ]
  },
  {
   "cell_type": "code",
   "execution_count": 40,
   "id": "27dd70dd",
   "metadata": {},
   "outputs": [
    {
     "data": {
      "text/plain": [
       "-0.353685411201234"
      ]
     },
     "execution_count": 40,
     "metadata": {},
     "output_type": "execute_result"
    }
   ],
   "source": [
    "r2_score(y1_test.flatten(), y1hat.flatten())"
   ]
  }
 ],
 "metadata": {
  "kernelspec": {
   "display_name": "Python 3 (ipykernel)",
   "language": "python",
   "name": "python3"
  },
  "language_info": {
   "codemirror_mode": {
    "name": "ipython",
    "version": 3
   },
   "file_extension": ".py",
   "mimetype": "text/x-python",
   "name": "python",
   "nbconvert_exporter": "python",
   "pygments_lexer": "ipython3",
   "version": "3.9.13"
  }
 },
 "nbformat": 4,
 "nbformat_minor": 5
}
