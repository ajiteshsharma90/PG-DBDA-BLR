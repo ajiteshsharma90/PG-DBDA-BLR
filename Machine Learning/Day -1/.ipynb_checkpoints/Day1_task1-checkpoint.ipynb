{
 "cells": [
  {
   "cell_type": "markdown",
   "id": "828808a5",
   "metadata": {},
   "source": [
    "Task1:-\n",
    "=======\n",
    "file \"one.csv\"   - is in the current directory\n",
    "a,b,c\n",
    "1,2,3\n",
    "4,5,6\n",
    "7,8,9\n",
    "10,20,30\n",
    "\n",
    "file  \"two.csv\" is in different directory \"c:\\data\\loc1\\two.csv\"\n",
    "10-20-30\n",
    "40-50-60\n",
    "70-80-90\n",
    "11-12-13\n",
    "\n",
    "Expected output:-\n",
    "-----------------\n",
    "a,b,c, sum\n",
    "1,2,3, 1+2+3+10\n",
    "4,5,6, 4+5+6+40"
   ]
  },
  {
   "cell_type": "code",
   "execution_count": 1,
   "id": "48561f4c",
   "metadata": {},
   "outputs": [],
   "source": [
    "import pandas as pd\n",
    "import numpy as np"
   ]
  },
  {
   "cell_type": "code",
   "execution_count": 2,
   "id": "c364f53b",
   "metadata": {},
   "outputs": [
    {
     "name": "stdout",
     "output_type": "stream",
     "text": [
      "    a   b   c\n",
      "0   1   2   3\n",
      "1   4   5   6\n",
      "2   7   8   9\n",
      "3  10  20  30\n",
      "----------------\n",
      "    a   b   c\n",
      "0  10  20  30\n",
      "1  40  50  60\n",
      "2  70  80  90\n",
      "3  11  12  13\n"
     ]
    }
   ],
   "source": [
    "df1 = pd.read_csv(\"one.csv\")\n",
    "df2 = pd.read_csv(r\"C:\\Users\\dbda\\Desktop\\Suchandra & Ajitesh\\Machine Learning\\two.csv\", header = None, sep= \"-\", names = [\"a\", \"b\", \"c\"])\n",
    "print(df1)\n",
    "print(\"----------------\")\n",
    "print(df2)"
   ]
  },
  {
   "cell_type": "code",
   "execution_count": 3,
   "id": "5e76c7cd",
   "metadata": {},
   "outputs": [
    {
     "data": {
      "text/html": [
       "<div>\n",
       "<style scoped>\n",
       "    .dataframe tbody tr th:only-of-type {\n",
       "        vertical-align: middle;\n",
       "    }\n",
       "\n",
       "    .dataframe tbody tr th {\n",
       "        vertical-align: top;\n",
       "    }\n",
       "\n",
       "    .dataframe thead th {\n",
       "        text-align: right;\n",
       "    }\n",
       "</style>\n",
       "<table border=\"1\" class=\"dataframe\">\n",
       "  <thead>\n",
       "    <tr style=\"text-align: right;\">\n",
       "      <th></th>\n",
       "      <th>a</th>\n",
       "      <th>b</th>\n",
       "      <th>c</th>\n",
       "      <th>Sum</th>\n",
       "    </tr>\n",
       "  </thead>\n",
       "  <tbody>\n",
       "    <tr>\n",
       "      <th>0</th>\n",
       "      <td>1</td>\n",
       "      <td>2</td>\n",
       "      <td>3</td>\n",
       "      <td>16</td>\n",
       "    </tr>\n",
       "    <tr>\n",
       "      <th>1</th>\n",
       "      <td>4</td>\n",
       "      <td>5</td>\n",
       "      <td>6</td>\n",
       "      <td>55</td>\n",
       "    </tr>\n",
       "    <tr>\n",
       "      <th>2</th>\n",
       "      <td>7</td>\n",
       "      <td>8</td>\n",
       "      <td>9</td>\n",
       "      <td>94</td>\n",
       "    </tr>\n",
       "    <tr>\n",
       "      <th>3</th>\n",
       "      <td>10</td>\n",
       "      <td>20</td>\n",
       "      <td>30</td>\n",
       "      <td>71</td>\n",
       "    </tr>\n",
       "  </tbody>\n",
       "</table>\n",
       "</div>"
      ],
      "text/plain": [
       "    a   b   c  Sum\n",
       "0   1   2   3   16\n",
       "1   4   5   6   55\n",
       "2   7   8   9   94\n",
       "3  10  20  30   71"
      ]
     },
     "execution_count": 3,
     "metadata": {},
     "output_type": "execute_result"
    }
   ],
   "source": [
    "df1[\"Sum\"] = df1[\"a\"] + df1[\"b\"] + df1[\"c\"] + df2[\"a\"]\n",
    "df1"
   ]
  },
  {
   "cell_type": "code",
   "execution_count": null,
   "id": "1365dede",
   "metadata": {},
   "outputs": [],
   "source": []
  }
 ],
 "metadata": {
  "kernelspec": {
   "display_name": "Python 3 (ipykernel)",
   "language": "python",
   "name": "python3"
  },
  "language_info": {
   "codemirror_mode": {
    "name": "ipython",
    "version": 3
   },
   "file_extension": ".py",
   "mimetype": "text/x-python",
   "name": "python",
   "nbconvert_exporter": "python",
   "pygments_lexer": "ipython3",
   "version": "3.9.13"
  }
 },
 "nbformat": 4,
 "nbformat_minor": 5
}
