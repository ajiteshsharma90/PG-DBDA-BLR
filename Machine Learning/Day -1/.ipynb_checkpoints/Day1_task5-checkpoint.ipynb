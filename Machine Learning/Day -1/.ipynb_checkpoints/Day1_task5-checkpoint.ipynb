{
 "cells": [
  {
   "cell_type": "markdown",
   "id": "61a67298",
   "metadata": {},
   "source": [
    "Task5:-\n",
    "=======\n",
    "Given:-\n",
    "--------\n",
    "name  dept  \n",
    "ravi  sales\n",
    "manu  purch\n",
    "hari  accts\n",
    "\n",
    "Expected1:-\n",
    "==========\n",
    "name  sales  purch  accts\n",
    "ravi  1      0      0\n",
    "manu  0      1      0\n",
    "hari  0      0      1\n",
    "\n",
    "Expected2:-\n",
    "===========\n",
    "name  dept\n",
    "ravi  1\n",
    "manu  2\n",
    "hari  3\n",
    "\n",
    "Expected3:-\n",
    "==========\n",
    "name  dept\n",
    "ravi  0.1\n",
    "manu  0.2\n",
    "hari  0.3"
   ]
  },
  {
   "cell_type": "code",
   "execution_count": 1,
   "id": "278cc43d",
   "metadata": {},
   "outputs": [],
   "source": [
    "import pandas as pd\n",
    "import numpy as np"
   ]
  },
  {
   "cell_type": "code",
   "execution_count": 5,
   "id": "2a6efa8e",
   "metadata": {},
   "outputs": [
    {
     "data": {
      "text/html": [
       "<div>\n",
       "<style scoped>\n",
       "    .dataframe tbody tr th:only-of-type {\n",
       "        vertical-align: middle;\n",
       "    }\n",
       "\n",
       "    .dataframe tbody tr th {\n",
       "        vertical-align: top;\n",
       "    }\n",
       "\n",
       "    .dataframe thead th {\n",
       "        text-align: right;\n",
       "    }\n",
       "</style>\n",
       "<table border=\"1\" class=\"dataframe\">\n",
       "  <thead>\n",
       "    <tr style=\"text-align: right;\">\n",
       "      <th></th>\n",
       "      <th>name  dept</th>\n",
       "    </tr>\n",
       "  </thead>\n",
       "  <tbody>\n",
       "    <tr>\n",
       "      <th>0</th>\n",
       "      <td>ravi  sales</td>\n",
       "    </tr>\n",
       "    <tr>\n",
       "      <th>1</th>\n",
       "      <td>manu  purch</td>\n",
       "    </tr>\n",
       "    <tr>\n",
       "      <th>2</th>\n",
       "      <td>hari  accts</td>\n",
       "    </tr>\n",
       "  </tbody>\n",
       "</table>\n",
       "</div>"
      ],
      "text/plain": [
       "  name  dept  \n",
       "0  ravi  sales\n",
       "1  manu  purch\n",
       "2  hari  accts"
      ]
     },
     "execution_count": 5,
     "metadata": {},
     "output_type": "execute_result"
    }
   ],
   "source": [
    "df = pd.read_csv(\"emp.csv\")\n",
    "df"
   ]
  },
  {
   "cell_type": "code",
   "execution_count": 7,
   "id": "544b45ca",
   "metadata": {},
   "outputs": [
    {
     "data": {
      "text/plain": [
       "Index(['name  dept  '], dtype='object')"
      ]
     },
     "execution_count": 7,
     "metadata": {},
     "output_type": "execute_result"
    }
   ],
   "source": []
  }
 ],
 "metadata": {
  "kernelspec": {
   "display_name": "Python 3 (ipykernel)",
   "language": "python",
   "name": "python3"
  },
  "language_info": {
   "codemirror_mode": {
    "name": "ipython",
    "version": 3
   },
   "file_extension": ".py",
   "mimetype": "text/x-python",
   "name": "python",
   "nbconvert_exporter": "python",
   "pygments_lexer": "ipython3",
   "version": "3.9.13"
  }
 },
 "nbformat": 4,
 "nbformat_minor": 5
}
