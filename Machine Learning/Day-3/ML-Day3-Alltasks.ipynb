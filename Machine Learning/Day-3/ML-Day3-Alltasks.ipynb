{
 "cells": [
  {
   "cell_type": "raw",
   "id": "e47afea5",
   "metadata": {},
   "source": [
    "Task1:-\n",
    "=======\n",
    "data31.csv:-\n",
    "------------\n",
    "name,read,write,revision,ht,wt,marks\n",
    "arun,4   ,1 ,yes,5.5,80,10\n",
    "ravi,4.5 ,1 ,yes,5.4,60,10\n",
    "manu,2.5 ,2 ,yes,5.0,50,7\n",
    "raja,3.5 ,1 ,no ,5.1,60,6\n",
    "elan,4   ,1 ,yes,6.0,67,10\n",
    "ramu,3   ,1 ,no ,5.6,59,9\n",
    "hari,5   ,2 ,no ,5.6,75,10\n",
    "pari,4   ,1 ,yes,5.7,85,10\n",
    "tara,2   ,1 ,no ,5.1,54,7\n",
    "dine,5   ,1 ,yes,5.3,65,10\n",
    "kala,3   ,2 ,no ,5,5,74,7\n",
    "suri,2   ,2 ,yes,5.8,70,6\n",
    "\n",
    "\n",
    "from the above data indentify the co-relation\n",
    "\n",
    "Expected output :-\n",
    "===================\n",
    "marks with read     = 0.97\n",
    "marks with write    = -1\n",
    "marks with revision = 0\n",
    "marks with ht       = 0.4\n",
    "marks with wt       = 0.3\n"
   ]
  },
  {
   "cell_type": "code",
   "execution_count": 1,
   "id": "1a4c606c",
   "metadata": {},
   "outputs": [],
   "source": [
    "import pandas as pd\n",
    "import numpy as np\n",
    "import seaborn as sns\n",
    "import matplotlib.pyplot as plt "
   ]
  },
  {
   "cell_type": "code",
   "execution_count": 2,
   "id": "67370c86",
   "metadata": {},
   "outputs": [
    {
     "data": {
      "text/html": [
       "<div>\n",
       "<style scoped>\n",
       "    .dataframe tbody tr th:only-of-type {\n",
       "        vertical-align: middle;\n",
       "    }\n",
       "\n",
       "    .dataframe tbody tr th {\n",
       "        vertical-align: top;\n",
       "    }\n",
       "\n",
       "    .dataframe thead th {\n",
       "        text-align: right;\n",
       "    }\n",
       "</style>\n",
       "<table border=\"1\" class=\"dataframe\">\n",
       "  <thead>\n",
       "    <tr style=\"text-align: right;\">\n",
       "      <th></th>\n",
       "      <th>name</th>\n",
       "      <th>read</th>\n",
       "      <th>write</th>\n",
       "      <th>revision</th>\n",
       "      <th>ht</th>\n",
       "      <th>wt</th>\n",
       "      <th>marks</th>\n",
       "    </tr>\n",
       "  </thead>\n",
       "  <tbody>\n",
       "    <tr>\n",
       "      <th>0</th>\n",
       "      <td>arun</td>\n",
       "      <td>4.0</td>\n",
       "      <td>1</td>\n",
       "      <td>yes</td>\n",
       "      <td>5.5</td>\n",
       "      <td>80</td>\n",
       "      <td>10</td>\n",
       "    </tr>\n",
       "    <tr>\n",
       "      <th>1</th>\n",
       "      <td>ravi</td>\n",
       "      <td>4.5</td>\n",
       "      <td>1</td>\n",
       "      <td>yes</td>\n",
       "      <td>5.4</td>\n",
       "      <td>60</td>\n",
       "      <td>10</td>\n",
       "    </tr>\n",
       "    <tr>\n",
       "      <th>2</th>\n",
       "      <td>manu</td>\n",
       "      <td>2.5</td>\n",
       "      <td>2</td>\n",
       "      <td>yes</td>\n",
       "      <td>5.0</td>\n",
       "      <td>50</td>\n",
       "      <td>7</td>\n",
       "    </tr>\n",
       "    <tr>\n",
       "      <th>3</th>\n",
       "      <td>raja</td>\n",
       "      <td>3.5</td>\n",
       "      <td>1</td>\n",
       "      <td>no</td>\n",
       "      <td>5.1</td>\n",
       "      <td>60</td>\n",
       "      <td>6</td>\n",
       "    </tr>\n",
       "    <tr>\n",
       "      <th>4</th>\n",
       "      <td>elan</td>\n",
       "      <td>4.0</td>\n",
       "      <td>1</td>\n",
       "      <td>yes</td>\n",
       "      <td>6.0</td>\n",
       "      <td>67</td>\n",
       "      <td>10</td>\n",
       "    </tr>\n",
       "    <tr>\n",
       "      <th>5</th>\n",
       "      <td>ramu</td>\n",
       "      <td>3.0</td>\n",
       "      <td>1</td>\n",
       "      <td>no</td>\n",
       "      <td>5.6</td>\n",
       "      <td>59</td>\n",
       "      <td>9</td>\n",
       "    </tr>\n",
       "    <tr>\n",
       "      <th>6</th>\n",
       "      <td>hari</td>\n",
       "      <td>5.0</td>\n",
       "      <td>2</td>\n",
       "      <td>no</td>\n",
       "      <td>5.6</td>\n",
       "      <td>75</td>\n",
       "      <td>10</td>\n",
       "    </tr>\n",
       "    <tr>\n",
       "      <th>7</th>\n",
       "      <td>pari</td>\n",
       "      <td>4.0</td>\n",
       "      <td>1</td>\n",
       "      <td>yes</td>\n",
       "      <td>5.7</td>\n",
       "      <td>85</td>\n",
       "      <td>10</td>\n",
       "    </tr>\n",
       "    <tr>\n",
       "      <th>8</th>\n",
       "      <td>tara</td>\n",
       "      <td>2.0</td>\n",
       "      <td>1</td>\n",
       "      <td>no</td>\n",
       "      <td>5.1</td>\n",
       "      <td>54</td>\n",
       "      <td>7</td>\n",
       "    </tr>\n",
       "    <tr>\n",
       "      <th>9</th>\n",
       "      <td>dine</td>\n",
       "      <td>5.0</td>\n",
       "      <td>1</td>\n",
       "      <td>yes</td>\n",
       "      <td>5.3</td>\n",
       "      <td>65</td>\n",
       "      <td>10</td>\n",
       "    </tr>\n",
       "    <tr>\n",
       "      <th>10</th>\n",
       "      <td>kala</td>\n",
       "      <td>3.0</td>\n",
       "      <td>2</td>\n",
       "      <td>no</td>\n",
       "      <td>5.5</td>\n",
       "      <td>74</td>\n",
       "      <td>7</td>\n",
       "    </tr>\n",
       "    <tr>\n",
       "      <th>11</th>\n",
       "      <td>suri</td>\n",
       "      <td>2.0</td>\n",
       "      <td>2</td>\n",
       "      <td>yes</td>\n",
       "      <td>5.8</td>\n",
       "      <td>70</td>\n",
       "      <td>6</td>\n",
       "    </tr>\n",
       "  </tbody>\n",
       "</table>\n",
       "</div>"
      ],
      "text/plain": [
       "    name  read  write revision   ht  wt  marks\n",
       "0   arun   4.0      1      yes  5.5  80     10\n",
       "1   ravi   4.5      1      yes  5.4  60     10\n",
       "2   manu   2.5      2      yes  5.0  50      7\n",
       "3   raja   3.5      1      no   5.1  60      6\n",
       "4   elan   4.0      1      yes  6.0  67     10\n",
       "5   ramu   3.0      1      no   5.6  59      9\n",
       "6   hari   5.0      2      no   5.6  75     10\n",
       "7   pari   4.0      1      yes  5.7  85     10\n",
       "8   tara   2.0      1      no   5.1  54      7\n",
       "9   dine   5.0      1      yes  5.3  65     10\n",
       "10  kala   3.0      2      no   5.5  74      7\n",
       "11  suri   2.0      2      yes  5.8  70      6"
      ]
     },
     "execution_count": 2,
     "metadata": {},
     "output_type": "execute_result"
    }
   ],
   "source": [
    "df1= pd.read_csv(\"data31.csv\")\n",
    "df1"
   ]
  },
  {
   "cell_type": "code",
   "execution_count": 3,
   "id": "6e18714d",
   "metadata": {},
   "outputs": [
    {
     "data": {
      "text/html": [
       "<div>\n",
       "<style scoped>\n",
       "    .dataframe tbody tr th:only-of-type {\n",
       "        vertical-align: middle;\n",
       "    }\n",
       "\n",
       "    .dataframe tbody tr th {\n",
       "        vertical-align: top;\n",
       "    }\n",
       "\n",
       "    .dataframe thead th {\n",
       "        text-align: right;\n",
       "    }\n",
       "</style>\n",
       "<table border=\"1\" class=\"dataframe\">\n",
       "  <thead>\n",
       "    <tr style=\"text-align: right;\">\n",
       "      <th></th>\n",
       "      <th>read</th>\n",
       "      <th>write</th>\n",
       "      <th>ht</th>\n",
       "      <th>wt</th>\n",
       "      <th>marks</th>\n",
       "    </tr>\n",
       "  </thead>\n",
       "  <tbody>\n",
       "    <tr>\n",
       "      <th>read</th>\n",
       "      <td>1.000000</td>\n",
       "      <td>-0.291854</td>\n",
       "      <td>0.204257</td>\n",
       "      <td>0.408232</td>\n",
       "      <td>0.808906</td>\n",
       "    </tr>\n",
       "    <tr>\n",
       "      <th>write</th>\n",
       "      <td>-0.291854</td>\n",
       "      <td>1.000000</td>\n",
       "      <td>0.020345</td>\n",
       "      <td>0.046432</td>\n",
       "      <td>-0.426401</td>\n",
       "    </tr>\n",
       "    <tr>\n",
       "      <th>ht</th>\n",
       "      <td>0.204257</td>\n",
       "      <td>0.020345</td>\n",
       "      <td>1.000000</td>\n",
       "      <td>0.621572</td>\n",
       "      <td>0.416401</td>\n",
       "    </tr>\n",
       "    <tr>\n",
       "      <th>wt</th>\n",
       "      <td>0.408232</td>\n",
       "      <td>0.046432</td>\n",
       "      <td>0.621572</td>\n",
       "      <td>1.000000</td>\n",
       "      <td>0.423193</td>\n",
       "    </tr>\n",
       "    <tr>\n",
       "      <th>marks</th>\n",
       "      <td>0.808906</td>\n",
       "      <td>-0.426401</td>\n",
       "      <td>0.416401</td>\n",
       "      <td>0.423193</td>\n",
       "      <td>1.000000</td>\n",
       "    </tr>\n",
       "  </tbody>\n",
       "</table>\n",
       "</div>"
      ],
      "text/plain": [
       "           read     write        ht        wt     marks\n",
       "read   1.000000 -0.291854  0.204257  0.408232  0.808906\n",
       "write -0.291854  1.000000  0.020345  0.046432 -0.426401\n",
       "ht     0.204257  0.020345  1.000000  0.621572  0.416401\n",
       "wt     0.408232  0.046432  0.621572  1.000000  0.423193\n",
       "marks  0.808906 -0.426401  0.416401  0.423193  1.000000"
      ]
     },
     "execution_count": 3,
     "metadata": {},
     "output_type": "execute_result"
    }
   ],
   "source": [
    "df1.corr()"
   ]
  },
  {
   "cell_type": "code",
   "execution_count": 4,
   "id": "74f3da87",
   "metadata": {},
   "outputs": [
    {
     "data": {
      "text/plain": [
       "0.8089058261561002"
      ]
     },
     "execution_count": 4,
     "metadata": {},
     "output_type": "execute_result"
    }
   ],
   "source": [
    "df1['marks'].corr(df1['read'])"
   ]
  },
  {
   "cell_type": "code",
   "execution_count": 5,
   "id": "1e3604af",
   "metadata": {},
   "outputs": [
    {
     "data": {
      "text/plain": [
       "<AxesSubplot:>"
      ]
     },
     "execution_count": 5,
     "metadata": {},
     "output_type": "execute_result"
    },
    {
     "data": {
      "image/png": "[encoded data removed]",
      "text/plain": [
       "<Figure size 640x480 with 2 Axes>"
      ]
     },
     "metadata": {},
     "output_type": "display_data"
    }
   ],
   "source": [
    "sns.heatmap(df1.corr(),annot = True)"
   ]
  },
  {
   "cell_type": "code",
   "execution_count": 6,
   "id": "fe7b96ea",
   "metadata": {},
   "outputs": [
    {
     "name": "stdout",
     "output_type": "stream",
     "text": [
      "marks with read = 0.81\n",
      "marks with write = -0.43\n",
      "marks with ht = 0.42\n",
      "marks with wt = 0.42\n"
     ]
    }
   ],
   "source": [
    "# marks with read     = 0.97\n",
    "corr1 =df1['marks'].corr(df1['read'])\n",
    "print(f'marks with read = {np.round(corr1,2)}')\n",
    "\n",
    "# marks with write    = -1\n",
    "corr2 =df1['marks'].corr(df1['write'])\n",
    "print(f'marks with write = {np.round(corr2,2)}')\n",
    "\n",
    "# marks with revision = 0\n",
    "#corr3 =df1['marks'].corr(df1['revision'])\n",
    "\n",
    "# marks with ht       = 0.4\n",
    "corr4 =df1['marks'].corr(df1['ht'])\n",
    "print(f'marks with ht = {np.round(corr4,2)}')\n",
    "\n",
    "# marks with wt       = 0.3\n",
    "corr5 =df1['marks'].corr(df1['wt'])\n",
    "print(f'marks with wt = {np.round(corr5,2)}')\n",
    "\n"
   ]
  },
  {
   "cell_type": "raw",
   "id": "e340c1db",
   "metadata": {},
   "source": [
    "Task2:-\n",
    "=======\n",
    "x = [1,2,3,4,5,6,7,8,9,10]\n",
    "y = [10,11,10,10,9,10,10,11,10,10]\n",
    "\n",
    "for the above data\n",
    "\n",
    "1) prepare a data frame for the above data\n",
    "2) check is \"x\" and \"y\" are linear/non-linear \n",
    "3) find the linear regression slope = ?\n",
    "4) find the linear regression intercept = ?\n",
    "5) what is the line equation = ?\n",
    "using slope formula\n",
    "using intercept formua "
   ]
  },
  {
   "cell_type": "code",
   "execution_count": 7,
   "id": "3cf79748",
   "metadata": {},
   "outputs": [],
   "source": [
    "x = [1,2,3,4,5,6,7,8,9,10]\n",
    "y = [10,11,10,10,9,10,10,11,10,10]"
   ]
  },
  {
   "cell_type": "code",
   "execution_count": 8,
   "id": "b47a67a2",
   "metadata": {},
   "outputs": [
    {
     "data": {
      "text/html": [
       "<div>\n",
       "<style scoped>\n",
       "    .dataframe tbody tr th:only-of-type {\n",
       "        vertical-align: middle;\n",
       "    }\n",
       "\n",
       "    .dataframe tbody tr th {\n",
       "        vertical-align: top;\n",
       "    }\n",
       "\n",
       "    .dataframe thead th {\n",
       "        text-align: right;\n",
       "    }\n",
       "</style>\n",
       "<table border=\"1\" class=\"dataframe\">\n",
       "  <thead>\n",
       "    <tr style=\"text-align: right;\">\n",
       "      <th></th>\n",
       "      <th>x</th>\n",
       "      <th>y</th>\n",
       "    </tr>\n",
       "  </thead>\n",
       "  <tbody>\n",
       "    <tr>\n",
       "      <th>0</th>\n",
       "      <td>1</td>\n",
       "      <td>10</td>\n",
       "    </tr>\n",
       "    <tr>\n",
       "      <th>1</th>\n",
       "      <td>2</td>\n",
       "      <td>11</td>\n",
       "    </tr>\n",
       "  </tbody>\n",
       "</table>\n",
       "</div>"
      ],
      "text/plain": [
       "   x   y\n",
       "0  1  10\n",
       "1  2  11"
      ]
     },
     "execution_count": 8,
     "metadata": {},
     "output_type": "execute_result"
    }
   ],
   "source": [
    "df2 =pd.DataFrame({'x': x, 'y':y})\n",
    "df2.head(2)"
   ]
  },
  {
   "cell_type": "code",
   "execution_count": 9,
   "id": "a72c8baa",
   "metadata": {},
   "outputs": [
    {
     "data": {
      "text/plain": [
       "-0.0323254091917618"
      ]
     },
     "execution_count": 9,
     "metadata": {},
     "output_type": "execute_result"
    }
   ],
   "source": [
    "correlation = df2['x'].corr(df2['y'])\n",
    "correlation"
   ]
  },
  {
   "cell_type": "code",
   "execution_count": 10,
   "id": "43270473",
   "metadata": {},
   "outputs": [
    {
     "data": {
      "image/png": "[encoded data removed]",
      "text/plain": [
       "<Figure size 640x480 with 1 Axes>"
      ]
     },
     "metadata": {},
     "output_type": "display_data"
    }
   ],
   "source": [
    "plt.plot(df2['x'],df2['y'])\n",
    "plt.show()"
   ]
  },
  {
   "cell_type": "raw",
   "id": "6b767a9f",
   "metadata": {},
   "source": [
    "3) find the linear regression slope = ?\n",
    "4) find the linear regression intercept = ?"
   ]
  },
  {
   "cell_type": "code",
   "execution_count": 11,
   "id": "066e6eae",
   "metadata": {},
   "outputs": [],
   "source": [
    "from sklearn.linear_model import LinearRegression"
   ]
  },
  {
   "cell_type": "code",
   "execution_count": 12,
   "id": "23850c05",
   "metadata": {},
   "outputs": [],
   "source": [
    "x_np = np.array(df2['x'])\n",
    "y_np = np.array(df2['y'])"
   ]
  },
  {
   "cell_type": "code",
   "execution_count": 13,
   "id": "394e2eeb",
   "metadata": {},
   "outputs": [],
   "source": [
    "X = x_np.reshape(-1,1)\n",
    "Y = y_np\n",
    "model = LinearRegression()"
   ]
  },
  {
   "cell_type": "code",
   "execution_count": 14,
   "id": "20a1c1e5",
   "metadata": {},
   "outputs": [
    {
     "data": {
      "text/plain": [
       "LinearRegression()"
      ]
     },
     "execution_count": 14,
     "metadata": {},
     "output_type": "execute_result"
    }
   ],
   "source": [
    "model.fit(X,Y)"
   ]
  },
  {
   "cell_type": "code",
   "execution_count": 15,
   "id": "251cb1c9",
   "metadata": {},
   "outputs": [
    {
     "name": "stdout",
     "output_type": "stream",
     "text": [
      "Linear Regression Slope = -0.006\n",
      "Linear Regression Intercept = 10.133\n"
     ]
    }
   ],
   "source": [
    "slope = np.round(model.coef_[0],3)\n",
    "intercept = np.round(model.intercept_,3)\n",
    "print(f'Linear Regression Slope = {slope}\\nLinear Regression Intercept = {intercept}')"
   ]
  },
  {
   "cell_type": "raw",
   "id": "51ec45fa",
   "metadata": {},
   "source": [
    "5) what is the line equation = ?"
   ]
  },
  {
   "cell_type": "code",
   "execution_count": 16,
   "id": "a44d8351",
   "metadata": {},
   "outputs": [
    {
     "name": "stdout",
     "output_type": "stream",
     "text": [
      "The equation of the line is: y = -0.006x + 10.133\n"
     ]
    }
   ],
   "source": [
    "print(f\"The equation of the line is: y = {slope}x + {intercept}\")"
   ]
  },
  {
   "cell_type": "raw",
   "id": "69812e91",
   "metadata": {},
   "source": [
    "Task3:-\n",
    "=======\n",
    "emps.csv:-\n",
    "===========\n",
    "code,name,dept,salary\n",
    "1001,manu,sales,15,100/-\n",
    "1002,hari,purch,25,000/-\n",
    "1003,john,sales,18,200/-\n",
    "1004,amar,purch,24,000/-\n",
    "1005,yash,sales,15,000/-\n",
    "1006,guru,sales,21,200/-\n",
    "1007,elan,accts,18,500/-\n",
    "1008,ramu,accts,17,000/-\n",
    "1005,yash,sales,15,000/-\n",
    "1005,yash,sales,15,000/-\n",
    "1009,tara,sales,17,500/-\n",
    "1010,lala,purch,19,000/-\n",
    "1009,tara,sales,17,500/-\n",
    "1002,hari,purch,25,000/-\n",
    "1002,hari,purch,25,000/-\n",
    "1002,hari,purch,25,000/-\n",
    "1009,tara,sales,17,500/-\n",
    "1009,tara,sales,17,500/-\n",
    "1009,tara,sales,17,500/-\n",
    "\n",
    "1) prepare a data frame of the above data\n",
    "2) remove the duplicate rows\n",
    "3) find the employee who drawing HIGHEST SALARY \n",
    "4) find the employee who drawing LOWEST SALARY\n",
    "5) find Which dept has MAX employees\n",
    "6) find which dept has MIN Employees\n",
    "7) find total salary of each dept = ? "
   ]
  },
  {
   "cell_type": "markdown",
   "id": "60504cd3",
   "metadata": {},
   "source": [
    "1) prepare a data frame of the above data"
   ]
  },
  {
   "cell_type": "code",
   "execution_count": 17,
   "id": "e9a2f927",
   "metadata": {},
   "outputs": [
    {
     "data": {
      "text/html": [
       "<div>\n",
       "<style scoped>\n",
       "    .dataframe tbody tr th:only-of-type {\n",
       "        vertical-align: middle;\n",
       "    }\n",
       "\n",
       "    .dataframe tbody tr th {\n",
       "        vertical-align: top;\n",
       "    }\n",
       "\n",
       "    .dataframe thead th {\n",
       "        text-align: right;\n",
       "    }\n",
       "</style>\n",
       "<table border=\"1\" class=\"dataframe\">\n",
       "  <thead>\n",
       "    <tr style=\"text-align: right;\">\n",
       "      <th></th>\n",
       "      <th>index</th>\n",
       "      <th>code</th>\n",
       "      <th>name</th>\n",
       "      <th>dept</th>\n",
       "      <th>salary</th>\n",
       "    </tr>\n",
       "  </thead>\n",
       "  <tbody>\n",
       "    <tr>\n",
       "      <th>0</th>\n",
       "      <td>1001</td>\n",
       "      <td>manu</td>\n",
       "      <td>sales</td>\n",
       "      <td>15</td>\n",
       "      <td>100/-</td>\n",
       "    </tr>\n",
       "  </tbody>\n",
       "</table>\n",
       "</div>"
      ],
      "text/plain": [
       "   index  code   name  dept salary\n",
       "0   1001  manu  sales    15  100/-"
      ]
     },
     "execution_count": 17,
     "metadata": {},
     "output_type": "execute_result"
    }
   ],
   "source": [
    "df3 = pd.read_csv('emps.csv').reset_index()\n",
    "df3.head(1)"
   ]
  },
  {
   "cell_type": "code",
   "execution_count": 18,
   "id": "04be9552",
   "metadata": {},
   "outputs": [
    {
     "data": {
      "text/html": [
       "<div>\n",
       "<style scoped>\n",
       "    .dataframe tbody tr th:only-of-type {\n",
       "        vertical-align: middle;\n",
       "    }\n",
       "\n",
       "    .dataframe tbody tr th {\n",
       "        vertical-align: top;\n",
       "    }\n",
       "\n",
       "    .dataframe thead th {\n",
       "        text-align: right;\n",
       "    }\n",
       "</style>\n",
       "<table border=\"1\" class=\"dataframe\">\n",
       "  <thead>\n",
       "    <tr style=\"text-align: right;\">\n",
       "      <th></th>\n",
       "      <th>index</th>\n",
       "      <th>code</th>\n",
       "      <th>name</th>\n",
       "      <th>sal</th>\n",
       "    </tr>\n",
       "  </thead>\n",
       "  <tbody>\n",
       "    <tr>\n",
       "      <th>0</th>\n",
       "      <td>1001</td>\n",
       "      <td>manu</td>\n",
       "      <td>sales</td>\n",
       "      <td>15100</td>\n",
       "    </tr>\n",
       "  </tbody>\n",
       "</table>\n",
       "</div>"
      ],
      "text/plain": [
       "   index  code   name    sal\n",
       "0   1001  manu  sales  15100"
      ]
     },
     "execution_count": 18,
     "metadata": {},
     "output_type": "execute_result"
    }
   ],
   "source": [
    "df3['salary'] = df3['salary'].str.replace('/-','') \n",
    "df3['dept'] =df3['dept'].astype(str)\n",
    "df3['sal'] = df3['dept'] + df3['salary']\n",
    "df3['sal'] = df3['sal'].astype(int)\n",
    "df3.drop(['dept','salary'],axis = 1,inplace = True)\n",
    "df3.head(1)"
   ]
  },
  {
   "cell_type": "code",
   "execution_count": 19,
   "id": "5fe6401b",
   "metadata": {},
   "outputs": [
    {
     "data": {
      "text/html": [
       "<div>\n",
       "<style scoped>\n",
       "    .dataframe tbody tr th:only-of-type {\n",
       "        vertical-align: middle;\n",
       "    }\n",
       "\n",
       "    .dataframe tbody tr th {\n",
       "        vertical-align: top;\n",
       "    }\n",
       "\n",
       "    .dataframe thead th {\n",
       "        text-align: right;\n",
       "    }\n",
       "</style>\n",
       "<table border=\"1\" class=\"dataframe\">\n",
       "  <thead>\n",
       "    <tr style=\"text-align: right;\">\n",
       "      <th></th>\n",
       "      <th>code</th>\n",
       "      <th>name</th>\n",
       "      <th>dept</th>\n",
       "      <th>salary</th>\n",
       "    </tr>\n",
       "  </thead>\n",
       "  <tbody>\n",
       "    <tr>\n",
       "      <th>0</th>\n",
       "      <td>1001</td>\n",
       "      <td>manu</td>\n",
       "      <td>sales</td>\n",
       "      <td>15100</td>\n",
       "    </tr>\n",
       "    <tr>\n",
       "      <th>1</th>\n",
       "      <td>1002</td>\n",
       "      <td>hari</td>\n",
       "      <td>purch</td>\n",
       "      <td>25000</td>\n",
       "    </tr>\n",
       "    <tr>\n",
       "      <th>2</th>\n",
       "      <td>1003</td>\n",
       "      <td>john</td>\n",
       "      <td>sales</td>\n",
       "      <td>18200</td>\n",
       "    </tr>\n",
       "    <tr>\n",
       "      <th>3</th>\n",
       "      <td>1004</td>\n",
       "      <td>amar</td>\n",
       "      <td>purch</td>\n",
       "      <td>24000</td>\n",
       "    </tr>\n",
       "    <tr>\n",
       "      <th>4</th>\n",
       "      <td>1005</td>\n",
       "      <td>yash</td>\n",
       "      <td>sales</td>\n",
       "      <td>15000</td>\n",
       "    </tr>\n",
       "    <tr>\n",
       "      <th>5</th>\n",
       "      <td>1006</td>\n",
       "      <td>guru</td>\n",
       "      <td>sales</td>\n",
       "      <td>21200</td>\n",
       "    </tr>\n",
       "    <tr>\n",
       "      <th>6</th>\n",
       "      <td>1007</td>\n",
       "      <td>elan</td>\n",
       "      <td>accts</td>\n",
       "      <td>18500</td>\n",
       "    </tr>\n",
       "    <tr>\n",
       "      <th>7</th>\n",
       "      <td>1008</td>\n",
       "      <td>ramu</td>\n",
       "      <td>accts</td>\n",
       "      <td>17000</td>\n",
       "    </tr>\n",
       "    <tr>\n",
       "      <th>8</th>\n",
       "      <td>1005</td>\n",
       "      <td>yash</td>\n",
       "      <td>sales</td>\n",
       "      <td>15000</td>\n",
       "    </tr>\n",
       "    <tr>\n",
       "      <th>9</th>\n",
       "      <td>1005</td>\n",
       "      <td>yash</td>\n",
       "      <td>sales</td>\n",
       "      <td>15000</td>\n",
       "    </tr>\n",
       "    <tr>\n",
       "      <th>10</th>\n",
       "      <td>1009</td>\n",
       "      <td>tara</td>\n",
       "      <td>sales</td>\n",
       "      <td>17500</td>\n",
       "    </tr>\n",
       "    <tr>\n",
       "      <th>11</th>\n",
       "      <td>1010</td>\n",
       "      <td>lala</td>\n",
       "      <td>purch</td>\n",
       "      <td>19000</td>\n",
       "    </tr>\n",
       "    <tr>\n",
       "      <th>12</th>\n",
       "      <td>1009</td>\n",
       "      <td>tara</td>\n",
       "      <td>sales</td>\n",
       "      <td>17500</td>\n",
       "    </tr>\n",
       "    <tr>\n",
       "      <th>13</th>\n",
       "      <td>1002</td>\n",
       "      <td>hari</td>\n",
       "      <td>purch</td>\n",
       "      <td>25000</td>\n",
       "    </tr>\n",
       "    <tr>\n",
       "      <th>14</th>\n",
       "      <td>1002</td>\n",
       "      <td>hari</td>\n",
       "      <td>purch</td>\n",
       "      <td>25000</td>\n",
       "    </tr>\n",
       "    <tr>\n",
       "      <th>15</th>\n",
       "      <td>1002</td>\n",
       "      <td>hari</td>\n",
       "      <td>purch</td>\n",
       "      <td>25000</td>\n",
       "    </tr>\n",
       "    <tr>\n",
       "      <th>16</th>\n",
       "      <td>1009</td>\n",
       "      <td>tara</td>\n",
       "      <td>sales</td>\n",
       "      <td>17500</td>\n",
       "    </tr>\n",
       "    <tr>\n",
       "      <th>17</th>\n",
       "      <td>1009</td>\n",
       "      <td>tara</td>\n",
       "      <td>sales</td>\n",
       "      <td>17500</td>\n",
       "    </tr>\n",
       "    <tr>\n",
       "      <th>18</th>\n",
       "      <td>1009</td>\n",
       "      <td>tara</td>\n",
       "      <td>sales</td>\n",
       "      <td>17500</td>\n",
       "    </tr>\n",
       "  </tbody>\n",
       "</table>\n",
       "</div>"
      ],
      "text/plain": [
       "    code  name   dept  salary\n",
       "0   1001  manu  sales   15100\n",
       "1   1002  hari  purch   25000\n",
       "2   1003  john  sales   18200\n",
       "3   1004  amar  purch   24000\n",
       "4   1005  yash  sales   15000\n",
       "5   1006  guru  sales   21200\n",
       "6   1007  elan  accts   18500\n",
       "7   1008  ramu  accts   17000\n",
       "8   1005  yash  sales   15000\n",
       "9   1005  yash  sales   15000\n",
       "10  1009  tara  sales   17500\n",
       "11  1010  lala  purch   19000\n",
       "12  1009  tara  sales   17500\n",
       "13  1002  hari  purch   25000\n",
       "14  1002  hari  purch   25000\n",
       "15  1002  hari  purch   25000\n",
       "16  1009  tara  sales   17500\n",
       "17  1009  tara  sales   17500\n",
       "18  1009  tara  sales   17500"
      ]
     },
     "execution_count": 19,
     "metadata": {},
     "output_type": "execute_result"
    }
   ],
   "source": [
    "df3.columns = ['code','name','dept','salary']\n",
    "df3"
   ]
  },
  {
   "cell_type": "code",
   "execution_count": 20,
   "id": "d98f413d",
   "metadata": {},
   "outputs": [
    {
     "name": "stdout",
     "output_type": "stream",
     "text": [
      "<class 'pandas.core.frame.DataFrame'>\n",
      "RangeIndex: 19 entries, 0 to 18\n",
      "Data columns (total 4 columns):\n",
      " #   Column  Non-Null Count  Dtype \n",
      "---  ------  --------------  ----- \n",
      " 0   code    19 non-null     int64 \n",
      " 1   name    19 non-null     object\n",
      " 2   dept    19 non-null     object\n",
      " 3   salary  19 non-null     int32 \n",
      "dtypes: int32(1), int64(1), object(2)\n",
      "memory usage: 660.0+ bytes\n"
     ]
    }
   ],
   "source": [
    "df3.info()"
   ]
  },
  {
   "cell_type": "markdown",
   "id": "e0c1bb3e",
   "metadata": {},
   "source": [
    "2) remove the duplicate rows"
   ]
  },
  {
   "cell_type": "code",
   "execution_count": 21,
   "id": "72a20db0",
   "metadata": {},
   "outputs": [
    {
     "data": {
      "text/html": [
       "<div>\n",
       "<style scoped>\n",
       "    .dataframe tbody tr th:only-of-type {\n",
       "        vertical-align: middle;\n",
       "    }\n",
       "\n",
       "    .dataframe tbody tr th {\n",
       "        vertical-align: top;\n",
       "    }\n",
       "\n",
       "    .dataframe thead th {\n",
       "        text-align: right;\n",
       "    }\n",
       "</style>\n",
       "<table border=\"1\" class=\"dataframe\">\n",
       "  <thead>\n",
       "    <tr style=\"text-align: right;\">\n",
       "      <th></th>\n",
       "      <th>code</th>\n",
       "      <th>name</th>\n",
       "      <th>dept</th>\n",
       "      <th>salary</th>\n",
       "    </tr>\n",
       "  </thead>\n",
       "  <tbody>\n",
       "    <tr>\n",
       "      <th>0</th>\n",
       "      <td>1001</td>\n",
       "      <td>manu</td>\n",
       "      <td>sales</td>\n",
       "      <td>15100</td>\n",
       "    </tr>\n",
       "    <tr>\n",
       "      <th>1</th>\n",
       "      <td>1002</td>\n",
       "      <td>hari</td>\n",
       "      <td>purch</td>\n",
       "      <td>25000</td>\n",
       "    </tr>\n",
       "    <tr>\n",
       "      <th>2</th>\n",
       "      <td>1003</td>\n",
       "      <td>john</td>\n",
       "      <td>sales</td>\n",
       "      <td>18200</td>\n",
       "    </tr>\n",
       "    <tr>\n",
       "      <th>3</th>\n",
       "      <td>1004</td>\n",
       "      <td>amar</td>\n",
       "      <td>purch</td>\n",
       "      <td>24000</td>\n",
       "    </tr>\n",
       "    <tr>\n",
       "      <th>4</th>\n",
       "      <td>1005</td>\n",
       "      <td>yash</td>\n",
       "      <td>sales</td>\n",
       "      <td>15000</td>\n",
       "    </tr>\n",
       "    <tr>\n",
       "      <th>5</th>\n",
       "      <td>1006</td>\n",
       "      <td>guru</td>\n",
       "      <td>sales</td>\n",
       "      <td>21200</td>\n",
       "    </tr>\n",
       "    <tr>\n",
       "      <th>6</th>\n",
       "      <td>1007</td>\n",
       "      <td>elan</td>\n",
       "      <td>accts</td>\n",
       "      <td>18500</td>\n",
       "    </tr>\n",
       "    <tr>\n",
       "      <th>7</th>\n",
       "      <td>1008</td>\n",
       "      <td>ramu</td>\n",
       "      <td>accts</td>\n",
       "      <td>17000</td>\n",
       "    </tr>\n",
       "    <tr>\n",
       "      <th>10</th>\n",
       "      <td>1009</td>\n",
       "      <td>tara</td>\n",
       "      <td>sales</td>\n",
       "      <td>17500</td>\n",
       "    </tr>\n",
       "    <tr>\n",
       "      <th>11</th>\n",
       "      <td>1010</td>\n",
       "      <td>lala</td>\n",
       "      <td>purch</td>\n",
       "      <td>19000</td>\n",
       "    </tr>\n",
       "  </tbody>\n",
       "</table>\n",
       "</div>"
      ],
      "text/plain": [
       "    code  name   dept  salary\n",
       "0   1001  manu  sales   15100\n",
       "1   1002  hari  purch   25000\n",
       "2   1003  john  sales   18200\n",
       "3   1004  amar  purch   24000\n",
       "4   1005  yash  sales   15000\n",
       "5   1006  guru  sales   21200\n",
       "6   1007  elan  accts   18500\n",
       "7   1008  ramu  accts   17000\n",
       "10  1009  tara  sales   17500\n",
       "11  1010  lala  purch   19000"
      ]
     },
     "execution_count": 21,
     "metadata": {},
     "output_type": "execute_result"
    }
   ],
   "source": [
    "df3_2 = df3.drop_duplicates()\n",
    "df3_2"
   ]
  },
  {
   "cell_type": "markdown",
   "id": "2b0bb29e",
   "metadata": {},
   "source": [
    "3) find the employee who drawing HIGHEST SALARY "
   ]
  },
  {
   "cell_type": "code",
   "execution_count": 22,
   "id": "c11dcce3",
   "metadata": {},
   "outputs": [
    {
     "name": "stdout",
     "output_type": "stream",
     "text": [
      "Employee who is drawing HIGHEST SALARY is hari with a salary of 25000\n"
     ]
    }
   ],
   "source": [
    "max_sal = max(df3_2['salary'])\n",
    "max_name = df3_2.loc[df3_2['salary'] == max(df3_2['salary']),'name'].iloc[0]\n",
    "print(f'Employee who is drawing HIGHEST SALARY is {max_name} with a salary of {max_sal}')"
   ]
  },
  {
   "cell_type": "markdown",
   "id": "6b3b4df6",
   "metadata": {},
   "source": [
    "4) find the employee who drawing LOWEST SALARY"
   ]
  },
  {
   "cell_type": "code",
   "execution_count": 23,
   "id": "85553e59",
   "metadata": {},
   "outputs": [
    {
     "name": "stdout",
     "output_type": "stream",
     "text": [
      "Employee who drawing LOWEST SALARY is yash with 15000\n"
     ]
    }
   ],
   "source": [
    "min_sal = min(df3_2['salary'])\n",
    "min_name = df3_2.loc[df3_2['salary'] == min_sal, 'name'].iloc[0]\n",
    "print('Employee who drawing LOWEST SALARY is', min_name,'with', min_sal)"
   ]
  },
  {
   "cell_type": "markdown",
   "id": "0714a19c",
   "metadata": {},
   "source": [
    "5) find Which dept has MAX employees"
   ]
  },
  {
   "cell_type": "code",
   "execution_count": 24,
   "id": "f8107f9d",
   "metadata": {},
   "outputs": [
    {
     "data": {
      "text/plain": [
       "sales    5\n",
       "purch    3\n",
       "accts    2\n",
       "Name: dept, dtype: int64"
      ]
     },
     "execution_count": 24,
     "metadata": {},
     "output_type": "execute_result"
    }
   ],
   "source": [
    "dept_cnt = df3_2['dept'].value_counts()\n",
    "dept_cnt"
   ]
  },
  {
   "cell_type": "code",
   "execution_count": 25,
   "id": "5164f5ff",
   "metadata": {},
   "outputs": [
    {
     "name": "stdout",
     "output_type": "stream",
     "text": [
      "sales has MAX employees\n"
     ]
    }
   ],
   "source": [
    "dept_max = dept_cnt[dept_cnt == max(dept_cnt)].index[0]\n",
    "print(f'{dept_max} has MAX employees')"
   ]
  },
  {
   "cell_type": "markdown",
   "id": "792371f2",
   "metadata": {},
   "source": [
    "6) find which dept has MIN Employees"
   ]
  },
  {
   "cell_type": "code",
   "execution_count": 26,
   "id": "f464a355",
   "metadata": {},
   "outputs": [
    {
     "name": "stdout",
     "output_type": "stream",
     "text": [
      "accts has MIN employees\n"
     ]
    }
   ],
   "source": [
    "# min_dept = dept_cnt.idxmin()\n",
    "# min_dept\n",
    "min_dept = dept_cnt[dept_cnt == min(dept_cnt)].index[0]\n",
    "print(f'{min_dept} has MIN employees')"
   ]
  },
  {
   "cell_type": "markdown",
   "id": "88511d4a",
   "metadata": {},
   "source": [
    "7) find total salary of each dept = ?"
   ]
  },
  {
   "cell_type": "code",
   "execution_count": 27,
   "id": "ea487e2c",
   "metadata": {},
   "outputs": [],
   "source": [
    "tot_sal = df3_2.groupby('dept').sum()\n",
    "tot_sal.drop('code',inplace = True,axis = 1)"
   ]
  },
  {
   "cell_type": "code",
   "execution_count": 28,
   "id": "93a640b3",
   "metadata": {},
   "outputs": [
    {
     "data": {
      "text/html": [
       "<div>\n",
       "<style scoped>\n",
       "    .dataframe tbody tr th:only-of-type {\n",
       "        vertical-align: middle;\n",
       "    }\n",
       "\n",
       "    .dataframe tbody tr th {\n",
       "        vertical-align: top;\n",
       "    }\n",
       "\n",
       "    .dataframe thead th {\n",
       "        text-align: right;\n",
       "    }\n",
       "</style>\n",
       "<table border=\"1\" class=\"dataframe\">\n",
       "  <thead>\n",
       "    <tr style=\"text-align: right;\">\n",
       "      <th></th>\n",
       "      <th>dept</th>\n",
       "      <th>salary</th>\n",
       "    </tr>\n",
       "  </thead>\n",
       "  <tbody>\n",
       "    <tr>\n",
       "      <th>0</th>\n",
       "      <td>accts</td>\n",
       "      <td>35500</td>\n",
       "    </tr>\n",
       "    <tr>\n",
       "      <th>1</th>\n",
       "      <td>purch</td>\n",
       "      <td>68000</td>\n",
       "    </tr>\n",
       "    <tr>\n",
       "      <th>2</th>\n",
       "      <td>sales</td>\n",
       "      <td>87000</td>\n",
       "    </tr>\n",
       "  </tbody>\n",
       "</table>\n",
       "</div>"
      ],
      "text/plain": [
       "    dept  salary\n",
       "0  accts   35500\n",
       "1  purch   68000\n",
       "2  sales   87000"
      ]
     },
     "execution_count": 28,
     "metadata": {},
     "output_type": "execute_result"
    }
   ],
   "source": [
    "tot_sal.reset_index(inplace=True)\n",
    "tot_sal"
   ]
  },
  {
   "cell_type": "raw",
   "id": "82756137",
   "metadata": {},
   "source": [
    "Task4:-\n",
    "=======\n",
    "studs.csv:-\n",
    "===========\n",
    "name,math,sci,soc\n",
    "arun,10,20,30\n",
    "ravi,40,50,60\n",
    "manu,20,10,10\n",
    "raja,50,10,20\n",
    "para,40,30,60\n",
    "giri,50,30,10\n",
    "jiva,30,20,70\n",
    "rama,80,50,30\n",
    "\n",
    "Expected output:-\n",
    "=================\n",
    "name,math,sci,soc,total\n",
    "arun,10,20,30,60\n",
    "ravi,40,50,60,150\n",
    "\n",
    "1) display the student name who score max in math ? \n",
    "2) display the student name who score max in sci ? \n",
    "3) display the student name who score max in soc ? "
   ]
  },
  {
   "cell_type": "code",
   "execution_count": 29,
   "id": "417285c6",
   "metadata": {},
   "outputs": [
    {
     "data": {
      "text/html": [
       "<div>\n",
       "<style scoped>\n",
       "    .dataframe tbody tr th:only-of-type {\n",
       "        vertical-align: middle;\n",
       "    }\n",
       "\n",
       "    .dataframe tbody tr th {\n",
       "        vertical-align: top;\n",
       "    }\n",
       "\n",
       "    .dataframe thead th {\n",
       "        text-align: right;\n",
       "    }\n",
       "</style>\n",
       "<table border=\"1\" class=\"dataframe\">\n",
       "  <thead>\n",
       "    <tr style=\"text-align: right;\">\n",
       "      <th></th>\n",
       "      <th>name</th>\n",
       "      <th>math</th>\n",
       "      <th>sci</th>\n",
       "      <th>soc</th>\n",
       "    </tr>\n",
       "  </thead>\n",
       "  <tbody>\n",
       "    <tr>\n",
       "      <th>0</th>\n",
       "      <td>arun</td>\n",
       "      <td>10</td>\n",
       "      <td>20</td>\n",
       "      <td>30</td>\n",
       "    </tr>\n",
       "    <tr>\n",
       "      <th>1</th>\n",
       "      <td>ravi</td>\n",
       "      <td>40</td>\n",
       "      <td>50</td>\n",
       "      <td>60</td>\n",
       "    </tr>\n",
       "    <tr>\n",
       "      <th>2</th>\n",
       "      <td>manu</td>\n",
       "      <td>20</td>\n",
       "      <td>10</td>\n",
       "      <td>10</td>\n",
       "    </tr>\n",
       "    <tr>\n",
       "      <th>3</th>\n",
       "      <td>raja</td>\n",
       "      <td>50</td>\n",
       "      <td>10</td>\n",
       "      <td>20</td>\n",
       "    </tr>\n",
       "    <tr>\n",
       "      <th>4</th>\n",
       "      <td>para</td>\n",
       "      <td>40</td>\n",
       "      <td>30</td>\n",
       "      <td>60</td>\n",
       "    </tr>\n",
       "    <tr>\n",
       "      <th>5</th>\n",
       "      <td>giri</td>\n",
       "      <td>50</td>\n",
       "      <td>30</td>\n",
       "      <td>10</td>\n",
       "    </tr>\n",
       "    <tr>\n",
       "      <th>6</th>\n",
       "      <td>jiva</td>\n",
       "      <td>30</td>\n",
       "      <td>20</td>\n",
       "      <td>70</td>\n",
       "    </tr>\n",
       "    <tr>\n",
       "      <th>7</th>\n",
       "      <td>rama</td>\n",
       "      <td>80</td>\n",
       "      <td>50</td>\n",
       "      <td>30</td>\n",
       "    </tr>\n",
       "  </tbody>\n",
       "</table>\n",
       "</div>"
      ],
      "text/plain": [
       "   name  math  sci  soc\n",
       "0  arun    10   20   30\n",
       "1  ravi    40   50   60\n",
       "2  manu    20   10   10\n",
       "3  raja    50   10   20\n",
       "4  para    40   30   60\n",
       "5  giri    50   30   10\n",
       "6  jiva    30   20   70\n",
       "7  rama    80   50   30"
      ]
     },
     "execution_count": 29,
     "metadata": {},
     "output_type": "execute_result"
    }
   ],
   "source": [
    "df4 = pd.read_csv('studs.csv')\n",
    "df4"
   ]
  },
  {
   "cell_type": "code",
   "execution_count": 30,
   "id": "43691117",
   "metadata": {},
   "outputs": [
    {
     "data": {
      "text/html": [
       "<div>\n",
       "<style scoped>\n",
       "    .dataframe tbody tr th:only-of-type {\n",
       "        vertical-align: middle;\n",
       "    }\n",
       "\n",
       "    .dataframe tbody tr th {\n",
       "        vertical-align: top;\n",
       "    }\n",
       "\n",
       "    .dataframe thead th {\n",
       "        text-align: right;\n",
       "    }\n",
       "</style>\n",
       "<table border=\"1\" class=\"dataframe\">\n",
       "  <thead>\n",
       "    <tr style=\"text-align: right;\">\n",
       "      <th></th>\n",
       "      <th>name</th>\n",
       "      <th>math</th>\n",
       "      <th>sci</th>\n",
       "      <th>soc</th>\n",
       "      <th>total</th>\n",
       "    </tr>\n",
       "  </thead>\n",
       "  <tbody>\n",
       "    <tr>\n",
       "      <th>0</th>\n",
       "      <td>arun</td>\n",
       "      <td>10</td>\n",
       "      <td>20</td>\n",
       "      <td>30</td>\n",
       "      <td>60</td>\n",
       "    </tr>\n",
       "    <tr>\n",
       "      <th>1</th>\n",
       "      <td>ravi</td>\n",
       "      <td>40</td>\n",
       "      <td>50</td>\n",
       "      <td>60</td>\n",
       "      <td>150</td>\n",
       "    </tr>\n",
       "    <tr>\n",
       "      <th>2</th>\n",
       "      <td>manu</td>\n",
       "      <td>20</td>\n",
       "      <td>10</td>\n",
       "      <td>10</td>\n",
       "      <td>40</td>\n",
       "    </tr>\n",
       "    <tr>\n",
       "      <th>3</th>\n",
       "      <td>raja</td>\n",
       "      <td>50</td>\n",
       "      <td>10</td>\n",
       "      <td>20</td>\n",
       "      <td>80</td>\n",
       "    </tr>\n",
       "    <tr>\n",
       "      <th>4</th>\n",
       "      <td>para</td>\n",
       "      <td>40</td>\n",
       "      <td>30</td>\n",
       "      <td>60</td>\n",
       "      <td>130</td>\n",
       "    </tr>\n",
       "    <tr>\n",
       "      <th>5</th>\n",
       "      <td>giri</td>\n",
       "      <td>50</td>\n",
       "      <td>30</td>\n",
       "      <td>10</td>\n",
       "      <td>90</td>\n",
       "    </tr>\n",
       "    <tr>\n",
       "      <th>6</th>\n",
       "      <td>jiva</td>\n",
       "      <td>30</td>\n",
       "      <td>20</td>\n",
       "      <td>70</td>\n",
       "      <td>120</td>\n",
       "    </tr>\n",
       "    <tr>\n",
       "      <th>7</th>\n",
       "      <td>rama</td>\n",
       "      <td>80</td>\n",
       "      <td>50</td>\n",
       "      <td>30</td>\n",
       "      <td>160</td>\n",
       "    </tr>\n",
       "  </tbody>\n",
       "</table>\n",
       "</div>"
      ],
      "text/plain": [
       "   name  math  sci  soc  total\n",
       "0  arun    10   20   30     60\n",
       "1  ravi    40   50   60    150\n",
       "2  manu    20   10   10     40\n",
       "3  raja    50   10   20     80\n",
       "4  para    40   30   60    130\n",
       "5  giri    50   30   10     90\n",
       "6  jiva    30   20   70    120\n",
       "7  rama    80   50   30    160"
      ]
     },
     "execution_count": 30,
     "metadata": {},
     "output_type": "execute_result"
    }
   ],
   "source": [
    "df4['total'] = df4['math'] + df4['sci'] + df4['soc']\n",
    "df4"
   ]
  },
  {
   "cell_type": "code",
   "execution_count": 31,
   "id": "9e264ad1",
   "metadata": {},
   "outputs": [
    {
     "name": "stdout",
     "output_type": "stream",
     "text": [
      "Maths Topper: rama\n",
      "Science Topper: ravi\n",
      "Social Topper: jiva\n"
     ]
    }
   ],
   "source": [
    "math_top = df4.loc[df4['math'] == max(df4['math']) , 'name'].iloc[0]\n",
    "sci_top = df4.loc[df4['sci'] == max(df4['sci']) , 'name'].iloc[0]\n",
    "soc_top = df4.loc[df4['soc'] == max(df4['soc']) , 'name'].iloc[0]\n",
    "print(f'Maths Topper: {math_top}\\nScience Topper: {sci_top}\\nSocial Topper: {soc_top}')"
   ]
  },
  {
   "cell_type": "raw",
   "id": "f9829938",
   "metadata": {},
   "source": [
    "Task5:-\n",
    "=======\n",
    "x = [1,2,3,4,5,6,7,8,9,10]\n",
    "y = [10,11,11,11,10,600,10,500,10,11]\n",
    "z = [5,6,5,6,5,5,5,5,6,6]\n",
    "\n",
    "1) plot a heatmap for the above data\n",
    "2) display the outlier\n",
    "3) remove the outlier from the above data"
   ]
  },
  {
   "cell_type": "code",
   "execution_count": 32,
   "id": "8c2bc034",
   "metadata": {},
   "outputs": [],
   "source": [
    "x = [1,2,3,4,5,6,7,8,9,10]\n",
    "y = [10,11,11,11,10,600,10,500,10,11]\n",
    "z = [5,6,5,6,5,5,5,5,6,6]"
   ]
  },
  {
   "cell_type": "code",
   "execution_count": 33,
   "id": "beca553f",
   "metadata": {},
   "outputs": [
    {
     "data": {
      "text/html": [
       "<div>\n",
       "<style scoped>\n",
       "    .dataframe tbody tr th:only-of-type {\n",
       "        vertical-align: middle;\n",
       "    }\n",
       "\n",
       "    .dataframe tbody tr th {\n",
       "        vertical-align: top;\n",
       "    }\n",
       "\n",
       "    .dataframe thead th {\n",
       "        text-align: right;\n",
       "    }\n",
       "</style>\n",
       "<table border=\"1\" class=\"dataframe\">\n",
       "  <thead>\n",
       "    <tr style=\"text-align: right;\">\n",
       "      <th></th>\n",
       "      <th>x</th>\n",
       "      <th>y</th>\n",
       "      <th>z</th>\n",
       "    </tr>\n",
       "  </thead>\n",
       "  <tbody>\n",
       "    <tr>\n",
       "      <th>0</th>\n",
       "      <td>1</td>\n",
       "      <td>10</td>\n",
       "      <td>5</td>\n",
       "    </tr>\n",
       "    <tr>\n",
       "      <th>1</th>\n",
       "      <td>2</td>\n",
       "      <td>11</td>\n",
       "      <td>6</td>\n",
       "    </tr>\n",
       "    <tr>\n",
       "      <th>2</th>\n",
       "      <td>3</td>\n",
       "      <td>11</td>\n",
       "      <td>5</td>\n",
       "    </tr>\n",
       "    <tr>\n",
       "      <th>3</th>\n",
       "      <td>4</td>\n",
       "      <td>11</td>\n",
       "      <td>6</td>\n",
       "    </tr>\n",
       "    <tr>\n",
       "      <th>4</th>\n",
       "      <td>5</td>\n",
       "      <td>10</td>\n",
       "      <td>5</td>\n",
       "    </tr>\n",
       "    <tr>\n",
       "      <th>5</th>\n",
       "      <td>6</td>\n",
       "      <td>600</td>\n",
       "      <td>5</td>\n",
       "    </tr>\n",
       "    <tr>\n",
       "      <th>6</th>\n",
       "      <td>7</td>\n",
       "      <td>10</td>\n",
       "      <td>5</td>\n",
       "    </tr>\n",
       "    <tr>\n",
       "      <th>7</th>\n",
       "      <td>8</td>\n",
       "      <td>500</td>\n",
       "      <td>5</td>\n",
       "    </tr>\n",
       "    <tr>\n",
       "      <th>8</th>\n",
       "      <td>9</td>\n",
       "      <td>10</td>\n",
       "      <td>6</td>\n",
       "    </tr>\n",
       "    <tr>\n",
       "      <th>9</th>\n",
       "      <td>10</td>\n",
       "      <td>11</td>\n",
       "      <td>6</td>\n",
       "    </tr>\n",
       "  </tbody>\n",
       "</table>\n",
       "</div>"
      ],
      "text/plain": [
       "    x    y  z\n",
       "0   1   10  5\n",
       "1   2   11  6\n",
       "2   3   11  5\n",
       "3   4   11  6\n",
       "4   5   10  5\n",
       "5   6  600  5\n",
       "6   7   10  5\n",
       "7   8  500  5\n",
       "8   9   10  6\n",
       "9  10   11  6"
      ]
     },
     "execution_count": 33,
     "metadata": {},
     "output_type": "execute_result"
    }
   ],
   "source": [
    "df5 = pd.DataFrame({'x':x,'y':y,'z':z})\n",
    "df5"
   ]
  },
  {
   "cell_type": "markdown",
   "id": "f58d5287",
   "metadata": {},
   "source": [
    "1) plot a heatmap for the above data"
   ]
  },
  {
   "cell_type": "code",
   "execution_count": 34,
   "id": "7534fe96",
   "metadata": {},
   "outputs": [
    {
     "data": {
      "text/plain": [
       "<AxesSubplot:>"
      ]
     },
     "execution_count": 34,
     "metadata": {},
     "output_type": "execute_result"
    },
    {
     "data": {
      "image/png": "[encoded data removed]",
      "text/plain": [
       "<Figure size 640x480 with 2 Axes>"
      ]
     },
     "metadata": {},
     "output_type": "display_data"
    }
   ],
   "source": [
    "sns.heatmap(df5.corr(),annot = True)"
   ]
  },
  {
   "cell_type": "markdown",
   "id": "8c0cb3b4",
   "metadata": {},
   "source": [
    "2) display the outlier"
   ]
  },
  {
   "cell_type": "code",
   "execution_count": 35,
   "id": "8f0abe05",
   "metadata": {},
   "outputs": [
    {
     "data": {
      "text/plain": [
       "<AxesSubplot:>"
      ]
     },
     "execution_count": 35,
     "metadata": {},
     "output_type": "execute_result"
    },
    {
     "data": {
      "image/png": "[encoded data removed]",
      "text/plain": [
       "<Figure size 640x480 with 1 Axes>"
      ]
     },
     "metadata": {},
     "output_type": "display_data"
    }
   ],
   "source": [
    "sns.boxplot(data = df5)"
   ]
  },
  {
   "cell_type": "code",
   "execution_count": 36,
   "id": "4d4222f3",
   "metadata": {},
   "outputs": [
    {
     "name": "stdout",
     "output_type": "stream",
     "text": [
      "8.5 12.5\n"
     ]
    }
   ],
   "source": [
    "q1 = df5.quantile(0.25)\n",
    "q3 = df5.quantile(0.75)\n",
    "iqr = q3 - q1\n",
    "lower_bound = q1 - 1.5*iqr\n",
    "upper_bound = q3 + 1.5*iqr\n",
    "print(lower_bound['y'],upper_bound['y'])"
   ]
  },
  {
   "cell_type": "code",
   "execution_count": 37,
   "id": "032196fd",
   "metadata": {},
   "outputs": [
    {
     "data": {
      "text/html": [
       "<div>\n",
       "<style scoped>\n",
       "    .dataframe tbody tr th:only-of-type {\n",
       "        vertical-align: middle;\n",
       "    }\n",
       "\n",
       "    .dataframe tbody tr th {\n",
       "        vertical-align: top;\n",
       "    }\n",
       "\n",
       "    .dataframe thead th {\n",
       "        text-align: right;\n",
       "    }\n",
       "</style>\n",
       "<table border=\"1\" class=\"dataframe\">\n",
       "  <thead>\n",
       "    <tr style=\"text-align: right;\">\n",
       "      <th></th>\n",
       "      <th>x</th>\n",
       "      <th>y</th>\n",
       "      <th>z</th>\n",
       "    </tr>\n",
       "  </thead>\n",
       "  <tbody>\n",
       "    <tr>\n",
       "      <th>0</th>\n",
       "      <td>1</td>\n",
       "      <td>10.0</td>\n",
       "      <td>5</td>\n",
       "    </tr>\n",
       "    <tr>\n",
       "      <th>1</th>\n",
       "      <td>2</td>\n",
       "      <td>11.0</td>\n",
       "      <td>6</td>\n",
       "    </tr>\n",
       "    <tr>\n",
       "      <th>2</th>\n",
       "      <td>3</td>\n",
       "      <td>11.0</td>\n",
       "      <td>5</td>\n",
       "    </tr>\n",
       "    <tr>\n",
       "      <th>3</th>\n",
       "      <td>4</td>\n",
       "      <td>11.0</td>\n",
       "      <td>6</td>\n",
       "    </tr>\n",
       "    <tr>\n",
       "      <th>4</th>\n",
       "      <td>5</td>\n",
       "      <td>10.0</td>\n",
       "      <td>5</td>\n",
       "    </tr>\n",
       "    <tr>\n",
       "      <th>5</th>\n",
       "      <td>7</td>\n",
       "      <td>10.0</td>\n",
       "      <td>5</td>\n",
       "    </tr>\n",
       "    <tr>\n",
       "      <th>6</th>\n",
       "      <td>9</td>\n",
       "      <td>10.0</td>\n",
       "      <td>6</td>\n",
       "    </tr>\n",
       "    <tr>\n",
       "      <th>7</th>\n",
       "      <td>10</td>\n",
       "      <td>11.0</td>\n",
       "      <td>6</td>\n",
       "    </tr>\n",
       "  </tbody>\n",
       "</table>\n",
       "</div>"
      ],
      "text/plain": [
       "    x     y  z\n",
       "0   1  10.0  5\n",
       "1   2  11.0  6\n",
       "2   3  11.0  5\n",
       "3   4  11.0  6\n",
       "4   5  10.0  5\n",
       "5   7  10.0  5\n",
       "6   9  10.0  6\n",
       "7  10  11.0  6"
      ]
     },
     "execution_count": 37,
     "metadata": {},
     "output_type": "execute_result"
    }
   ],
   "source": [
    "df5.loc[((df5['y'] < lower_bound['y']) | (df5['y']> upper_bound['y'])) ,'y'] = np.nan\n",
    "df5.dropna(inplace = True)\n",
    "df5.reset_index(drop=True)"
   ]
  }
 ],
 "metadata": {
  "kernelspec": {
   "display_name": "Python 3 (ipykernel)",
   "language": "python",
   "name": "python3"
  },
  "language_info": {
   "codemirror_mode": {
    "name": "ipython",
    "version": 3
   },
   "file_extension": ".py",
   "mimetype": "text/x-python",
   "name": "python",
   "nbconvert_exporter": "python",
   "pygments_lexer": "ipython3",
   "version": "3.9.13"
  }
 },
 "nbformat": 4,
 "nbformat_minor": 5
}
