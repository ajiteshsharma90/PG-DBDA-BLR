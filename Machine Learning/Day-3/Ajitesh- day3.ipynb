{
 "cells": [
  {
   "cell_type": "raw",
   "id": "efa6bd33",
   "metadata": {},
   "source": [
    "Task1:-\n",
    "=======\n",
    "data31.csv:-\n",
    "------------\n",
    "name,read,write,revision,ht,wt,marks\n",
    "arun,4   ,1 ,yes,5.5,80,10\n",
    "ravi,4.5 ,1 ,yes,5.4,60,10\n",
    "manu,2.5 ,2 ,yes,5.0,50,7\n",
    "raja,3.5 ,1 ,no ,5.1,60,6\n",
    "elan,4   ,1 ,yes,6.0,67,10\n",
    "ramu,3   ,1 ,no ,5.6,59,9\n",
    "hari,5   ,2 ,no ,5.6,75,10\n",
    "pari,4   ,1 ,yes,5.7,85,10\n",
    "tara,2   ,1 ,no ,5.1,54,7\n",
    "dine,5   ,1 ,yes,5.3,65,10\n",
    "kala,3   ,2 ,no ,5,5,74,7\n",
    "suri,2   ,2 ,yes,5.8,70,6\n",
    "\n",
    "\n",
    "from the above data indentify the co-relation\n",
    "\n",
    "Expected output :-\n",
    "===================\n",
    "marks with read     = 0.97\n",
    "marks with write    = -1\n",
    "marks with revision = 0\n",
    "marks with ht       = 0.4\n",
    "marks with wt       = 0.3"
   ]
  },
  {
   "cell_type": "code",
   "execution_count": 1,
   "id": "ec27737f",
   "metadata": {},
   "outputs": [],
   "source": [
    "import pandas as pd\n",
    "import numpy as np\n",
    "import seaborn as sns\n",
    "import matplotlib.pyplot as plt "
   ]
  },
  {
   "cell_type": "code",
   "execution_count": 2,
   "id": "b66305cf",
   "metadata": {},
   "outputs": [
    {
     "data": {
      "text/html": [
       "<div>\n",
       "<style scoped>\n",
       "    .dataframe tbody tr th:only-of-type {\n",
       "        vertical-align: middle;\n",
       "    }\n",
       "\n",
       "    .dataframe tbody tr th {\n",
       "        vertical-align: top;\n",
       "    }\n",
       "\n",
       "    .dataframe thead th {\n",
       "        text-align: right;\n",
       "    }\n",
       "</style>\n",
       "<table border=\"1\" class=\"dataframe\">\n",
       "  <thead>\n",
       "    <tr style=\"text-align: right;\">\n",
       "      <th></th>\n",
       "      <th>name</th>\n",
       "      <th>read</th>\n",
       "      <th>write</th>\n",
       "      <th>revision</th>\n",
       "      <th>ht</th>\n",
       "      <th>wt</th>\n",
       "      <th>marks</th>\n",
       "    </tr>\n",
       "  </thead>\n",
       "  <tbody>\n",
       "    <tr>\n",
       "      <th>0</th>\n",
       "      <td>arun</td>\n",
       "      <td>4.0</td>\n",
       "      <td>1</td>\n",
       "      <td>yes</td>\n",
       "      <td>5.5</td>\n",
       "      <td>80</td>\n",
       "      <td>10</td>\n",
       "    </tr>\n",
       "    <tr>\n",
       "      <th>1</th>\n",
       "      <td>ravi</td>\n",
       "      <td>4.5</td>\n",
       "      <td>1</td>\n",
       "      <td>yes</td>\n",
       "      <td>5.4</td>\n",
       "      <td>60</td>\n",
       "      <td>10</td>\n",
       "    </tr>\n",
       "    <tr>\n",
       "      <th>2</th>\n",
       "      <td>manu</td>\n",
       "      <td>2.5</td>\n",
       "      <td>2</td>\n",
       "      <td>yes</td>\n",
       "      <td>5.0</td>\n",
       "      <td>50</td>\n",
       "      <td>7</td>\n",
       "    </tr>\n",
       "    <tr>\n",
       "      <th>3</th>\n",
       "      <td>raja</td>\n",
       "      <td>3.5</td>\n",
       "      <td>1</td>\n",
       "      <td>no</td>\n",
       "      <td>5.1</td>\n",
       "      <td>60</td>\n",
       "      <td>6</td>\n",
       "    </tr>\n",
       "    <tr>\n",
       "      <th>4</th>\n",
       "      <td>elan</td>\n",
       "      <td>4.0</td>\n",
       "      <td>1</td>\n",
       "      <td>yes</td>\n",
       "      <td>6.0</td>\n",
       "      <td>67</td>\n",
       "      <td>10</td>\n",
       "    </tr>\n",
       "  </tbody>\n",
       "</table>\n",
       "</div>"
      ],
      "text/plain": [
       "   name  read  write revision   ht  wt  marks\n",
       "0  arun   4.0      1      yes  5.5  80     10\n",
       "1  ravi   4.5      1      yes  5.4  60     10\n",
       "2  manu   2.5      2      yes  5.0  50      7\n",
       "3  raja   3.5      1      no   5.1  60      6\n",
       "4  elan   4.0      1      yes  6.0  67     10"
      ]
     },
     "execution_count": 2,
     "metadata": {},
     "output_type": "execute_result"
    }
   ],
   "source": [
    "df1 = pd.read_csv('data31.csv')\n",
    "df1.head(5)"
   ]
  },
  {
   "cell_type": "code",
   "execution_count": 3,
   "id": "17f2d574",
   "metadata": {},
   "outputs": [
    {
     "data": {
      "text/html": [
       "<div>\n",
       "<style scoped>\n",
       "    .dataframe tbody tr th:only-of-type {\n",
       "        vertical-align: middle;\n",
       "    }\n",
       "\n",
       "    .dataframe tbody tr th {\n",
       "        vertical-align: top;\n",
       "    }\n",
       "\n",
       "    .dataframe thead th {\n",
       "        text-align: right;\n",
       "    }\n",
       "</style>\n",
       "<table border=\"1\" class=\"dataframe\">\n",
       "  <thead>\n",
       "    <tr style=\"text-align: right;\">\n",
       "      <th></th>\n",
       "      <th>read</th>\n",
       "      <th>write</th>\n",
       "      <th>ht</th>\n",
       "      <th>wt</th>\n",
       "      <th>marks</th>\n",
       "    </tr>\n",
       "  </thead>\n",
       "  <tbody>\n",
       "    <tr>\n",
       "      <th>read</th>\n",
       "      <td>1.000000</td>\n",
       "      <td>-0.291854</td>\n",
       "      <td>0.204257</td>\n",
       "      <td>0.408232</td>\n",
       "      <td>0.808906</td>\n",
       "    </tr>\n",
       "    <tr>\n",
       "      <th>write</th>\n",
       "      <td>-0.291854</td>\n",
       "      <td>1.000000</td>\n",
       "      <td>0.020345</td>\n",
       "      <td>0.046432</td>\n",
       "      <td>-0.426401</td>\n",
       "    </tr>\n",
       "    <tr>\n",
       "      <th>ht</th>\n",
       "      <td>0.204257</td>\n",
       "      <td>0.020345</td>\n",
       "      <td>1.000000</td>\n",
       "      <td>0.621572</td>\n",
       "      <td>0.416401</td>\n",
       "    </tr>\n",
       "    <tr>\n",
       "      <th>wt</th>\n",
       "      <td>0.408232</td>\n",
       "      <td>0.046432</td>\n",
       "      <td>0.621572</td>\n",
       "      <td>1.000000</td>\n",
       "      <td>0.423193</td>\n",
       "    </tr>\n",
       "    <tr>\n",
       "      <th>marks</th>\n",
       "      <td>0.808906</td>\n",
       "      <td>-0.426401</td>\n",
       "      <td>0.416401</td>\n",
       "      <td>0.423193</td>\n",
       "      <td>1.000000</td>\n",
       "    </tr>\n",
       "  </tbody>\n",
       "</table>\n",
       "</div>"
      ],
      "text/plain": [
       "           read     write        ht        wt     marks\n",
       "read   1.000000 -0.291854  0.204257  0.408232  0.808906\n",
       "write -0.291854  1.000000  0.020345  0.046432 -0.426401\n",
       "ht     0.204257  0.020345  1.000000  0.621572  0.416401\n",
       "wt     0.408232  0.046432  0.621572  1.000000  0.423193\n",
       "marks  0.808906 -0.426401  0.416401  0.423193  1.000000"
      ]
     },
     "execution_count": 3,
     "metadata": {},
     "output_type": "execute_result"
    }
   ],
   "source": [
    "df1.corr()"
   ]
  },
  {
   "cell_type": "code",
   "execution_count": 4,
   "id": "a606d5fc",
   "metadata": {},
   "outputs": [
    {
     "data": {
      "text/plain": [
       "<AxesSubplot:>"
      ]
     },
     "execution_count": 4,
     "metadata": {},
     "output_type": "execute_result"
    },
    {
     "data": {
      "image/png": "[encoded data removed]",
      "text/plain": [
       "<Figure size 640x480 with 2 Axes>"
      ]
     },
     "metadata": {},
     "output_type": "display_data"
    }
   ],
   "source": [
    "sns.heatmap(df1.corr(),annot = True)"
   ]
  },
  {
   "cell_type": "code",
   "execution_count": 5,
   "id": "cd4f5ba9",
   "metadata": {},
   "outputs": [
    {
     "data": {
      "text/plain": [
       "0.81"
      ]
     },
     "execution_count": 5,
     "metadata": {},
     "output_type": "execute_result"
    }
   ],
   "source": [
    "m1 =np.round(df1['marks'].corr(df1['read']),2)\n",
    "m1"
   ]
  },
  {
   "cell_type": "code",
   "execution_count": 6,
   "id": "74051781",
   "metadata": {},
   "outputs": [
    {
     "data": {
      "text/plain": [
       "-0.43"
      ]
     },
     "execution_count": 6,
     "metadata": {},
     "output_type": "execute_result"
    }
   ],
   "source": [
    "m2 = np.round(df1['marks'].corr(df1['write']),2)\n",
    "m2"
   ]
  },
  {
   "cell_type": "code",
   "execution_count": 7,
   "id": "3ef79170",
   "metadata": {},
   "outputs": [
    {
     "data": {
      "text/plain": [
       "0.42"
      ]
     },
     "execution_count": 7,
     "metadata": {},
     "output_type": "execute_result"
    }
   ],
   "source": [
    "# marks with ht       = 0.4\n",
    "# marks with wt       = 0.3\n",
    "m3 = np.round(df1['marks'].corr(df1['ht']),2)\n",
    "m3"
   ]
  },
  {
   "cell_type": "code",
   "execution_count": 8,
   "id": "cf7d8add",
   "metadata": {},
   "outputs": [
    {
     "data": {
      "text/plain": [
       "0.423"
      ]
     },
     "execution_count": 8,
     "metadata": {},
     "output_type": "execute_result"
    }
   ],
   "source": [
    "m4 = np.round(df1['marks'].corr(df1['wt']),3)\n",
    "m4"
   ]
  },
  {
   "cell_type": "raw",
   "id": "3790d75f",
   "metadata": {},
   "source": [
    "Task2:-\n",
    "=======\n",
    "x = [1,2,3,4,5,6,7,8,9,10]\n",
    "y = [10,11,10,10,9,10,10,11,10,10]\n",
    "\n",
    "for the above data\n",
    "\n",
    "1) prepare a data frame for the above data\n",
    "2) check is \"x\" and \"y\" are linear/non-linear \n",
    "3) find the linear regression slope = ?\n",
    "4) find the linear regression intercept = ?\n",
    "5) what is the line equation = ?\n",
    "using slope formula\n",
    "using intercept formua "
   ]
  },
  {
   "cell_type": "code",
   "execution_count": 9,
   "id": "82f775d0",
   "metadata": {},
   "outputs": [],
   "source": [
    "x = [1,2,3,4,5,6,7,8,9,10]\n",
    "y = [10,11,10,10,9,10,10,11,10,10]"
   ]
  },
  {
   "cell_type": "code",
   "execution_count": 10,
   "id": "21c357d8",
   "metadata": {},
   "outputs": [
    {
     "data": {
      "text/html": [
       "<div>\n",
       "<style scoped>\n",
       "    .dataframe tbody tr th:only-of-type {\n",
       "        vertical-align: middle;\n",
       "    }\n",
       "\n",
       "    .dataframe tbody tr th {\n",
       "        vertical-align: top;\n",
       "    }\n",
       "\n",
       "    .dataframe thead th {\n",
       "        text-align: right;\n",
       "    }\n",
       "</style>\n",
       "<table border=\"1\" class=\"dataframe\">\n",
       "  <thead>\n",
       "    <tr style=\"text-align: right;\">\n",
       "      <th></th>\n",
       "      <th>x</th>\n",
       "      <th>y</th>\n",
       "    </tr>\n",
       "  </thead>\n",
       "  <tbody>\n",
       "    <tr>\n",
       "      <th>0</th>\n",
       "      <td>1</td>\n",
       "      <td>10</td>\n",
       "    </tr>\n",
       "    <tr>\n",
       "      <th>1</th>\n",
       "      <td>2</td>\n",
       "      <td>11</td>\n",
       "    </tr>\n",
       "    <tr>\n",
       "      <th>2</th>\n",
       "      <td>3</td>\n",
       "      <td>10</td>\n",
       "    </tr>\n",
       "    <tr>\n",
       "      <th>3</th>\n",
       "      <td>4</td>\n",
       "      <td>10</td>\n",
       "    </tr>\n",
       "    <tr>\n",
       "      <th>4</th>\n",
       "      <td>5</td>\n",
       "      <td>9</td>\n",
       "    </tr>\n",
       "    <tr>\n",
       "      <th>5</th>\n",
       "      <td>6</td>\n",
       "      <td>10</td>\n",
       "    </tr>\n",
       "    <tr>\n",
       "      <th>6</th>\n",
       "      <td>7</td>\n",
       "      <td>10</td>\n",
       "    </tr>\n",
       "    <tr>\n",
       "      <th>7</th>\n",
       "      <td>8</td>\n",
       "      <td>11</td>\n",
       "    </tr>\n",
       "    <tr>\n",
       "      <th>8</th>\n",
       "      <td>9</td>\n",
       "      <td>10</td>\n",
       "    </tr>\n",
       "    <tr>\n",
       "      <th>9</th>\n",
       "      <td>10</td>\n",
       "      <td>10</td>\n",
       "    </tr>\n",
       "  </tbody>\n",
       "</table>\n",
       "</div>"
      ],
      "text/plain": [
       "    x   y\n",
       "0   1  10\n",
       "1   2  11\n",
       "2   3  10\n",
       "3   4  10\n",
       "4   5   9\n",
       "5   6  10\n",
       "6   7  10\n",
       "7   8  11\n",
       "8   9  10\n",
       "9  10  10"
      ]
     },
     "execution_count": 10,
     "metadata": {},
     "output_type": "execute_result"
    }
   ],
   "source": [
    "df2 = pd.DataFrame({'x':x, 'y':y})\n",
    "df2"
   ]
  },
  {
   "cell_type": "code",
   "execution_count": 11,
   "id": "c887ed4b",
   "metadata": {},
   "outputs": [
    {
     "data": {
      "text/plain": [
       "<AxesSubplot:>"
      ]
     },
     "execution_count": 11,
     "metadata": {},
     "output_type": "execute_result"
    },
    {
     "data": {
      "image/png": "[encoded data removed]",
      "text/plain": [
       "<Figure size 640x480 with 1 Axes>"
      ]
     },
     "metadata": {},
     "output_type": "display_data"
    }
   ],
   "source": [
    "sns.scatterplot(data = df2)"
   ]
  },
  {
   "cell_type": "code",
   "execution_count": 12,
   "id": "bb7f8ae8",
   "metadata": {},
   "outputs": [
    {
     "data": {
      "text/plain": [
       "-0.0323254091917618"
      ]
     },
     "execution_count": 12,
     "metadata": {},
     "output_type": "execute_result"
    }
   ],
   "source": [
    "l = df2['x'].corr(df2['y'])\n",
    "l                  "
   ]
  },
  {
   "cell_type": "raw",
   "id": "7325d945",
   "metadata": {},
   "source": [
    "3) find the linear regression slope = ?\n",
    "4) find the linear regression intercept = ?\n",
    "   5) what is the line equation = ?\n",
    "using slope formula\n",
    "using intercept formua "
   ]
  },
  {
   "cell_type": "code",
   "execution_count": 13,
   "id": "e5bcbe95",
   "metadata": {},
   "outputs": [],
   "source": [
    "from sklearn.linear_model import LinearRegression"
   ]
  },
  {
   "cell_type": "code",
   "execution_count": 14,
   "id": "1d1037b6",
   "metadata": {},
   "outputs": [
    {
     "name": "stdout",
     "output_type": "stream",
     "text": [
      "-0.00606060606060606\n",
      "10.133333333333333\n"
     ]
    }
   ],
   "source": [
    "model = LinearRegression()\n",
    "model.fit(np.array(x).reshape(-1,1),y)\n",
    "print(model.coef_[0])\n",
    "print(model.intercept_)"
   ]
  },
  {
   "cell_type": "code",
   "execution_count": 15,
   "id": "ab48d2fb",
   "metadata": {},
   "outputs": [
    {
     "name": "stdout",
     "output_type": "stream",
     "text": [
      "-0.00606060606060606 10.133333333333333\n"
     ]
    }
   ],
   "source": [
    "print((model.coef_[0]),(model.intercept_))"
   ]
  },
  {
   "cell_type": "raw",
   "id": "2c88fa38",
   "metadata": {},
   "source": [
    "Task3:-\n",
    "=======\n",
    "emps.csv:-\n",
    "===========\n",
    "code,name,dept,salary\n",
    "1001,manu,sales,15,100/-\n",
    "1002,hari,purch,25,000/-\n",
    "1003,john,sales,18,200/-\n",
    "1004,amar,purch,24,000/-\n",
    "1005,yash,sales,15,000/-\n",
    "1006,guru,sales,21,200/-\n",
    "1007,elan,accts,18,500/-\n",
    "1008,ramu,accts,17,000/-\n",
    "1005,yash,sales,15,000/-\n",
    "1005,yash,sales,15,000/-\n",
    "1009,tara,sales,17,500/-\n",
    "1010,lala,purch,19,000/-\n",
    "1009,tara,sales,17,500/-\n",
    "1002,hari,purch,25,000/-\n",
    "1002,hari,purch,25,000/-\n",
    "1002,hari,purch,25,000/-\n",
    "1009,tara,sales,17,500/-\n",
    "1009,tara,sales,17,500/-\n",
    "1009,tara,sales,17,500/-\n",
    "\n",
    "1) prepare a data frame of the above data\n",
    "2) remove the duplicate rows\n",
    "3) find the employee who drawing HIGHEST SALARY \n",
    "4) find the employee who drawing LOWEST SALARY\n",
    "5) find Which dept has MAX employees\n",
    "6) find which dept has MIN Employees\n",
    "7) find total salary of each dept = ? "
   ]
  },
  {
   "cell_type": "code",
   "execution_count": 16,
   "id": "7e2390b0",
   "metadata": {},
   "outputs": [
    {
     "data": {
      "text/html": [
       "<div>\n",
       "<style scoped>\n",
       "    .dataframe tbody tr th:only-of-type {\n",
       "        vertical-align: middle;\n",
       "    }\n",
       "\n",
       "    .dataframe tbody tr th {\n",
       "        vertical-align: top;\n",
       "    }\n",
       "\n",
       "    .dataframe thead th {\n",
       "        text-align: right;\n",
       "    }\n",
       "</style>\n",
       "<table border=\"1\" class=\"dataframe\">\n",
       "  <thead>\n",
       "    <tr style=\"text-align: right;\">\n",
       "      <th></th>\n",
       "      <th>code</th>\n",
       "      <th>name</th>\n",
       "      <th>dept</th>\n",
       "      <th>salary</th>\n",
       "    </tr>\n",
       "  </thead>\n",
       "  <tbody>\n",
       "    <tr>\n",
       "      <th>1001</th>\n",
       "      <td>manu</td>\n",
       "      <td>sales</td>\n",
       "      <td>15</td>\n",
       "      <td>100/-</td>\n",
       "    </tr>\n",
       "    <tr>\n",
       "      <th>1002</th>\n",
       "      <td>hari</td>\n",
       "      <td>purch</td>\n",
       "      <td>25</td>\n",
       "      <td>000/-</td>\n",
       "    </tr>\n",
       "    <tr>\n",
       "      <th>1003</th>\n",
       "      <td>john</td>\n",
       "      <td>sales</td>\n",
       "      <td>18</td>\n",
       "      <td>200/-</td>\n",
       "    </tr>\n",
       "    <tr>\n",
       "      <th>1004</th>\n",
       "      <td>amar</td>\n",
       "      <td>purch</td>\n",
       "      <td>24</td>\n",
       "      <td>000/-</td>\n",
       "    </tr>\n",
       "    <tr>\n",
       "      <th>1005</th>\n",
       "      <td>yash</td>\n",
       "      <td>sales</td>\n",
       "      <td>15</td>\n",
       "      <td>000/-</td>\n",
       "    </tr>\n",
       "  </tbody>\n",
       "</table>\n",
       "</div>"
      ],
      "text/plain": [
       "      code   name  dept salary\n",
       "1001  manu  sales    15  100/-\n",
       "1002  hari  purch    25  000/-\n",
       "1003  john  sales    18  200/-\n",
       "1004  amar  purch    24  000/-\n",
       "1005  yash  sales    15  000/-"
      ]
     },
     "execution_count": 16,
     "metadata": {},
     "output_type": "execute_result"
    }
   ],
   "source": [
    "df3 = pd.read_csv('emps.csv')\n",
    "df3.head()"
   ]
  },
  {
   "cell_type": "code",
   "execution_count": 17,
   "id": "400ac619",
   "metadata": {},
   "outputs": [
    {
     "data": {
      "text/html": [
       "<div>\n",
       "<style scoped>\n",
       "    .dataframe tbody tr th:only-of-type {\n",
       "        vertical-align: middle;\n",
       "    }\n",
       "\n",
       "    .dataframe tbody tr th {\n",
       "        vertical-align: top;\n",
       "    }\n",
       "\n",
       "    .dataframe thead th {\n",
       "        text-align: right;\n",
       "    }\n",
       "</style>\n",
       "<table border=\"1\" class=\"dataframe\">\n",
       "  <thead>\n",
       "    <tr style=\"text-align: right;\">\n",
       "      <th></th>\n",
       "      <th>code</th>\n",
       "      <th>name</th>\n",
       "      <th>dept</th>\n",
       "      <th>salary</th>\n",
       "    </tr>\n",
       "  </thead>\n",
       "  <tbody>\n",
       "    <tr>\n",
       "      <th>1001</th>\n",
       "      <td>manu</td>\n",
       "      <td>sales</td>\n",
       "      <td>15</td>\n",
       "      <td>100</td>\n",
       "    </tr>\n",
       "    <tr>\n",
       "      <th>1002</th>\n",
       "      <td>hari</td>\n",
       "      <td>purch</td>\n",
       "      <td>25</td>\n",
       "      <td>000</td>\n",
       "    </tr>\n",
       "    <tr>\n",
       "      <th>1003</th>\n",
       "      <td>john</td>\n",
       "      <td>sales</td>\n",
       "      <td>18</td>\n",
       "      <td>200</td>\n",
       "    </tr>\n",
       "    <tr>\n",
       "      <th>1004</th>\n",
       "      <td>amar</td>\n",
       "      <td>purch</td>\n",
       "      <td>24</td>\n",
       "      <td>000</td>\n",
       "    </tr>\n",
       "    <tr>\n",
       "      <th>1005</th>\n",
       "      <td>yash</td>\n",
       "      <td>sales</td>\n",
       "      <td>15</td>\n",
       "      <td>000</td>\n",
       "    </tr>\n",
       "  </tbody>\n",
       "</table>\n",
       "</div>"
      ],
      "text/plain": [
       "      code   name  dept salary\n",
       "1001  manu  sales    15    100\n",
       "1002  hari  purch    25    000\n",
       "1003  john  sales    18    200\n",
       "1004  amar  purch    24    000\n",
       "1005  yash  sales    15    000"
      ]
     },
     "execution_count": 17,
     "metadata": {},
     "output_type": "execute_result"
    }
   ],
   "source": [
    "df3['salary'] = df3['salary'].str.replace('/-','')\n",
    "df3.head()"
   ]
  },
  {
   "cell_type": "code",
   "execution_count": 18,
   "id": "40b4739c",
   "metadata": {},
   "outputs": [],
   "source": [
    "df3['dept']= df3['dept'].astype(str)"
   ]
  },
  {
   "cell_type": "code",
   "execution_count": 19,
   "id": "bfd74d6f",
   "metadata": {},
   "outputs": [
    {
     "name": "stdout",
     "output_type": "stream",
     "text": [
      "<class 'pandas.core.frame.DataFrame'>\n",
      "Int64Index: 19 entries, 1001 to 1009\n",
      "Data columns (total 4 columns):\n",
      " #   Column  Non-Null Count  Dtype \n",
      "---  ------  --------------  ----- \n",
      " 0   code    19 non-null     object\n",
      " 1   name    19 non-null     object\n",
      " 2   dept    19 non-null     object\n",
      " 3   salary  19 non-null     object\n",
      "dtypes: object(4)\n",
      "memory usage: 760.0+ bytes\n"
     ]
    }
   ],
   "source": [
    "df3.info()"
   ]
  },
  {
   "cell_type": "code",
   "execution_count": 20,
   "id": "b5043523",
   "metadata": {},
   "outputs": [
    {
     "data": {
      "text/html": [
       "<div>\n",
       "<style scoped>\n",
       "    .dataframe tbody tr th:only-of-type {\n",
       "        vertical-align: middle;\n",
       "    }\n",
       "\n",
       "    .dataframe tbody tr th {\n",
       "        vertical-align: top;\n",
       "    }\n",
       "\n",
       "    .dataframe thead th {\n",
       "        text-align: right;\n",
       "    }\n",
       "</style>\n",
       "<table border=\"1\" class=\"dataframe\">\n",
       "  <thead>\n",
       "    <tr style=\"text-align: right;\">\n",
       "      <th></th>\n",
       "      <th>code</th>\n",
       "      <th>name</th>\n",
       "      <th>dept</th>\n",
       "      <th>salary</th>\n",
       "      <th>paisa</th>\n",
       "    </tr>\n",
       "  </thead>\n",
       "  <tbody>\n",
       "    <tr>\n",
       "      <th>1001</th>\n",
       "      <td>manu</td>\n",
       "      <td>sales</td>\n",
       "      <td>15</td>\n",
       "      <td>100</td>\n",
       "      <td>15100</td>\n",
       "    </tr>\n",
       "    <tr>\n",
       "      <th>1002</th>\n",
       "      <td>hari</td>\n",
       "      <td>purch</td>\n",
       "      <td>25</td>\n",
       "      <td>000</td>\n",
       "      <td>25000</td>\n",
       "    </tr>\n",
       "    <tr>\n",
       "      <th>1003</th>\n",
       "      <td>john</td>\n",
       "      <td>sales</td>\n",
       "      <td>18</td>\n",
       "      <td>200</td>\n",
       "      <td>18200</td>\n",
       "    </tr>\n",
       "    <tr>\n",
       "      <th>1004</th>\n",
       "      <td>amar</td>\n",
       "      <td>purch</td>\n",
       "      <td>24</td>\n",
       "      <td>000</td>\n",
       "      <td>24000</td>\n",
       "    </tr>\n",
       "    <tr>\n",
       "      <th>1005</th>\n",
       "      <td>yash</td>\n",
       "      <td>sales</td>\n",
       "      <td>15</td>\n",
       "      <td>000</td>\n",
       "      <td>15000</td>\n",
       "    </tr>\n",
       "  </tbody>\n",
       "</table>\n",
       "</div>"
      ],
      "text/plain": [
       "      code   name dept salary  paisa\n",
       "1001  manu  sales   15    100  15100\n",
       "1002  hari  purch   25    000  25000\n",
       "1003  john  sales   18    200  18200\n",
       "1004  amar  purch   24    000  24000\n",
       "1005  yash  sales   15    000  15000"
      ]
     },
     "execution_count": 20,
     "metadata": {},
     "output_type": "execute_result"
    }
   ],
   "source": [
    "df3['paisa'] = df3['dept'] + df3['salary']\n",
    "df3.head()"
   ]
  },
  {
   "cell_type": "code",
   "execution_count": 21,
   "id": "2dd46e7b",
   "metadata": {},
   "outputs": [
    {
     "data": {
      "text/html": [
       "<div>\n",
       "<style scoped>\n",
       "    .dataframe tbody tr th:only-of-type {\n",
       "        vertical-align: middle;\n",
       "    }\n",
       "\n",
       "    .dataframe tbody tr th {\n",
       "        vertical-align: top;\n",
       "    }\n",
       "\n",
       "    .dataframe thead th {\n",
       "        text-align: right;\n",
       "    }\n",
       "</style>\n",
       "<table border=\"1\" class=\"dataframe\">\n",
       "  <thead>\n",
       "    <tr style=\"text-align: right;\">\n",
       "      <th></th>\n",
       "      <th>code</th>\n",
       "      <th>name</th>\n",
       "      <th>dept</th>\n",
       "      <th>salary</th>\n",
       "      <th>paisa</th>\n",
       "    </tr>\n",
       "  </thead>\n",
       "  <tbody>\n",
       "    <tr>\n",
       "      <th>1001</th>\n",
       "      <td>manu</td>\n",
       "      <td>sales</td>\n",
       "      <td>15</td>\n",
       "      <td>100</td>\n",
       "      <td>15100</td>\n",
       "    </tr>\n",
       "    <tr>\n",
       "      <th>1002</th>\n",
       "      <td>hari</td>\n",
       "      <td>purch</td>\n",
       "      <td>25</td>\n",
       "      <td>000</td>\n",
       "      <td>25000</td>\n",
       "    </tr>\n",
       "    <tr>\n",
       "      <th>1003</th>\n",
       "      <td>john</td>\n",
       "      <td>sales</td>\n",
       "      <td>18</td>\n",
       "      <td>200</td>\n",
       "      <td>18200</td>\n",
       "    </tr>\n",
       "    <tr>\n",
       "      <th>1004</th>\n",
       "      <td>amar</td>\n",
       "      <td>purch</td>\n",
       "      <td>24</td>\n",
       "      <td>000</td>\n",
       "      <td>24000</td>\n",
       "    </tr>\n",
       "    <tr>\n",
       "      <th>1005</th>\n",
       "      <td>yash</td>\n",
       "      <td>sales</td>\n",
       "      <td>15</td>\n",
       "      <td>000</td>\n",
       "      <td>15000</td>\n",
       "    </tr>\n",
       "  </tbody>\n",
       "</table>\n",
       "</div>"
      ],
      "text/plain": [
       "      code   name dept salary  paisa\n",
       "1001  manu  sales   15    100  15100\n",
       "1002  hari  purch   25    000  25000\n",
       "1003  john  sales   18    200  18200\n",
       "1004  amar  purch   24    000  24000\n",
       "1005  yash  sales   15    000  15000"
      ]
     },
     "execution_count": 21,
     "metadata": {},
     "output_type": "execute_result"
    }
   ],
   "source": [
    "df3['paisa']=df3['paisa'].astype(int)\n",
    "df3.head()"
   ]
  },
  {
   "cell_type": "code",
   "execution_count": 22,
   "id": "bc6e400e",
   "metadata": {},
   "outputs": [
    {
     "data": {
      "text/html": [
       "<div>\n",
       "<style scoped>\n",
       "    .dataframe tbody tr th:only-of-type {\n",
       "        vertical-align: middle;\n",
       "    }\n",
       "\n",
       "    .dataframe tbody tr th {\n",
       "        vertical-align: top;\n",
       "    }\n",
       "\n",
       "    .dataframe thead th {\n",
       "        text-align: right;\n",
       "    }\n",
       "</style>\n",
       "<table border=\"1\" class=\"dataframe\">\n",
       "  <thead>\n",
       "    <tr style=\"text-align: right;\">\n",
       "      <th></th>\n",
       "      <th>code</th>\n",
       "      <th>name</th>\n",
       "      <th>paisa</th>\n",
       "    </tr>\n",
       "  </thead>\n",
       "  <tbody>\n",
       "    <tr>\n",
       "      <th>1001</th>\n",
       "      <td>manu</td>\n",
       "      <td>sales</td>\n",
       "      <td>15100</td>\n",
       "    </tr>\n",
       "    <tr>\n",
       "      <th>1002</th>\n",
       "      <td>hari</td>\n",
       "      <td>purch</td>\n",
       "      <td>25000</td>\n",
       "    </tr>\n",
       "    <tr>\n",
       "      <th>1003</th>\n",
       "      <td>john</td>\n",
       "      <td>sales</td>\n",
       "      <td>18200</td>\n",
       "    </tr>\n",
       "    <tr>\n",
       "      <th>1004</th>\n",
       "      <td>amar</td>\n",
       "      <td>purch</td>\n",
       "      <td>24000</td>\n",
       "    </tr>\n",
       "    <tr>\n",
       "      <th>1005</th>\n",
       "      <td>yash</td>\n",
       "      <td>sales</td>\n",
       "      <td>15000</td>\n",
       "    </tr>\n",
       "  </tbody>\n",
       "</table>\n",
       "</div>"
      ],
      "text/plain": [
       "      code   name  paisa\n",
       "1001  manu  sales  15100\n",
       "1002  hari  purch  25000\n",
       "1003  john  sales  18200\n",
       "1004  amar  purch  24000\n",
       "1005  yash  sales  15000"
      ]
     },
     "execution_count": 22,
     "metadata": {},
     "output_type": "execute_result"
    }
   ],
   "source": [
    "df3.drop(['dept','salary'], axis = 1, inplace = True)\n",
    "df3.head()"
   ]
  },
  {
   "cell_type": "code",
   "execution_count": 23,
   "id": "ad603474",
   "metadata": {},
   "outputs": [
    {
     "data": {
      "text/html": [
       "<div>\n",
       "<style scoped>\n",
       "    .dataframe tbody tr th:only-of-type {\n",
       "        vertical-align: middle;\n",
       "    }\n",
       "\n",
       "    .dataframe tbody tr th {\n",
       "        vertical-align: top;\n",
       "    }\n",
       "\n",
       "    .dataframe thead th {\n",
       "        text-align: right;\n",
       "    }\n",
       "</style>\n",
       "<table border=\"1\" class=\"dataframe\">\n",
       "  <thead>\n",
       "    <tr style=\"text-align: right;\">\n",
       "      <th></th>\n",
       "      <th>index</th>\n",
       "      <th>code</th>\n",
       "      <th>name</th>\n",
       "      <th>paisa</th>\n",
       "    </tr>\n",
       "  </thead>\n",
       "  <tbody>\n",
       "    <tr>\n",
       "      <th>0</th>\n",
       "      <td>1001</td>\n",
       "      <td>manu</td>\n",
       "      <td>sales</td>\n",
       "      <td>15100</td>\n",
       "    </tr>\n",
       "    <tr>\n",
       "      <th>1</th>\n",
       "      <td>1002</td>\n",
       "      <td>hari</td>\n",
       "      <td>purch</td>\n",
       "      <td>25000</td>\n",
       "    </tr>\n",
       "    <tr>\n",
       "      <th>2</th>\n",
       "      <td>1003</td>\n",
       "      <td>john</td>\n",
       "      <td>sales</td>\n",
       "      <td>18200</td>\n",
       "    </tr>\n",
       "    <tr>\n",
       "      <th>3</th>\n",
       "      <td>1004</td>\n",
       "      <td>amar</td>\n",
       "      <td>purch</td>\n",
       "      <td>24000</td>\n",
       "    </tr>\n",
       "    <tr>\n",
       "      <th>4</th>\n",
       "      <td>1005</td>\n",
       "      <td>yash</td>\n",
       "      <td>sales</td>\n",
       "      <td>15000</td>\n",
       "    </tr>\n",
       "  </tbody>\n",
       "</table>\n",
       "</div>"
      ],
      "text/plain": [
       "   index  code   name  paisa\n",
       "0   1001  manu  sales  15100\n",
       "1   1002  hari  purch  25000\n",
       "2   1003  john  sales  18200\n",
       "3   1004  amar  purch  24000\n",
       "4   1005  yash  sales  15000"
      ]
     },
     "execution_count": 23,
     "metadata": {},
     "output_type": "execute_result"
    }
   ],
   "source": [
    "df3 = df3.reset_index()\n",
    "df3.head()"
   ]
  },
  {
   "cell_type": "code",
   "execution_count": 24,
   "id": "5ecc35b4",
   "metadata": {},
   "outputs": [
    {
     "data": {
      "text/html": [
       "<div>\n",
       "<style scoped>\n",
       "    .dataframe tbody tr th:only-of-type {\n",
       "        vertical-align: middle;\n",
       "    }\n",
       "\n",
       "    .dataframe tbody tr th {\n",
       "        vertical-align: top;\n",
       "    }\n",
       "\n",
       "    .dataframe thead th {\n",
       "        text-align: right;\n",
       "    }\n",
       "</style>\n",
       "<table border=\"1\" class=\"dataframe\">\n",
       "  <thead>\n",
       "    <tr style=\"text-align: right;\">\n",
       "      <th></th>\n",
       "      <th>code</th>\n",
       "      <th>name</th>\n",
       "      <th>dept</th>\n",
       "      <th>salary</th>\n",
       "    </tr>\n",
       "  </thead>\n",
       "  <tbody>\n",
       "    <tr>\n",
       "      <th>0</th>\n",
       "      <td>1001</td>\n",
       "      <td>manu</td>\n",
       "      <td>sales</td>\n",
       "      <td>15100</td>\n",
       "    </tr>\n",
       "    <tr>\n",
       "      <th>1</th>\n",
       "      <td>1002</td>\n",
       "      <td>hari</td>\n",
       "      <td>purch</td>\n",
       "      <td>25000</td>\n",
       "    </tr>\n",
       "    <tr>\n",
       "      <th>2</th>\n",
       "      <td>1003</td>\n",
       "      <td>john</td>\n",
       "      <td>sales</td>\n",
       "      <td>18200</td>\n",
       "    </tr>\n",
       "    <tr>\n",
       "      <th>3</th>\n",
       "      <td>1004</td>\n",
       "      <td>amar</td>\n",
       "      <td>purch</td>\n",
       "      <td>24000</td>\n",
       "    </tr>\n",
       "    <tr>\n",
       "      <th>4</th>\n",
       "      <td>1005</td>\n",
       "      <td>yash</td>\n",
       "      <td>sales</td>\n",
       "      <td>15000</td>\n",
       "    </tr>\n",
       "  </tbody>\n",
       "</table>\n",
       "</div>"
      ],
      "text/plain": [
       "   code  name   dept  salary\n",
       "0  1001  manu  sales   15100\n",
       "1  1002  hari  purch   25000\n",
       "2  1003  john  sales   18200\n",
       "3  1004  amar  purch   24000\n",
       "4  1005  yash  sales   15000"
      ]
     },
     "execution_count": 24,
     "metadata": {},
     "output_type": "execute_result"
    }
   ],
   "source": [
    "df3.columns=['code','name','dept','salary']\n",
    "df3.head()"
   ]
  },
  {
   "cell_type": "code",
   "execution_count": 25,
   "id": "70ccbca8",
   "metadata": {},
   "outputs": [
    {
     "data": {
      "text/plain": [
       "code      19\n",
       "name      19\n",
       "dept      19\n",
       "salary    19\n",
       "dtype: int64"
      ]
     },
     "execution_count": 25,
     "metadata": {},
     "output_type": "execute_result"
    }
   ],
   "source": [
    "df3.count()"
   ]
  },
  {
   "cell_type": "raw",
   "id": "1d933c09",
   "metadata": {},
   "source": [
    "2) remove the duplicate rows\n",
    "3) find the employee who drawing HIGHEST SALARY \n",
    "4) find the employee who drawing LOWEST SALARY\n",
    "5) find Which dept has MAX employees\n",
    "6) find which dept has MIN Employees\n",
    "7) find total salary of each dept = ? "
   ]
  },
  {
   "cell_type": "code",
   "execution_count": 26,
   "id": "56b7c8ab",
   "metadata": {},
   "outputs": [
    {
     "data": {
      "text/html": [
       "<div>\n",
       "<style scoped>\n",
       "    .dataframe tbody tr th:only-of-type {\n",
       "        vertical-align: middle;\n",
       "    }\n",
       "\n",
       "    .dataframe tbody tr th {\n",
       "        vertical-align: top;\n",
       "    }\n",
       "\n",
       "    .dataframe thead th {\n",
       "        text-align: right;\n",
       "    }\n",
       "</style>\n",
       "<table border=\"1\" class=\"dataframe\">\n",
       "  <thead>\n",
       "    <tr style=\"text-align: right;\">\n",
       "      <th></th>\n",
       "      <th>code</th>\n",
       "      <th>name</th>\n",
       "      <th>dept</th>\n",
       "      <th>salary</th>\n",
       "    </tr>\n",
       "  </thead>\n",
       "  <tbody>\n",
       "    <tr>\n",
       "      <th>0</th>\n",
       "      <td>1001</td>\n",
       "      <td>manu</td>\n",
       "      <td>sales</td>\n",
       "      <td>15100</td>\n",
       "    </tr>\n",
       "    <tr>\n",
       "      <th>1</th>\n",
       "      <td>1002</td>\n",
       "      <td>hari</td>\n",
       "      <td>purch</td>\n",
       "      <td>25000</td>\n",
       "    </tr>\n",
       "    <tr>\n",
       "      <th>2</th>\n",
       "      <td>1003</td>\n",
       "      <td>john</td>\n",
       "      <td>sales</td>\n",
       "      <td>18200</td>\n",
       "    </tr>\n",
       "    <tr>\n",
       "      <th>3</th>\n",
       "      <td>1004</td>\n",
       "      <td>amar</td>\n",
       "      <td>purch</td>\n",
       "      <td>24000</td>\n",
       "    </tr>\n",
       "    <tr>\n",
       "      <th>4</th>\n",
       "      <td>1005</td>\n",
       "      <td>yash</td>\n",
       "      <td>sales</td>\n",
       "      <td>15000</td>\n",
       "    </tr>\n",
       "  </tbody>\n",
       "</table>\n",
       "</div>"
      ],
      "text/plain": [
       "   code  name   dept  salary\n",
       "0  1001  manu  sales   15100\n",
       "1  1002  hari  purch   25000\n",
       "2  1003  john  sales   18200\n",
       "3  1004  amar  purch   24000\n",
       "4  1005  yash  sales   15000"
      ]
     },
     "execution_count": 26,
     "metadata": {},
     "output_type": "execute_result"
    }
   ],
   "source": [
    "df3_1 = df3.drop_duplicates() \n",
    "df3_1 = df3_1.reset_index(drop = True)\n",
    "df3_1.head()"
   ]
  },
  {
   "cell_type": "code",
   "execution_count": 27,
   "id": "ac94c060",
   "metadata": {},
   "outputs": [
    {
     "data": {
      "text/plain": [
       "'hari'"
      ]
     },
     "execution_count": 27,
     "metadata": {},
     "output_type": "execute_result"
    }
   ],
   "source": [
    "max_sal = max(df3_1['salary'])\n",
    "max_sal\n",
    "max_person = df3_1.loc[df3_1['salary'] == max_sal, 'name'].iloc[0]\n",
    "max_person"
   ]
  },
  {
   "cell_type": "code",
   "execution_count": 28,
   "id": "1fdb92f5",
   "metadata": {},
   "outputs": [
    {
     "data": {
      "text/plain": [
       "'yash'"
      ]
     },
     "execution_count": 28,
     "metadata": {},
     "output_type": "execute_result"
    }
   ],
   "source": [
    "min_sal = min(df3_1['salary'])\n",
    "min_sal\n",
    "min_person = df3_1.loc[df3_1['salary']==min_sal, 'name']\n",
    "min_person.iloc[0]"
   ]
  },
  {
   "cell_type": "code",
   "execution_count": 30,
   "id": "a1e326c5",
   "metadata": {},
   "outputs": [
    {
     "data": {
      "text/plain": [
       "sales    5\n",
       "purch    3\n",
       "accts    2\n",
       "Name: dept, dtype: int64"
      ]
     },
     "execution_count": 30,
     "metadata": {},
     "output_type": "execute_result"
    }
   ],
   "source": [
    "df3_2 = df3_1['dept'].value_counts()\n",
    "df3_2"
   ]
  },
  {
   "cell_type": "code",
   "execution_count": 33,
   "id": "4a6e08d2",
   "metadata": {},
   "outputs": [
    {
     "data": {
      "text/plain": [
       "'sales'"
      ]
     },
     "execution_count": 33,
     "metadata": {},
     "output_type": "execute_result"
    }
   ],
   "source": [
    "df3_2.idxmax()"
   ]
  },
  {
   "cell_type": "code",
   "execution_count": 34,
   "id": "9a947621",
   "metadata": {},
   "outputs": [
    {
     "data": {
      "text/plain": [
       "'accts'"
      ]
     },
     "execution_count": 34,
     "metadata": {},
     "output_type": "execute_result"
    }
   ],
   "source": [
    "df3_2.idxmin()"
   ]
  },
  {
   "cell_type": "code",
   "execution_count": 44,
   "id": "f04d7386",
   "metadata": {},
   "outputs": [
    {
     "data": {
      "text/html": [
       "<div>\n",
       "<style scoped>\n",
       "    .dataframe tbody tr th:only-of-type {\n",
       "        vertical-align: middle;\n",
       "    }\n",
       "\n",
       "    .dataframe tbody tr th {\n",
       "        vertical-align: top;\n",
       "    }\n",
       "\n",
       "    .dataframe thead th {\n",
       "        text-align: right;\n",
       "    }\n",
       "</style>\n",
       "<table border=\"1\" class=\"dataframe\">\n",
       "  <thead>\n",
       "    <tr style=\"text-align: right;\">\n",
       "      <th></th>\n",
       "      <th>salary</th>\n",
       "    </tr>\n",
       "    <tr>\n",
       "      <th>dept</th>\n",
       "      <th></th>\n",
       "    </tr>\n",
       "  </thead>\n",
       "  <tbody>\n",
       "    <tr>\n",
       "      <th>accts</th>\n",
       "      <td>35500</td>\n",
       "    </tr>\n",
       "    <tr>\n",
       "      <th>purch</th>\n",
       "      <td>68000</td>\n",
       "    </tr>\n",
       "    <tr>\n",
       "      <th>sales</th>\n",
       "      <td>87000</td>\n",
       "    </tr>\n",
       "  </tbody>\n",
       "</table>\n",
       "</div>"
      ],
      "text/plain": [
       "       salary\n",
       "dept         \n",
       "accts   35500\n",
       "purch   68000\n",
       "sales   87000"
      ]
     },
     "execution_count": 44,
     "metadata": {},
     "output_type": "execute_result"
    }
   ],
   "source": [
    "total_sal = df3_1.groupby('dept').sum()\n",
    "total_sal.drop('code', axis = 1)"
   ]
  },
  {
   "cell_type": "code",
   "execution_count": null,
   "id": "dea77c65",
   "metadata": {},
   "outputs": [],
   "source": []
  }
 ],
 "metadata": {
  "kernelspec": {
   "display_name": "Python 3 (ipykernel)",
   "language": "python",
   "name": "python3"
  },
  "language_info": {
   "codemirror_mode": {
    "name": "ipython",
    "version": 3
   },
   "file_extension": ".py",
   "mimetype": "text/x-python",
   "name": "python",
   "nbconvert_exporter": "python",
   "pygments_lexer": "ipython3",
   "version": "3.9.13"
  }
 },
 "nbformat": 4,
 "nbformat_minor": 5
}
