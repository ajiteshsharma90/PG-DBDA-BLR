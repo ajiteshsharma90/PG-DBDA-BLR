{
 "cells": [
  {
   "cell_type": "code",
   "execution_count": 1,
   "id": "bd5f2467",
   "metadata": {},
   "outputs": [],
   "source": [
    "import pandas as pd\n",
    "import numpy as np\n",
    "import seaborn as sns\n",
    "import matplotlib.pyplot as plt\n",
    "from sklearn.linear_model import LinearRegression"
   ]
  },
  {
   "cell_type": "code",
   "execution_count": 5,
   "id": "bd00e327",
   "metadata": {},
   "outputs": [
    {
     "data": {
      "text/html": [
       "<div>\n",
       "<style scoped>\n",
       "    .dataframe tbody tr th:only-of-type {\n",
       "        vertical-align: middle;\n",
       "    }\n",
       "\n",
       "    .dataframe tbody tr th {\n",
       "        vertical-align: top;\n",
       "    }\n",
       "\n",
       "    .dataframe thead th {\n",
       "        text-align: right;\n",
       "    }\n",
       "</style>\n",
       "<table border=\"1\" class=\"dataframe\">\n",
       "  <thead>\n",
       "    <tr style=\"text-align: right;\">\n",
       "      <th></th>\n",
       "      <th>pressure</th>\n",
       "      <th>humidity</th>\n",
       "      <th>temp</th>\n",
       "      <th>rain</th>\n",
       "    </tr>\n",
       "  </thead>\n",
       "  <tbody>\n",
       "    <tr>\n",
       "      <th>0</th>\n",
       "      <td>1010.227307</td>\n",
       "      <td>60.544759</td>\n",
       "      <td>20.758588</td>\n",
       "      <td>0</td>\n",
       "    </tr>\n",
       "    <tr>\n",
       "      <th>1</th>\n",
       "      <td>1020.845676</td>\n",
       "      <td>75.458283</td>\n",
       "      <td>22.032115</td>\n",
       "      <td>1</td>\n",
       "    </tr>\n",
       "    <tr>\n",
       "      <th>2</th>\n",
       "      <td>1015.654002</td>\n",
       "      <td>80.300858</td>\n",
       "      <td>18.647099</td>\n",
       "      <td>1</td>\n",
       "    </tr>\n",
       "    <tr>\n",
       "      <th>3</th>\n",
       "      <td>1018.525788</td>\n",
       "      <td>50.815060</td>\n",
       "      <td>25.064591</td>\n",
       "      <td>0</td>\n",
       "    </tr>\n",
       "    <tr>\n",
       "      <th>4</th>\n",
       "      <td>1025.001878</td>\n",
       "      <td>65.258981</td>\n",
       "      <td>30.152402</td>\n",
       "      <td>0</td>\n",
       "    </tr>\n",
       "  </tbody>\n",
       "</table>\n",
       "</div>"
      ],
      "text/plain": [
       "      pressure   humidity       temp  rain\n",
       "0  1010.227307  60.544759  20.758588     0\n",
       "1  1020.845676  75.458283  22.032115     1\n",
       "2  1015.654002  80.300858  18.647099     1\n",
       "3  1018.525788  50.815060  25.064591     0\n",
       "4  1025.001878  65.258981  30.152402     0"
      ]
     },
     "execution_count": 5,
     "metadata": {},
     "output_type": "execute_result"
    }
   ],
   "source": [
    "df = pd.read_csv('rain.csv')\n",
    "df.head()"
   ]
  },
  {
   "cell_type": "code",
   "execution_count": 9,
   "id": "cde6d395",
   "metadata": {},
   "outputs": [
    {
     "data": {
      "text/html": [
       "<div>\n",
       "<style scoped>\n",
       "    .dataframe tbody tr th:only-of-type {\n",
       "        vertical-align: middle;\n",
       "    }\n",
       "\n",
       "    .dataframe tbody tr th {\n",
       "        vertical-align: top;\n",
       "    }\n",
       "\n",
       "    .dataframe thead th {\n",
       "        text-align: right;\n",
       "    }\n",
       "</style>\n",
       "<table border=\"1\" class=\"dataframe\">\n",
       "  <thead>\n",
       "    <tr style=\"text-align: right;\">\n",
       "      <th></th>\n",
       "      <th>pressure</th>\n",
       "      <th>humidity</th>\n",
       "      <th>temp</th>\n",
       "      <th>rain</th>\n",
       "    </tr>\n",
       "  </thead>\n",
       "  <tbody>\n",
       "    <tr>\n",
       "      <th>0</th>\n",
       "      <td>1010.23</td>\n",
       "      <td>60.54</td>\n",
       "      <td>20.76</td>\n",
       "      <td>0</td>\n",
       "    </tr>\n",
       "    <tr>\n",
       "      <th>1</th>\n",
       "      <td>1020.85</td>\n",
       "      <td>75.46</td>\n",
       "      <td>22.03</td>\n",
       "      <td>1</td>\n",
       "    </tr>\n",
       "    <tr>\n",
       "      <th>2</th>\n",
       "      <td>1015.65</td>\n",
       "      <td>80.30</td>\n",
       "      <td>18.65</td>\n",
       "      <td>1</td>\n",
       "    </tr>\n",
       "    <tr>\n",
       "      <th>3</th>\n",
       "      <td>1018.53</td>\n",
       "      <td>50.82</td>\n",
       "      <td>25.06</td>\n",
       "      <td>0</td>\n",
       "    </tr>\n",
       "    <tr>\n",
       "      <th>4</th>\n",
       "      <td>1025.00</td>\n",
       "      <td>65.26</td>\n",
       "      <td>30.15</td>\n",
       "      <td>0</td>\n",
       "    </tr>\n",
       "  </tbody>\n",
       "</table>\n",
       "</div>"
      ],
      "text/plain": [
       "   pressure  humidity   temp  rain\n",
       "0   1010.23     60.54  20.76     0\n",
       "1   1020.85     75.46  22.03     1\n",
       "2   1015.65     80.30  18.65     1\n",
       "3   1018.53     50.82  25.06     0\n",
       "4   1025.00     65.26  30.15     0"
      ]
     },
     "execution_count": 9,
     "metadata": {},
     "output_type": "execute_result"
    }
   ],
   "source": [
    "df['pressure'] = np.round(df['pressure'],2)\n",
    "df['humidity'] = np.round(df['humidity'],2)\n",
    "df['temp'] = np.round(df['temp'],2)\n",
    "df.head()"
   ]
  },
  {
   "cell_type": "code",
   "execution_count": 10,
   "id": "826f254d",
   "metadata": {},
   "outputs": [],
   "source": [
    "log1 = df[['pressure','rain']]"
   ]
  },
  {
   "cell_type": "code",
   "execution_count": 11,
   "id": "47d2824d",
   "metadata": {},
   "outputs": [],
   "source": [
    "model = LinearRegression()"
   ]
  },
  {
   "cell_type": "code",
   "execution_count": 12,
   "id": "8fea9f1c",
   "metadata": {},
   "outputs": [
    {
     "data": {
      "text/plain": [
       "LinearRegression()"
      ]
     },
     "execution_count": 12,
     "metadata": {},
     "output_type": "execute_result"
    }
   ],
   "source": [
    "model.fit(np.array(df['pressure']).reshape(-1,1),df['rain'])"
   ]
  },
  {
   "cell_type": "code",
   "execution_count": 21,
   "id": "82558583",
   "metadata": {},
   "outputs": [
    {
     "name": "stdout",
     "output_type": "stream",
     "text": [
      "-0.02906498070127208 29.938568869512558\n"
     ]
    }
   ],
   "source": [
    "print(model.coef_[0],model.intercept_)"
   ]
  },
  {
   "cell_type": "code",
   "execution_count": 22,
   "id": "d7df2567",
   "metadata": {},
   "outputs": [],
   "source": [
    "def to_sig(z):\n",
    "    y = 1/(1 + (np.exp(-z)))\n",
    "    return y"
   ]
  },
  {
   "cell_type": "code",
   "execution_count": 25,
   "id": "9c5fd2eb",
   "metadata": {},
   "outputs": [],
   "source": [
    "z = [model.coef_[0] * val + model.intercept_ for val in df['pressure']]"
   ]
  },
  {
   "cell_type": "code",
   "execution_count": 26,
   "id": "2c5cfe8c",
   "metadata": {},
   "outputs": [],
   "source": [
    "z_sig = [to_sig(val) for val in z]"
   ]
  },
  {
   "cell_type": "code",
   "execution_count": 30,
   "id": "27acbc03",
   "metadata": {},
   "outputs": [
    {
     "data": {
      "text/plain": [
       "array([0.64020486, 0.56649952, 0.60317721, 0.58297888, 0.53667493,\n",
       "       0.65190145, 0.62466674, 0.55526115, 0.66974807, 0.49859313,\n",
       "       0.63233506, 0.66029541, 0.54706456, 0.61988461, 0.57319639,\n",
       "       0.52618089, 0.64407866, 0.59290695, 0.53869791, 0.61383971,\n",
       "       0.61844537, 0.63570714, 0.54828859, 0.6438121 , 0.55597879,\n",
       "       0.60623414, 0.6538775 , 0.56399965, 0.6004609 , 0.63301053,\n",
       "       0.66562075, 0.57020733, 0.6132884 , 0.65814071, 0.54418227,\n",
       "       0.62453044, 0.53096092, 0.63637997, 0.6534169 , 0.59955407,\n",
       "       0.65807531, 0.56735584, 0.5766059 , 0.60706642, 0.5610671 ,\n",
       "       0.60789807, 0.55051913, 0.62507552, 0.63125324, 0.64481124,\n",
       "       0.53999774, 0.58078676, 0.57234291, 0.62745652])"
      ]
     },
     "execution_count": 30,
     "metadata": {},
     "output_type": "execute_result"
    }
   ],
   "source": [
    "z_sig = np.array(z_sig)\n",
    "z_sig"
   ]
  },
  {
   "cell_type": "code",
   "execution_count": 28,
   "id": "1593d0a4",
   "metadata": {},
   "outputs": [],
   "source": [
    "yhat = np.where(z_sig>0.5,1,0)"
   ]
  },
  {
   "cell_type": "code",
   "execution_count": 29,
   "id": "d527772d",
   "metadata": {},
   "outputs": [
    {
     "data": {
      "text/plain": [
       "array([1, 1, 1, 1, 1, 1, 1, 1, 1, 0, 1, 1, 1, 1, 1, 1, 1, 1, 1, 1, 1, 1,\n",
       "       1, 1, 1, 1, 1, 1, 1, 1, 1, 1, 1, 1, 1, 1, 1, 1, 1, 1, 1, 1, 1, 1,\n",
       "       1, 1, 1, 1, 1, 1, 1, 1, 1, 1])"
      ]
     },
     "execution_count": 29,
     "metadata": {},
     "output_type": "execute_result"
    }
   ],
   "source": [
    "yhat"
   ]
  }
 ],
 "metadata": {
  "kernelspec": {
   "display_name": "Python 3 (ipykernel)",
   "language": "python",
   "name": "python3"
  },
  "language_info": {
   "codemirror_mode": {
    "name": "ipython",
    "version": 3
   },
   "file_extension": ".py",
   "mimetype": "text/x-python",
   "name": "python",
   "nbconvert_exporter": "python",
   "pygments_lexer": "ipython3",
   "version": "3.9.13"
  }
 },
 "nbformat": 4,
 "nbformat_minor": 5
}
