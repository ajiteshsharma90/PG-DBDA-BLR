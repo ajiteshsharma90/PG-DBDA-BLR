{
 "cells": [
  {
   "cell_type": "code",
   "execution_count": 1,
   "id": "cf9c7af6",
   "metadata": {},
   "outputs": [
    {
     "name": "stdout",
     "output_type": "stream",
     "text": [
      "welcome\n"
     ]
    }
   ],
   "source": [
    "print(\"welcome\")"
   ]
  },
  {
   "cell_type": "code",
   "execution_count": 5,
   "id": "575dd397",
   "metadata": {},
   "outputs": [
    {
     "name": "stdout",
     "output_type": "stream",
     "text": [
      "shan 1001\n",
      "raj 1002\n"
     ]
    }
   ],
   "source": [
    "#how to create a class ,object,initialize using reference\n",
    "\n",
    "class Employee:\n",
    "    pass\n",
    "e1 = Employee()\n",
    "e1.name = \"shan\"\n",
    "e1.empid = 1001\n",
    "e2 = Employee()\n",
    "e2.name = \"raj\"\n",
    "e2.empid = 1002\n",
    "print(e1.name ,e1.empid)\n",
    "print(e2.name,e2.empid)\n",
    "\n"
   ]
  },
  {
   "cell_type": "code",
   "execution_count": null,
   "id": "fbb77934",
   "metadata": {},
   "outputs": [],
   "source": []
  },
  {
   "cell_type": "code",
   "execution_count": 8,
   "id": "3f44d4c7",
   "metadata": {},
   "outputs": [
    {
     "name": "stdout",
     "output_type": "stream",
     "text": [
      "enter the  nameshna\n",
      "enter the empid1001\n",
      " name :shna id : 1001\n",
      "enter the  nameraj\n",
      "enter the empid4001\n",
      " name :raj id : 4001\n"
     ]
    }
   ],
   "source": [
    "#how to create a class ,object,initialize using method\n",
    "class Employee:\n",
    "     \n",
    "    def display_details(self):\n",
    "        print(f\" name :{self.name} id : {self.empid}\")\n",
    "    \n",
    "    def read_details(self):\n",
    "        self.name = input(\"enter the  name\")\n",
    "        self.empid = input(\"enter the empid\")\n",
    "        \n",
    "\n",
    "e1 = Employee()\n",
    "e1.read_details()\n",
    "e1.display_details()\n",
    "e2 = Employee()\n",
    "e2.read_details()\n",
    "e2.display_details()\n",
    "\n",
    "\n",
    "\n"
   ]
  },
  {
   "cell_type": "code",
   "execution_count": 3,
   "id": "1c517e08",
   "metadata": {},
   "outputs": [
    {
     "name": "stdout",
     "output_type": "stream",
     "text": [
      " name :shan id : 1001 \n",
      " name :kunal id : 1002 \n"
     ]
    }
   ],
   "source": [
    "# construct data using constructor\n",
    "\n",
    "class Employee:\n",
    "    \n",
    "    def __init__(self,empid,ename):\n",
    "        self.empid = empid;\n",
    "        self.ename = ename\n",
    "        \n",
    "    def display_details(self):\n",
    "        print(f\" name :{self.ename} id : {self.empid} \")\n",
    "        \n",
    "         \n",
    "e1 = Employee(1001,\"shan\")\n",
    "e1.display_details()\n",
    "\n",
    "e2 = Employee(1002,\"kunal\")\n",
    "e2.display_details()\n",
    "\n"
   ]
  },
  {
   "cell_type": "code",
   "execution_count": 12,
   "id": "ba51b28e",
   "metadata": {},
   "outputs": [
    {
     "name": "stdout",
     "output_type": "stream",
     "text": [
      " name :shan id : 1001 cname:ACTS age: 23 \n",
      "33\n",
      " name :kunal id : 1002 cname:ACTS age: 34 \n",
      "44\n"
     ]
    }
   ],
   "source": [
    "# class variable and class method\n",
    "\n",
    "class Employee:\n",
    "    cname = \"CDAC\"\n",
    "    def __init__(self,empid,ename,age):\n",
    "        self.empid = empid;\n",
    "        self.ename = ename\n",
    "        self.age = age\n",
    "        \n",
    "    def display_details(self):\n",
    "        print(f\" name :{self.ename} id : {self.empid} cname:{self.cname} age: {self.age} \")\n",
    "        \n",
    "    @classmethod\n",
    "    def displaycname(cls):\n",
    "        cls.cname = \"ACTS\"\n",
    "    @staticmethod  \n",
    "    def addAge(age):\n",
    "        age = age+10;\n",
    "        print(age)\n",
    "    \n",
    "     \n",
    "e1 = Employee(1001,\"shan\",23)\n",
    "e1.displaycname()\n",
    "e1.display_details()\n",
    "e1.addAge(e1.age)\n",
    "e2 = Employee(1002,\"kunal\",34)\n",
    "e2.displaycname()\n",
    "e2.display_details()\n",
    "e2.addAge(e2.age)\n"
   ]
  },
  {
   "cell_type": "code",
   "execution_count": 13,
   "id": "5540f4a3",
   "metadata": {},
   "outputs": [
    {
     "name": "stdout",
     "output_type": "stream",
     "text": [
      " name :shan id : 1001 \n",
      " name :kunal id : 1002 \n",
      "1002\n"
     ]
    }
   ],
   "source": [
    "#access specifier public\n",
    "\n",
    "class Employee:\n",
    "    \n",
    "    def __init__(self,empid,ename):\n",
    "        self.empid = empid;\n",
    "        self.ename = ename\n",
    "        \n",
    "    def display_details(self):\n",
    "        print(f\" name :{self.ename} id : {self.empid} \")\n",
    "        \n",
    "         \n",
    "e1 = Employee(1001,\"shan\")\n",
    "e1.display_details()\n",
    "\n",
    "e2 = Employee(1002,\"kunal\")\n",
    "e2.display_details()\n",
    "print(e2.empid)"
   ]
  },
  {
   "cell_type": "code",
   "execution_count": 18,
   "id": "b04b3a86",
   "metadata": {},
   "outputs": [
    {
     "name": "stdout",
     "output_type": "stream",
     "text": [
      " name :shan id : 1001 \n",
      " name :shan id : 1001 \n"
     ]
    }
   ],
   "source": [
    "#access specifier private\n",
    "\n",
    "class Employee:\n",
    "    \n",
    "    def __init__(self,empid,ename):\n",
    "        self.__empid = empid;\n",
    "        self.ename = ename\n",
    "        \n",
    "    \n",
    "        \n",
    "    def __display_details(self):\n",
    "        print(f\" name :{self.ename} id : {self.__empid} \")\n",
    "        \n",
    "    def displayemp(self):\n",
    "        self.__display_details()\n",
    "        \n",
    "         \n",
    "e1 = Employee(1001,\"shan\")\n",
    "e1.displayemp()\n",
    "\n",
    "e2 = Employee(1002,\"kunal\")\n",
    "e1.displayemp()\n",
    "#print(e2.__empid)"
   ]
  },
  {
   "cell_type": "code",
   "execution_count": 35,
   "id": "3f40feff",
   "metadata": {},
   "outputs": [
    {
     "name": "stdout",
     "output_type": "stream",
     "text": [
      "kia,x001,500000,300\n"
     ]
    }
   ],
   "source": [
    "#inheritance  simple\n",
    "\n",
    "class vehicle:\n",
    "    def __init__(self,make,model,price):\n",
    "        self.make = make\n",
    "        self.model = model\n",
    "        self.price = price\n",
    "                \n",
    "    def vehicle_details(self):\n",
    "        return f\"{self.make},{self.model},{self.price}\"\n",
    "                \n",
    "class car(vehicle):\n",
    "    def __init__(self,make,model,price,maintanance_cost):\n",
    "        super().__init__(make,model,price)\n",
    "        self.maintanance_cost= maintanance_cost\n",
    "        \n",
    "    def car_details(self):\n",
    "        #self.vehicle_details()\n",
    "        print(f\"{self.vehicle_details()},{self.maintanance_cost}\")\n",
    "        \n",
    "       \n",
    "c = car(\"kia\",\"x001\",500000,300)\n",
    "\n",
    "c.car_details()\n"
   ]
  },
  {
   "cell_type": "code",
   "execution_count": null,
   "id": "c56de5aa",
   "metadata": {},
   "outputs": [],
   "source": []
  }
 ],
 "metadata": {
  "kernelspec": {
   "display_name": "Python 3 (ipykernel)",
   "language": "python",
   "name": "python3"
  },
  "language_info": {
   "codemirror_mode": {
    "name": "ipython",
    "version": 3
   },
   "file_extension": ".py",
   "mimetype": "text/x-python",
   "name": "python",
   "nbconvert_exporter": "python",
   "pygments_lexer": "ipython3",
   "version": "3.9.13"
  }
 },
 "nbformat": 4,
 "nbformat_minor": 5
}
