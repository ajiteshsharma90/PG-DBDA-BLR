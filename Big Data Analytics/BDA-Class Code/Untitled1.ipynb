{
 "cells": [
  {
   "cell_type": "code",
   "execution_count": null,
   "id": "24a3798c-eb1e-42c3-a3be-306015b8a6c3",
   "metadata": {},
   "outputs": [],
   "source": [
    "from pyspark.sql import SparkSession\n",
    "import os\n",
    "\n",
    "# Set environment variables\n",
    "python_path = r\"C:\\Users\\AJITESH\\anaconda3\\Scripts\\python.exe\"\n",
    "os.environ['PYSPARK_PYTHON'] = python_path\n",
    "os.environ['PYSPARK_DRIVER_PYTHON'] = python_path\n",
    "os.environ['JAVA_HOME'] = r'C:\\Program Files\\Microsoft\\jdk-17.0.13.11-hotspot\\bin\\java.exe'\n",
    "\n",
    "# Create SparkSession\n",
    "spark = SparkSession.builder.appName(\"MyApp\").getOrCreate()\n",
    "\n",
    "# Verify Spark configuration\n",
    "print(spark.sparkContext.getConf().getAll())\n",
    "\n",
    "# Load the CSV file into DataFrame\n",
    "flightData2015 = spark.read.option(\"inferSchema\", \"false\").option(\"header\", \"true\").csv(r\"C:\\Users\\dbda\\Desktop\\Suchandra & Ajitesh\\Big Data\\Spark\\2015-summary.csv\")\n",
    "\n",
    "# Show first 5 rows of the DataFrame\n",
    "flightData2015.show(5)\n",
    "\n",
    "# Print the type of the DataFrame\n",
    "print(type(flightData2015))\n",
    "\n",
    "# Convert to RDD and rename columns\n",
    "flightData2015_rdd = flightData2015.toDF(\"dest\", \"source\", \"count\").rdd\n",
    "\n",
    "# Check the type of RDD and print a sample\n",
    "print(type(flightData2015_rdd))\n",
    "print(flightData2015_rdd.take(1))\n",
    "\n",
    "# Count the number of records in the RDD\n",
    "print(flightData2015_rdd.count())\n"
   ]
  }
 ],
 "metadata": {
  "kernelspec": {
   "display_name": "Python 3 (ipykernel)",
   "language": "python",
   "name": "python3"
  },
  "language_info": {
   "codemirror_mode": {
    "name": "ipython",
    "version": 3
   },
   "file_extension": ".py",
   "mimetype": "text/x-python",
   "name": "python",
   "nbconvert_exporter": "python",
   "pygments_lexer": "ipython3",
   "version": "3.12.4"
  }
 },
 "nbformat": 4,
 "nbformat_minor": 5
}
