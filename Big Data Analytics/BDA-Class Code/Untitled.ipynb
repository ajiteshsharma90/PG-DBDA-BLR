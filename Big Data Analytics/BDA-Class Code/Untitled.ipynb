{
 "cells": [
  {
   "cell_type": "code",
   "execution_count": 1,
   "id": "3f06eecc-a2a4-4e7a-a371-07314314f288",
   "metadata": {},
   "outputs": [],
   "source": [
    "from pyspark import SparkConf, SparkContext\n",
    "from pyspark.sql import SparkSession\n",
    "import os"
   ]
  },
  {
   "cell_type": "code",
   "execution_count": 2,
   "id": "8054d423-0c80-4f53-b91b-cc4c9a7dc953",
   "metadata": {},
   "outputs": [
    {
     "name": "stderr",
     "output_type": "stream",
     "text": [
      "\n",
      "KeyboardInterrupt\n",
      "\n"
     ]
    }
   ],
   "source": [
    "python_path = r\"C:\\Users\\AJITESH\\anaconda3\\Scripts\\python.exe\"\n",
    "os.environ['PYSPARK_PYTHON'] = python_path\n",
    "os.environ['PYSPARK_DRIVER_PYTHON'] = python_path\n",
    "os.environ['JAVA_HOME'] = r'C:\\Program Files\\Microsoft\\jdk-17.0.13.11'\n",
    "spark = SparkSession.builder.appName(\"MyApp\").getOrCreate()\n"
   ]
  },
  {
   "cell_type": "code",
   "execution_count": null,
   "id": "b7edadb5-7ddb-4b1c-98b7-686ed461a819",
   "metadata": {},
   "outputs": [],
   "source": [
    "print(spark.sparkContext.getConf().getAll())\n",
    "print(\"PYSPARK_PYTHON:\", os.environ.get('PYSPARK_PYTHON'))\n",
    "print(\"JAVA_HOME:\", os.environ.get('JAVA_HOME'))"
   ]
  },
  {
   "cell_type": "code",
   "execution_count": null,
   "id": "ade5ab79-6c05-4a8c-bb14-db6f81d40fd9",
   "metadata": {},
   "outputs": [],
   "source": [
    "spark"
   ]
  },
  {
   "cell_type": "code",
   "execution_count": null,
   "id": "d8317f2e-a841-446d-a650-cebb357e4fe5",
   "metadata": {},
   "outputs": [],
   "source": [
    "flightData2015 = spark\\\n",
    "  .read\\\n",
    "  .option(\"inferSchema\", \"false\")\\\n",
    "  .option(\"header\", \"true\")\\\n",
    "  .csv(r\"C:\\Users\\AJITESH\\Desktop\\BDA-Class Code\\2015-summary.csv\")"
   ]
  },
  {
   "cell_type": "code",
   "execution_count": null,
   "id": "c60617aa-fed0-46cb-b7c8-023f57b962b7",
   "metadata": {},
   "outputs": [],
   "source": [
    "flightData2015.take(5)"
   ]
  },
  {
   "cell_type": "code",
   "execution_count": null,
   "id": "abd61e9b-b24d-4281-836e-42622257bcf7",
   "metadata": {},
   "outputs": [],
   "source": [
    "type(flightData2015)"
   ]
  },
  {
   "cell_type": "code",
   "execution_count": null,
   "id": "660e0d7f-2c1f-454a-aa1e-a60090874003",
   "metadata": {},
   "outputs": [],
   "source": [
    "flightData2015=flightData2015.toDF(\"dest\",\"source\",\"count\").rdd\n",
    "print(type(flightData2015))\n",
    "print(flightData2015.take(1))\n",
    "print(flightData2015.count())"
   ]
  },
  {
   "cell_type": "code",
   "execution_count": null,
   "id": "1b8f2471-7580-4059-b71d-a9b8f1d643b4",
   "metadata": {},
   "outputs": [],
   "source": [
    "spth=r\"C:\\Users\\AJITESH\\Desktop\\BDA-Class Code\\2015-summary.csv\"\n",
    "sc_flightData2015=spark.sparkContext.textFile(spth)\n",
    "print(type(sc_flightData2015))\n",
    "print(sc_flightData2015.take(2))"
   ]
  },
  {
   "cell_type": "code",
   "execution_count": null,
   "id": "ac40d616-4b43-402a-9f2a-88dbf63ca582",
   "metadata": {},
   "outputs": [],
   "source": [
    "##### convert pandas file to RDD\n",
    "import pandas as pd\n",
    "\n",
    "spth=r\"C:\\Users\\AJITESH\\Desktop\\BDA-Class Code\\2015-summary.csv\"\n",
    "pd_flightData2015=pd.read_csv(spth, header=0)\n",
    "print(type(pd_flightData2015))\n",
    "print(pd_flightData2015.head())\n",
    "pd_flightData2015=spark.createDataFrame(pd_flightData2015).rdd\n",
    "print(type(pd_flightData2015))\n",
    "print(pd_flightData2015.take(1))"
   ]
  },
  {
   "cell_type": "code",
   "execution_count": null,
   "id": "8939a67d-34e6-47a6-9913-2b31f17bb675",
   "metadata": {},
   "outputs": [],
   "source": [
    "myCollection = \"Spark The Definitive Guide : Big Data Processing Made Simple\"\\\n",
    "  .split(\" \")\n",
    "words = spark.sparkContext.parallelize(myCollection, 2)\n",
    "words.take(10)"
   ]
  },
  {
   "cell_type": "code",
   "execution_count": null,
   "id": "5c6c65a7-9517-4d22-8fe5-a3e92c6048bf",
   "metadata": {},
   "outputs": [],
   "source": [
    "##### from a collection of text\n",
    "myCollection = \"Spark The Definitive Guide : Big Data Processing Made Simple\"\\\n",
    "  .split(\" \")\n",
    "words = spark.sparkContext.parallelize(myCollection, 2)\n",
    "\n",
    "words.setName(\"myWords\")\n",
    "print(words.name()) # myWords\n",
    "print(type(words))\n",
    "print(words.take(5))\n",
    "words.getNumPartitions()"
   ]
  },
  {
   "cell_type": "code",
   "execution_count": null,
   "id": "5977ca78-2834-4f4a-98d3-e906b71962b6",
   "metadata": {},
   "outputs": [],
   "source": [
    "### from a range of numbers\n",
    "myRange = spark.range(1000000000000).toDF(\"number\").rdd.map(lambda row: row[0])\n",
    "#myRange = spark.range(1000).toDF(\"number\")\n",
    "print(myRange.take(5))\n",
    "print(type(myRange))\n",
    "myRange.getNumPartitions()"
   ]
  },
  {
   "cell_type": "code",
   "execution_count": null,
   "id": "1fd88670-21ea-48d2-93a7-18a91d9d8693",
   "metadata": {},
   "outputs": [],
   "source": []
  }
 ],
 "metadata": {
  "kernelspec": {
   "display_name": "Python 3 (ipykernel)",
   "language": "python",
   "name": "python3"
  },
  "language_info": {
   "codemirror_mode": {
    "name": "ipython",
    "version": 3
   },
   "file_extension": ".py",
   "mimetype": "text/x-python",
   "name": "python",
   "nbconvert_exporter": "python",
   "pygments_lexer": "ipython3",
   "version": "3.12.4"
  }
 },
 "nbformat": 4,
 "nbformat_minor": 5
}
