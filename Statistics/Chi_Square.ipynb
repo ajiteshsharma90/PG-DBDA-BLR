{
  "nbformat": 4,
  "nbformat_minor": 0,
  "metadata": {
    "colab": {
      "provenance": []
    },
    "kernelspec": {
      "name": "python3",
      "display_name": "Python 3"
    },
    "language_info": {
      "name": "python"
    }
  },
  "cells": [
    {
      "cell_type": "markdown",
      "source": [
        "Chi-Square Goodness fit test"
      ],
      "metadata": {
        "id": "Eh-WgAwjYBwe"
      }
    },
    {
      "cell_type": "code",
      "source": [
        "#From the data we can create the following\n",
        "## Observed frequencies\n",
        "f_obs = [190, 185, 90, 35]\n",
        "## Expected frquencies from the percentages expected\n",
        "f_exp = [500*0.35, 500*0.4, 500*.2, 500*0.05]\n",
        "print( f_exp )"
      ],
      "metadata": {
        "colab": {
          "base_uri": "https://localhost:8080/"
        },
        "id": "fYjfpar3YIUv",
        "outputId": "b1e2d50c-f848-45a9-87b9-2449233fc958"
      },
      "execution_count": 1,
      "outputs": [
        {
          "output_type": "stream",
          "name": "stdout",
          "text": [
            "[175.0, 200.0, 100.0, 25.0]\n"
          ]
        }
      ]
    },
    {
      "cell_type": "code",
      "source": [
        "#Conducting test\n",
        "from scipy import stats\n",
        "stats.chisquare( f_obs, f_exp )"
      ],
      "metadata": {
        "colab": {
          "base_uri": "https://localhost:8080/"
        },
        "id": "lVQw0qyGZQtN",
        "outputId": "fd02d0df-dbdb-4d54-e4fe-d14f59505eca"
      },
      "execution_count": 3,
      "outputs": [
        {
          "output_type": "execute_result",
          "data": {
            "text/plain": [
              "Power_divergenceResult(statistic=7.410714285714286, pvalue=0.05989751420084909)"
            ]
          },
          "metadata": {},
          "execution_count": 3
        }
      ]
    },
    {
      "cell_type": "code",
      "source": [
        "#the return is (Chi-Statistics,p)\n",
        "#Since 5.98% probability is more than 5%\n",
        "#Hence hypothesis is accepted"
      ],
      "metadata": {
        "id": "dgomlNpOZ9Ov"
      },
      "execution_count": null,
      "outputs": []
    }
  ]
}